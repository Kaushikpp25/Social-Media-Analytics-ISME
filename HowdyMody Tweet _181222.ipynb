{
 "cells": [
  {
   "cell_type": "code",
   "execution_count": 1,
   "metadata": {},
   "outputs": [],
   "source": [
    "import numpy as np\n",
    "import pandas as pd\n",
    "\n",
    "pd.set_option('display.max_colwidth', -1)\n",
    "pd.set_option('display.max_columns', None)"
   ]
  },
  {
   "cell_type": "code",
   "execution_count": 2,
   "metadata": {},
   "outputs": [
    {
     "data": {
      "text/plain": [
       "'C:\\\\Users\\\\Royal\\\\Downloads'"
      ]
     },
     "execution_count": 2,
     "metadata": {},
     "output_type": "execute_result"
    }
   ],
   "source": [
    "%pwd"
   ]
  },
  {
   "cell_type": "code",
   "execution_count": 11,
   "metadata": {},
   "outputs": [
    {
     "name": "stdout",
     "output_type": "stream",
     "text": [
      "C:\\Users\\Royal\\Desktop\\Kaushik\\TweetScraper-master\n"
     ]
    }
   ],
   "source": [
    "%cd C:\\Users\\Royal\\Desktop\\Kaushik\\TweetScraper-master"
   ]
  },
  {
   "cell_type": "code",
   "execution_count": 14,
   "metadata": {},
   "outputs": [],
   "source": [
    "hm=pd.read_csv('HowdyModyTweets.csv',sep=\",\")"
   ]
  },
  {
   "cell_type": "code",
   "execution_count": 15,
   "metadata": {
    "scrolled": true
   },
   "outputs": [
    {
     "data": {
      "text/html": [
       "<div>\n",
       "<style scoped>\n",
       "    .dataframe tbody tr th:only-of-type {\n",
       "        vertical-align: middle;\n",
       "    }\n",
       "\n",
       "    .dataframe tbody tr th {\n",
       "        vertical-align: top;\n",
       "    }\n",
       "\n",
       "    .dataframe thead th {\n",
       "        text-align: right;\n",
       "    }\n",
       "</style>\n",
       "<table border=\"1\" class=\"dataframe\">\n",
       "  <thead>\n",
       "    <tr style=\"text-align: right;\">\n",
       "      <th></th>\n",
       "      <th>ID</th>\n",
       "      <th>datetime</th>\n",
       "      <th>has_media</th>\n",
       "      <th>is_reply</th>\n",
       "      <th>is_retweet</th>\n",
       "      <th>medias</th>\n",
       "      <th>nbr_favorite</th>\n",
       "      <th>nbr_reply</th>\n",
       "      <th>nbr_retweet</th>\n",
       "      <th>text</th>\n",
       "      <th>url</th>\n",
       "      <th>user_id</th>\n",
       "      <th>usernameTweet</th>\n",
       "    </tr>\n",
       "  </thead>\n",
       "  <tbody>\n",
       "    <tr>\n",
       "      <th>0</th>\n",
       "      <td>1175228864072581121</td>\n",
       "      <td>2019-09-21 07:32:50</td>\n",
       "      <td>NaN</td>\n",
       "      <td>False</td>\n",
       "      <td>False</td>\n",
       "      <td>NaN</td>\n",
       "      <td>85</td>\n",
       "      <td>0</td>\n",
       "      <td>9</td>\n",
       "      <td>all the best for #HowdyMody     https:// twitter.com/DevangVDave/st atus/1175205257690804224   …</td>\n",
       "      <td>/WeRajputana/status/1175228864072581121</td>\n",
       "      <td>1174866939987914752</td>\n",
       "      <td>WeRajputana</td>\n",
       "    </tr>\n",
       "    <tr>\n",
       "      <th>1</th>\n",
       "      <td>1175229527556931584</td>\n",
       "      <td>2019-09-21 07:35:28</td>\n",
       "      <td>NaN</td>\n",
       "      <td>True</td>\n",
       "      <td>False</td>\n",
       "      <td>NaN</td>\n",
       "      <td>0</td>\n",
       "      <td>0</td>\n",
       "      <td>0</td>\n",
       "      <td>Biggest event is Indian economy Modi is failed event manager reduced to self mythologising events please analyse correctly #HowdyMody  #SaturdayMorning</td>\n",
       "      <td>/cvisuali/status/1175229527556931584</td>\n",
       "      <td>381598528</td>\n",
       "      <td>cvisuali</td>\n",
       "    </tr>\n",
       "    <tr>\n",
       "      <th>2</th>\n",
       "      <td>1175230255889436672</td>\n",
       "      <td>2019-09-21 07:38:22</td>\n",
       "      <td>NaN</td>\n",
       "      <td>False</td>\n",
       "      <td>False</td>\n",
       "      <td>NaN</td>\n",
       "      <td>4</td>\n",
       "      <td>0</td>\n",
       "      <td>0</td>\n",
       "      <td>I'm eagerly waiting for our PM speech in USA with president Trump. One isthe leader of  the world largest democracy and other is the leader of world oldest democracy share the platform together in howdy\\n#HowdyMody  @narendramodi  @POTUS</td>\n",
       "      <td>/SachinSengar16/status/1175230255889436672</td>\n",
       "      <td>804696881813012481</td>\n",
       "      <td>SachinSengar16</td>\n",
       "    </tr>\n",
       "    <tr>\n",
       "      <th>3</th>\n",
       "      <td>1175230426736033794</td>\n",
       "      <td>2019-09-21 07:39:03</td>\n",
       "      <td>NaN</td>\n",
       "      <td>False</td>\n",
       "      <td>False</td>\n",
       "      <td>NaN</td>\n",
       "      <td>51</td>\n",
       "      <td>5</td>\n",
       "      <td>19</td>\n",
       "      <td>This is the real face of Islam. Normalising radical behaviour is dangerous. Let's remember jihad and Sharia are integral part of Muslim culture. \\n#DrQadriGreatReformer  #HowdyEnvy  #HowdyMody   pic.twitter.com/xs5UGAHzgC</td>\n",
       "      <td>/Xmuslim_Kafir/status/1175230426736033794</td>\n",
       "      <td>757283819971981312</td>\n",
       "      <td>Xmuslim_Kafir</td>\n",
       "    </tr>\n",
       "    <tr>\n",
       "      <th>4</th>\n",
       "      <td>1175231357447917569</td>\n",
       "      <td>2019-09-21 07:42:45</td>\n",
       "      <td>NaN</td>\n",
       "      <td>False</td>\n",
       "      <td>False</td>\n",
       "      <td>NaN</td>\n",
       "      <td>42</td>\n",
       "      <td>0</td>\n",
       "      <td>3</td>\n",
       "      <td>Good Morning , Have a great day  \\n#HowdyMody   pic.twitter.com/GgeJzckTRs</td>\n",
       "      <td>/lckiims/status/1175231357447917569</td>\n",
       "      <td>1378682101</td>\n",
       "      <td>lckiims</td>\n",
       "    </tr>\n",
       "  </tbody>\n",
       "</table>\n",
       "</div>"
      ],
      "text/plain": [
       "                    ID             datetime has_media  is_reply  is_retweet  \\\n",
       "0  1175228864072581121  2019-09-21 07:32:50  NaN       False     False        \n",
       "1  1175229527556931584  2019-09-21 07:35:28  NaN       True      False        \n",
       "2  1175230255889436672  2019-09-21 07:38:22  NaN       False     False        \n",
       "3  1175230426736033794  2019-09-21 07:39:03  NaN       False     False        \n",
       "4  1175231357447917569  2019-09-21 07:42:45  NaN       False     False        \n",
       "\n",
       "  medias  nbr_favorite  nbr_reply  nbr_retweet  \\\n",
       "0  NaN    85            0          9             \n",
       "1  NaN    0             0          0             \n",
       "2  NaN    4             0          0             \n",
       "3  NaN    51            5          19            \n",
       "4  NaN    42            0          3             \n",
       "\n",
       "                                                                                                                                                                                                                                            text  \\\n",
       "0  all the best for #HowdyMody     https:// twitter.com/DevangVDave/st atus/1175205257690804224   …                                                                                                                                                \n",
       "1   Biggest event is Indian economy Modi is failed event manager reduced to self mythologising events please analyse correctly #HowdyMody  #SaturdayMorning                                                                                        \n",
       "2  I'm eagerly waiting for our PM speech in USA with president Trump. One isthe leader of  the world largest democracy and other is the leader of world oldest democracy share the platform together in howdy\\n#HowdyMody  @narendramodi  @POTUS   \n",
       "3  This is the real face of Islam. Normalising radical behaviour is dangerous. Let's remember jihad and Sharia are integral part of Muslim culture. \\n#DrQadriGreatReformer  #HowdyEnvy  #HowdyMody   pic.twitter.com/xs5UGAHzgC                   \n",
       "4  Good Morning , Have a great day  \\n#HowdyMody   pic.twitter.com/GgeJzckTRs                                                                                                                                                                      \n",
       "\n",
       "                                          url              user_id  \\\n",
       "0  /WeRajputana/status/1175228864072581121     1174866939987914752   \n",
       "1  /cvisuali/status/1175229527556931584        381598528             \n",
       "2  /SachinSengar16/status/1175230255889436672  804696881813012481    \n",
       "3  /Xmuslim_Kafir/status/1175230426736033794   757283819971981312    \n",
       "4  /lckiims/status/1175231357447917569         1378682101            \n",
       "\n",
       "    usernameTweet  \n",
       "0  WeRajputana     \n",
       "1  cvisuali        \n",
       "2  SachinSengar16  \n",
       "3  Xmuslim_Kafir   \n",
       "4  lckiims         "
      ]
     },
     "execution_count": 15,
     "metadata": {},
     "output_type": "execute_result"
    }
   ],
   "source": [
    "hm.head()"
   ]
  },
  {
   "cell_type": "code",
   "execution_count": 16,
   "metadata": {},
   "outputs": [
    {
     "name": "stdout",
     "output_type": "stream",
     "text": [
      "<class 'pandas.core.frame.DataFrame'>\n",
      "RangeIndex: 16924 entries, 0 to 16923\n",
      "Data columns (total 13 columns):\n",
      "ID               16924 non-null int64\n",
      "datetime         16924 non-null object\n",
      "has_media        757 non-null object\n",
      "is_reply         16924 non-null bool\n",
      "is_retweet       16924 non-null bool\n",
      "medias           757 non-null object\n",
      "nbr_favorite     16924 non-null int64\n",
      "nbr_reply        16924 non-null int64\n",
      "nbr_retweet      16924 non-null int64\n",
      "text             16924 non-null object\n",
      "url              16924 non-null object\n",
      "user_id          16924 non-null int64\n",
      "usernameTweet    16924 non-null object\n",
      "dtypes: bool(2), int64(5), object(6)\n",
      "memory usage: 1.5+ MB\n"
     ]
    }
   ],
   "source": [
    "hm.info()"
   ]
  },
  {
   "cell_type": "code",
   "execution_count": 19,
   "metadata": {},
   "outputs": [],
   "source": [
    "tweet=hm.copy()"
   ]
  },
  {
   "cell_type": "code",
   "execution_count": 20,
   "metadata": {},
   "outputs": [
    {
     "name": "stdout",
     "output_type": "stream",
     "text": [
      "<class 'pandas.core.frame.DataFrame'>\n",
      "RangeIndex: 16924 entries, 0 to 16923\n",
      "Data columns (total 13 columns):\n",
      "ID               16924 non-null int64\n",
      "datetime         16924 non-null object\n",
      "has_media        757 non-null object\n",
      "is_reply         16924 non-null bool\n",
      "is_retweet       16924 non-null bool\n",
      "medias           757 non-null object\n",
      "nbr_favorite     16924 non-null int64\n",
      "nbr_reply        16924 non-null int64\n",
      "nbr_retweet      16924 non-null int64\n",
      "text             16924 non-null object\n",
      "url              16924 non-null object\n",
      "user_id          16924 non-null int64\n",
      "usernameTweet    16924 non-null object\n",
      "dtypes: bool(2), int64(5), object(6)\n",
      "memory usage: 1.5+ MB\n"
     ]
    }
   ],
   "source": [
    "tweet.info()"
   ]
  },
  {
   "cell_type": "markdown",
   "metadata": {},
   "source": [
    "## HowdyModyTweet 21st Sept 2019 to 30th Sept 2019"
   ]
  },
  {
   "cell_type": "code",
   "execution_count": 21,
   "metadata": {},
   "outputs": [
    {
     "data": {
      "text/plain": [
       "16924"
      ]
     },
     "execution_count": 21,
     "metadata": {},
     "output_type": "execute_result"
    }
   ],
   "source": [
    "len(tweet['text'])"
   ]
  },
  {
   "cell_type": "markdown",
   "metadata": {},
   "source": [
    "## HowdyMody has a total of 16924 tweets in the data frame"
   ]
  },
  {
   "cell_type": "code",
   "execution_count": 22,
   "metadata": {},
   "outputs": [
    {
     "data": {
      "text/plain": [
       "Index(['ID', 'datetime', 'has_media', 'is_reply', 'is_retweet', 'medias',\n",
       "       'nbr_favorite', 'nbr_reply', 'nbr_retweet', 'text', 'url', 'user_id',\n",
       "       'usernameTweet'],\n",
       "      dtype='object')"
      ]
     },
     "execution_count": 22,
     "metadata": {},
     "output_type": "execute_result"
    }
   ],
   "source": [
    "tweet.columns"
   ]
  },
  {
   "cell_type": "code",
   "execution_count": 23,
   "metadata": {},
   "outputs": [],
   "source": [
    "tweet=tweet.drop(columns=['ID','has_media', 'is_reply', 'medias', 'url', 'user_id','usernameTweet'])"
   ]
  },
  {
   "cell_type": "code",
   "execution_count": 24,
   "metadata": {
    "scrolled": true
   },
   "outputs": [
    {
     "data": {
      "text/html": [
       "<div>\n",
       "<style scoped>\n",
       "    .dataframe tbody tr th:only-of-type {\n",
       "        vertical-align: middle;\n",
       "    }\n",
       "\n",
       "    .dataframe tbody tr th {\n",
       "        vertical-align: top;\n",
       "    }\n",
       "\n",
       "    .dataframe thead th {\n",
       "        text-align: right;\n",
       "    }\n",
       "</style>\n",
       "<table border=\"1\" class=\"dataframe\">\n",
       "  <thead>\n",
       "    <tr style=\"text-align: right;\">\n",
       "      <th></th>\n",
       "      <th>datetime</th>\n",
       "      <th>is_retweet</th>\n",
       "      <th>nbr_favorite</th>\n",
       "      <th>nbr_reply</th>\n",
       "      <th>nbr_retweet</th>\n",
       "      <th>text</th>\n",
       "    </tr>\n",
       "  </thead>\n",
       "  <tbody>\n",
       "    <tr>\n",
       "      <th>7700</th>\n",
       "      <td>2019-09-22 23:14:53</td>\n",
       "      <td>False</td>\n",
       "      <td>0</td>\n",
       "      <td>0</td>\n",
       "      <td>0</td>\n",
       "      <td>Keep in mind, with just one tweet trump can cancel every promise he has made anytime \\n\\n#HowdyMody</td>\n",
       "    </tr>\n",
       "    <tr>\n",
       "      <th>12484</th>\n",
       "      <td>2019-09-23 00:58:43</td>\n",
       "      <td>False</td>\n",
       "      <td>2</td>\n",
       "      <td>0</td>\n",
       "      <td>0</td>\n",
       "      <td>India has indeed arrived on the global arena as never before...\\n\\n#HowdyModi  #HowdyMody  #NRGStadium pic.twitter.com/AfnxXsuBkL</td>\n",
       "    </tr>\n",
       "    <tr>\n",
       "      <th>11304</th>\n",
       "      <td>2019-09-23 00:20:12</td>\n",
       "      <td>False</td>\n",
       "      <td>0</td>\n",
       "      <td>0</td>\n",
       "      <td>0</td>\n",
       "      <td>God has given two gifts to every single human: mind and  time. \\n\\nLook how Modi is using both in construction. \\nOn the other hand, it is Imran Khan.\\n\\n#HowdyModi  #HowdyMody  #Texas  #DonaldTrump  #ModiInUSA  #ModiInHouston  #MODIfied100  #ModiTrumpDosti  #ModiHaiToMumkinHai  #ImranKhan</td>\n",
       "    </tr>\n",
       "    <tr>\n",
       "      <th>10865</th>\n",
       "      <td>2019-09-23 00:07:19</td>\n",
       "      <td>False</td>\n",
       "      <td>26</td>\n",
       "      <td>2</td>\n",
       "      <td>7</td>\n",
       "      <td># HowdyModi \\n\\n#HowdyModi \\n#HowdyMody  \\n#ModiInHouston  \\n#ModiInUSA  \\n#ModiTrumpDosti  \\n\\nHow is the Josh my dear Indians ? \\n\\nGoosebumps  pic.twitter.com/KlW7SvmmTk</td>\n",
       "    </tr>\n",
       "    <tr>\n",
       "      <th>7906</th>\n",
       "      <td>2019-09-22 23:16:37</td>\n",
       "      <td>False</td>\n",
       "      <td>0</td>\n",
       "      <td>0</td>\n",
       "      <td>1</td>\n",
       "      <td>\"islamic Terrorism\" term introduced to the world in #HowdyMody  event by president Trump. This is going to cause itching in congress is and leftists. Great Mr. Donald Trump.</td>\n",
       "    </tr>\n",
       "  </tbody>\n",
       "</table>\n",
       "</div>"
      ],
      "text/plain": [
       "                  datetime  is_retweet  nbr_favorite  nbr_reply  nbr_retweet  \\\n",
       "7700   2019-09-22 23:14:53  False       0             0          0             \n",
       "12484  2019-09-23 00:58:43  False       2             0          0             \n",
       "11304  2019-09-23 00:20:12  False       0             0          0             \n",
       "10865  2019-09-23 00:07:19  False       26            2          7             \n",
       "7906   2019-09-22 23:16:37  False       0             0          1             \n",
       "\n",
       "                                                                                                                                                                                                                                                                                                     text  \n",
       "7700   Keep in mind, with just one tweet trump can cancel every promise he has made anytime \\n\\n#HowdyMody                                                                                                                                                                                                 \n",
       "12484  India has indeed arrived on the global arena as never before...\\n\\n#HowdyModi  #HowdyMody  #NRGStadium pic.twitter.com/AfnxXsuBkL                                                                                                                                                                   \n",
       "11304  God has given two gifts to every single human: mind and  time. \\n\\nLook how Modi is using both in construction. \\nOn the other hand, it is Imran Khan.\\n\\n#HowdyModi  #HowdyMody  #Texas  #DonaldTrump  #ModiInUSA  #ModiInHouston  #MODIfied100  #ModiTrumpDosti  #ModiHaiToMumkinHai  #ImranKhan  \n",
       "10865  # HowdyModi \\n\\n#HowdyModi \\n#HowdyMody  \\n#ModiInHouston  \\n#ModiInUSA  \\n#ModiTrumpDosti  \\n\\nHow is the Josh my dear Indians ? \\n\\nGoosebumps  pic.twitter.com/KlW7SvmmTk                                                                                                                        \n",
       "7906   \"islamic Terrorism\" term introduced to the world in #HowdyMody  event by president Trump. This is going to cause itching in congress is and leftists. Great Mr. Donald Trump.                                                                                                                       "
      ]
     },
     "execution_count": 24,
     "metadata": {},
     "output_type": "execute_result"
    }
   ],
   "source": [
    "tweet.sample(5)"
   ]
  },
  {
   "cell_type": "code",
   "execution_count": 25,
   "metadata": {},
   "outputs": [
    {
     "name": "stdout",
     "output_type": "stream",
     "text": [
      "<class 'pandas.core.frame.DataFrame'>\n",
      "RangeIndex: 16924 entries, 0 to 16923\n",
      "Data columns (total 6 columns):\n",
      "datetime        16924 non-null object\n",
      "is_retweet      16924 non-null bool\n",
      "nbr_favorite    16924 non-null int64\n",
      "nbr_reply       16924 non-null int64\n",
      "nbr_retweet     16924 non-null int64\n",
      "text            16924 non-null object\n",
      "dtypes: bool(1), int64(3), object(2)\n",
      "memory usage: 677.7+ KB\n"
     ]
    }
   ],
   "source": [
    "tweet.info()"
   ]
  },
  {
   "cell_type": "code",
   "execution_count": 26,
   "metadata": {},
   "outputs": [
    {
     "data": {
      "text/plain": [
       "0    all the best for #HowdyMody     https:// twitter.com/DevangVDave/st atus/1175205257690804224   …                                                                                                                                             \n",
       "1     Biggest event is Indian economy Modi is failed event manager reduced to self mythologising events please analyse correctly #HowdyMody  #SaturdayMorning                                                                                     \n",
       "2    I'm eagerly waiting for our PM speech in USA with president Trump. One isthe leader of  the world largest democracy and other is the leader of world oldest democracy share the platform together in howdy\\n#HowdyMody  @narendramodi  @POTUS\n",
       "3    This is the real face of Islam. Normalising radical behaviour is dangerous. Let's remember jihad and Sharia are integral part of Muslim culture. \\n#DrQadriGreatReformer  #HowdyEnvy  #HowdyMody   pic.twitter.com/xs5UGAHzgC                \n",
       "4    Good Morning , Have a great day  \\n#HowdyMody   pic.twitter.com/GgeJzckTRs                                                                                                                                                                   \n",
       "Name: text, dtype: object"
      ]
     },
     "execution_count": 26,
     "metadata": {},
     "output_type": "execute_result"
    }
   ],
   "source": [
    "tweet['text'].head()"
   ]
  },
  {
   "cell_type": "code",
   "execution_count": 28,
   "metadata": {},
   "outputs": [],
   "source": [
    "import re\n",
    "import string"
   ]
  },
  {
   "cell_type": "markdown",
   "metadata": {},
   "source": [
    "## Let us remove the urls and user mentions (@..)"
   ]
  },
  {
   "cell_type": "code",
   "execution_count": 29,
   "metadata": {},
   "outputs": [
    {
     "data": {
      "text/html": [
       "<div>\n",
       "<style scoped>\n",
       "    .dataframe tbody tr th:only-of-type {\n",
       "        vertical-align: middle;\n",
       "    }\n",
       "\n",
       "    .dataframe tbody tr th {\n",
       "        vertical-align: top;\n",
       "    }\n",
       "\n",
       "    .dataframe thead th {\n",
       "        text-align: right;\n",
       "    }\n",
       "</style>\n",
       "<table border=\"1\" class=\"dataframe\">\n",
       "  <thead>\n",
       "    <tr style=\"text-align: right;\">\n",
       "      <th></th>\n",
       "      <th>datetime</th>\n",
       "      <th>is_retweet</th>\n",
       "      <th>nbr_favorite</th>\n",
       "      <th>nbr_reply</th>\n",
       "      <th>nbr_retweet</th>\n",
       "      <th>text</th>\n",
       "    </tr>\n",
       "  </thead>\n",
       "  <tbody>\n",
       "    <tr>\n",
       "      <th>234</th>\n",
       "      <td>2019-09-21 16:40:15</td>\n",
       "      <td>False</td>\n",
       "      <td>1</td>\n",
       "      <td>0</td>\n",
       "      <td>0</td>\n",
       "      <td>https:// youtu.be/IOK5QR0f9u8   \\nThese people are sick Khalistani supporter we say this guy saying nonsense about our PM. I don't understand why @ThePrintIndia  is becoming their mouth piece by giving them this platform. Is the The print enjoying it. @AmitShah  ji @BJP4India  \\n#HowdyMody</td>\n",
       "    </tr>\n",
       "    <tr>\n",
       "      <th>14532</th>\n",
       "      <td>2019-09-23 09:27:22</td>\n",
       "      <td>False</td>\n",
       "      <td>0</td>\n",
       "      <td>0</td>\n",
       "      <td>0</td>\n",
       "      <td>True that Howdy Modi has left an indelible footprint of a very very strong India on world map . \\nA Historic day in world politics ! \\n@AmitShah  @PMOIndia  @Indiagovin  @narendramodi  @ArvindKejriwal  @CMO_Odisha  @msisodia  @realDonaldTrump  \\n#HowdyModi  #HowdyMody  #Houston https:// twitter.com/AmitShah/statu s/1175843374479204353   …</td>\n",
       "    </tr>\n",
       "    <tr>\n",
       "      <th>725</th>\n",
       "      <td>2019-09-21 22:17:19</td>\n",
       "      <td>False</td>\n",
       "      <td>5</td>\n",
       "      <td>0</td>\n",
       "      <td>0</td>\n",
       "      <td>Proud, that's the only word to describe this feeling  \\n\\nBurnal is ready for Congress and Pakistan..\\n#Namo   \\n#HowdyMody  \\n#ModiTrumpDosti pic.twitter.com/Du7xNnmdhK</td>\n",
       "    </tr>\n",
       "    <tr>\n",
       "      <th>12185</th>\n",
       "      <td>2019-09-23 00:45:35</td>\n",
       "      <td>False</td>\n",
       "      <td>0</td>\n",
       "      <td>0</td>\n",
       "      <td>0</td>\n",
       "      <td>@ WhiteHouse \\n So how many Indian Votes PM secured for American President ? \\n\\nEk Hath Le Ek Hath de ..\\n\\n#HowdyMody  #WashingtonDC</td>\n",
       "    </tr>\n",
       "    <tr>\n",
       "      <th>12635</th>\n",
       "      <td>2019-09-23 01:07:50</td>\n",
       "      <td>False</td>\n",
       "      <td>1</td>\n",
       "      <td>0</td>\n",
       "      <td>0</td>\n",
       "      <td>A man who was denied US visa in 2002 bags the limelight and given #HowdyMody  in 2019. \\nNow thats what i call a comeback and \"in your face\". Thats the spirit   #TrumpRally  #ImranKhan  #ModiInHouston  #Modi  #ModiInUSA pic.twitter.com/ajJTw1LrZI</td>\n",
       "    </tr>\n",
       "  </tbody>\n",
       "</table>\n",
       "</div>"
      ],
      "text/plain": [
       "                  datetime  is_retweet  nbr_favorite  nbr_reply  nbr_retweet  \\\n",
       "234    2019-09-21 16:40:15  False       1             0          0             \n",
       "14532  2019-09-23 09:27:22  False       0             0          0             \n",
       "725    2019-09-21 22:17:19  False       5             0          0             \n",
       "12185  2019-09-23 00:45:35  False       0             0          0             \n",
       "12635  2019-09-23 01:07:50  False       1             0          0             \n",
       "\n",
       "                                                                                                                                                                                                                                                                                                                                                       text  \n",
       "234    https:// youtu.be/IOK5QR0f9u8   \\nThese people are sick Khalistani supporter we say this guy saying nonsense about our PM. I don't understand why @ThePrintIndia  is becoming their mouth piece by giving them this platform. Is the The print enjoying it. @AmitShah  ji @BJP4India  \\n#HowdyMody                                                    \n",
       "14532  True that Howdy Modi has left an indelible footprint of a very very strong India on world map . \\nA Historic day in world politics ! \\n@AmitShah  @PMOIndia  @Indiagovin  @narendramodi  @ArvindKejriwal  @CMO_Odisha  @msisodia  @realDonaldTrump  \\n#HowdyModi  #HowdyMody  #Houston https:// twitter.com/AmitShah/statu s/1175843374479204353   …  \n",
       "725    Proud, that's the only word to describe this feeling  \\n\\nBurnal is ready for Congress and Pakistan..\\n#Namo   \\n#HowdyMody  \\n#ModiTrumpDosti pic.twitter.com/Du7xNnmdhK                                                                                                                                                                             \n",
       "12185  @ WhiteHouse \\n So how many Indian Votes PM secured for American President ? \\n\\nEk Hath Le Ek Hath de ..\\n\\n#HowdyMody  #WashingtonDC                                                                                                                                                                                                                \n",
       "12635  A man who was denied US visa in 2002 bags the limelight and given #HowdyMody  in 2019. \\nNow thats what i call a comeback and \"in your face\". Thats the spirit   #TrumpRally  #ImranKhan  #ModiInHouston  #Modi  #ModiInUSA pic.twitter.com/ajJTw1LrZI                                                                                                "
      ]
     },
     "execution_count": 29,
     "metadata": {},
     "output_type": "execute_result"
    }
   ],
   "source": [
    "tweet.sample(5)"
   ]
  },
  {
   "cell_type": "code",
   "execution_count": 30,
   "metadata": {},
   "outputs": [],
   "source": [
    "def clean_text(text):\n",
    "    text=text.replace('\\n','')\n",
    "    text=re.sub(r'https?:\\/\\/.*[\\r\\n]*', '', text)\n",
    "    text=re.sub(\"@\\s*\\S+\",\"\",text)\n",
    "    text_cleaned=re.sub(\"pic.\\S+\",\"\",text)\n",
    "    \n",
    "    return text_cleaned"
   ]
  },
  {
   "cell_type": "code",
   "execution_count": 31,
   "metadata": {},
   "outputs": [],
   "source": [
    "tweet['cleaned_tweet']=tweet['text'].apply(lambda x:clean_text(x))"
   ]
  },
  {
   "cell_type": "code",
   "execution_count": 32,
   "metadata": {
    "scrolled": true
   },
   "outputs": [
    {
     "data": {
      "text/html": [
       "<div>\n",
       "<style scoped>\n",
       "    .dataframe tbody tr th:only-of-type {\n",
       "        vertical-align: middle;\n",
       "    }\n",
       "\n",
       "    .dataframe tbody tr th {\n",
       "        vertical-align: top;\n",
       "    }\n",
       "\n",
       "    .dataframe thead th {\n",
       "        text-align: right;\n",
       "    }\n",
       "</style>\n",
       "<table border=\"1\" class=\"dataframe\">\n",
       "  <thead>\n",
       "    <tr style=\"text-align: right;\">\n",
       "      <th></th>\n",
       "      <th>datetime</th>\n",
       "      <th>is_retweet</th>\n",
       "      <th>nbr_favorite</th>\n",
       "      <th>nbr_reply</th>\n",
       "      <th>nbr_retweet</th>\n",
       "      <th>text</th>\n",
       "      <th>cleaned_tweet</th>\n",
       "    </tr>\n",
       "  </thead>\n",
       "  <tbody>\n",
       "    <tr>\n",
       "      <th>2522</th>\n",
       "      <td>2019-09-22 16:12:03</td>\n",
       "      <td>False</td>\n",
       "      <td>0</td>\n",
       "      <td>0</td>\n",
       "      <td>0</td>\n",
       "      <td>I had an excellent interaction with the Sikh Community in Houston.\\n\\n#HowdyModi  #HowdyMody  \\n\\n@narendramodi  @PMOIndia  @NamoApp  @narendramodi_in  \\n\\n@SevaSaptah   https://twitter.com/SevaSaptah/status/1175721015923503104/photo/1 pic.twitter.com/85w07VJ9cD</td>\n",
       "      <td>I had an excellent interaction with the Sikh Community in Houston.#HowdyModi  #HowdyMody</td>\n",
       "    </tr>\n",
       "    <tr>\n",
       "      <th>1245</th>\n",
       "      <td>2019-09-22 08:09:15</td>\n",
       "      <td>False</td>\n",
       "      <td>1</td>\n",
       "      <td>0</td>\n",
       "      <td>0</td>\n",
       "      <td># HowdyMody  Chha Gaya Texas mein. Presidentcial candidate Tulsi Gabard n about 60 Democrat n Republic MP will attend the function. PM #Modi  may visit Akshardham along with other temples.1st time #American  President will share Di asu with Foreign Head. @huston  @BBCWorld   @ZeeNews</td>\n",
       "      <td># HowdyMody  Chha Gaya Texas mein. Presidentcial candidate Tulsi Gabard n about 60 Democrat n Republic MP will attend the function. PM #Modi  may visit Akshardham along with other temples.1st time #American  President will share Di asu with Foreign Head.</td>\n",
       "    </tr>\n",
       "    <tr>\n",
       "      <th>13789</th>\n",
       "      <td>2019-09-23 07:31:24</td>\n",
       "      <td>False</td>\n",
       "      <td>0</td>\n",
       "      <td>0</td>\n",
       "      <td>0</td>\n",
       "      <td>Real rock star @narendramodi  #HowdyMody   pic.twitter.com/KPC15iwIo0</td>\n",
       "      <td>Real rock star   #HowdyMody</td>\n",
       "    </tr>\n",
       "    <tr>\n",
       "      <th>10064</th>\n",
       "      <td>2019-09-22 23:51:38</td>\n",
       "      <td>False</td>\n",
       "      <td>1</td>\n",
       "      <td>0</td>\n",
       "      <td>1</td>\n",
       "      <td>Sports channels: #INDvsSA  \\nNews Channels :#HowdyMody  \\nD.D news; #ModiInUSA  \\n\\n.\\n.\\nSet Max; Suryavansham  pic.twitter.com/0CgkRLTGWw</td>\n",
       "      <td>Sports channels: #INDvsSA  News Channels :#HowdyMody  D.D news; #ModiInUSA  ..Set Max; Suryavansham</td>\n",
       "    </tr>\n",
       "    <tr>\n",
       "      <th>15341</th>\n",
       "      <td>2019-09-23 16:56:27</td>\n",
       "      <td>False</td>\n",
       "      <td>0</td>\n",
       "      <td>0</td>\n",
       "      <td>0</td>\n",
       "      <td>RT AkbaruddinIndia: News of Houston reaches New York\\n\\nThose,like me, who couldn't make it to the watershed #HowdyMody   event in Houston are now gleaning glimpses of history from news headlines,while gulping morning beverages...    pic.twitter.com/4zDXmsPRnD</td>\n",
       "      <td>RT AkbaruddinIndia: News of Houston reaches New YorkThose,like me, who couldn't make it to the watershed #HowdyMody   event in Houston are now gleaning glimpses of history from news headlines,while gulping morning beverages...</td>\n",
       "    </tr>\n",
       "  </tbody>\n",
       "</table>\n",
       "</div>"
      ],
      "text/plain": [
       "                  datetime  is_retweet  nbr_favorite  nbr_reply  nbr_retweet  \\\n",
       "2522   2019-09-22 16:12:03  False       0             0          0             \n",
       "1245   2019-09-22 08:09:15  False       1             0          0             \n",
       "13789  2019-09-23 07:31:24  False       0             0          0             \n",
       "10064  2019-09-22 23:51:38  False       1             0          1             \n",
       "15341  2019-09-23 16:56:27  False       0             0          0             \n",
       "\n",
       "                                                                                                                                                                                                                                                                                               text  \\\n",
       "2522   I had an excellent interaction with the Sikh Community in Houston.\\n\\n#HowdyModi  #HowdyMody  \\n\\n@narendramodi  @PMOIndia  @NamoApp  @narendramodi_in  \\n\\n@SevaSaptah   https://twitter.com/SevaSaptah/status/1175721015923503104/photo/1 pic.twitter.com/85w07VJ9cD                         \n",
       "1245   # HowdyMody  Chha Gaya Texas mein. Presidentcial candidate Tulsi Gabard n about 60 Democrat n Republic MP will attend the function. PM #Modi  may visit Akshardham along with other temples.1st time #American  President will share Di asu with Foreign Head. @huston  @BBCWorld   @ZeeNews   \n",
       "13789  Real rock star @narendramodi  #HowdyMody   pic.twitter.com/KPC15iwIo0                                                                                                                                                                                                                          \n",
       "10064  Sports channels: #INDvsSA  \\nNews Channels :#HowdyMody  \\nD.D news; #ModiInUSA  \\n\\n.\\n.\\nSet Max; Suryavansham  pic.twitter.com/0CgkRLTGWw                                                                                                                                                    \n",
       "15341  RT AkbaruddinIndia: News of Houston reaches New York\\n\\nThose,like me, who couldn't make it to the watershed #HowdyMody   event in Houston are now gleaning glimpses of history from news headlines,while gulping morning beverages...    pic.twitter.com/4zDXmsPRnD                           \n",
       "\n",
       "                                                                                                                                                                                                                                                              cleaned_tweet  \n",
       "2522   I had an excellent interaction with the Sikh Community in Houston.#HowdyModi  #HowdyMody                                                                                                                                                                              \n",
       "1245   # HowdyMody  Chha Gaya Texas mein. Presidentcial candidate Tulsi Gabard n about 60 Democrat n Republic MP will attend the function. PM #Modi  may visit Akshardham along with other temples.1st time #American  President will share Di asu with Foreign Head.        \n",
       "13789  Real rock star   #HowdyMody                                                                                                                                                                                                                                           \n",
       "10064  Sports channels: #INDvsSA  News Channels :#HowdyMody  D.D news; #ModiInUSA  ..Set Max; Suryavansham                                                                                                                                                                   \n",
       "15341  RT AkbaruddinIndia: News of Houston reaches New YorkThose,like me, who couldn't make it to the watershed #HowdyMody   event in Houston are now gleaning glimpses of history from news headlines,while gulping morning beverages...                                    "
      ]
     },
     "execution_count": 32,
     "metadata": {},
     "output_type": "execute_result"
    }
   ],
   "source": [
    "tweet.sample(5)"
   ]
  },
  {
   "cell_type": "code",
   "execution_count": 33,
   "metadata": {},
   "outputs": [],
   "source": [
    "def extract_hashtags(text):\n",
    "    tags=\" \".join(re.findall('#\\s*\\S+',text))\n",
    "    return tags"
   ]
  },
  {
   "cell_type": "code",
   "execution_count": 34,
   "metadata": {},
   "outputs": [],
   "source": [
    "tweet['hashtags']=tweet['cleaned_tweet'].apply(lambda x:extract_hashtags(x))"
   ]
  },
  {
   "cell_type": "code",
   "execution_count": 35,
   "metadata": {},
   "outputs": [
    {
     "data": {
      "text/html": [
       "<div>\n",
       "<style scoped>\n",
       "    .dataframe tbody tr th:only-of-type {\n",
       "        vertical-align: middle;\n",
       "    }\n",
       "\n",
       "    .dataframe tbody tr th {\n",
       "        vertical-align: top;\n",
       "    }\n",
       "\n",
       "    .dataframe thead th {\n",
       "        text-align: right;\n",
       "    }\n",
       "</style>\n",
       "<table border=\"1\" class=\"dataframe\">\n",
       "  <thead>\n",
       "    <tr style=\"text-align: right;\">\n",
       "      <th></th>\n",
       "      <th>datetime</th>\n",
       "      <th>is_retweet</th>\n",
       "      <th>nbr_favorite</th>\n",
       "      <th>nbr_reply</th>\n",
       "      <th>nbr_retweet</th>\n",
       "      <th>text</th>\n",
       "      <th>cleaned_tweet</th>\n",
       "      <th>hashtags</th>\n",
       "    </tr>\n",
       "  </thead>\n",
       "  <tbody>\n",
       "    <tr>\n",
       "      <th>11445</th>\n",
       "      <td>2019-09-23 00:22:50</td>\n",
       "      <td>False</td>\n",
       "      <td>8</td>\n",
       "      <td>0</td>\n",
       "      <td>2</td>\n",
       "      <td>'Narendra' at Chicago (1893)\\n\\n 'Narendra' at Houston (2019)\\n\\nProud Moment for Each and Every Indian  \\n#HowdyMody \\n@narendramodi  @realDonaldTrump \\n#HowdyModi  #ModiInHouston pic.twitter.com/zs3w9JDhpn</td>\n",
       "      <td>'Narendra' at Chicago (1893) 'Narendra' at Houston (2019)Proud Moment for Each and Every Indian  #HowdyMody    #HowdyModi  #ModiInHouston</td>\n",
       "      <td>#HowdyMody #HowdyModi #ModiInHouston</td>\n",
       "    </tr>\n",
       "    <tr>\n",
       "      <th>10268</th>\n",
       "      <td>2019-09-22 23:55:34</td>\n",
       "      <td>False</td>\n",
       "      <td>0</td>\n",
       "      <td>0</td>\n",
       "      <td>0</td>\n",
       "      <td># HowdyMody \\n#HowdyModi \\n\\n\"'Go @narendramodi  ' - 'Go \\n@realDonaldTrump \\n ' - Houston, US. Proud of our being. Proud of the community. Proud of India.\"</td>\n",
       "      <td># HowdyMody #HowdyModi \"'Go   ' - 'Go   ' - Houston, US. Proud of our being. Proud of the community. Proud of India.\"</td>\n",
       "      <td># HowdyMody #HowdyModi</td>\n",
       "    </tr>\n",
       "    <tr>\n",
       "      <th>6584</th>\n",
       "      <td>2019-09-22 22:58:03</td>\n",
       "      <td>False</td>\n",
       "      <td>3</td>\n",
       "      <td>0</td>\n",
       "      <td>2</td>\n",
       "      <td>Unprecedented really... @narendramodi  canvassing for @POTUS .. Ab ki baar Trump sarkar. #HowdyMody</td>\n",
       "      <td>Unprecedented really...   canvassing for  .. Ab ki baar Trump sarkar. #HowdyMody</td>\n",
       "      <td>#HowdyMody</td>\n",
       "    </tr>\n",
       "    <tr>\n",
       "      <th>13101</th>\n",
       "      <td>2019-09-23 02:01:10</td>\n",
       "      <td>False</td>\n",
       "      <td>0</td>\n",
       "      <td>0</td>\n",
       "      <td>0</td>\n",
       "      <td># MahatmaGandhi  is the BIGGEST Brand of INDIA. No one can take that away....Politicians will come and go, but for centuries to come, the world will remember Mahatma Gandhi...the father of all Indian brands. The global appeal of Brand Gandhi will never diminish. #HowdyMody</td>\n",
       "      <td># MahatmaGandhi  is the BIGGEST Brand of INDIA. No one can take that away....Politicians will come and go, but for centuries to come, the world will remember Mahatma Gandhi...the father of all Indian brands. The global appeal of Brand Gandhi will never diminish. #HowdyMody</td>\n",
       "      <td># MahatmaGandhi #HowdyMody</td>\n",
       "    </tr>\n",
       "    <tr>\n",
       "      <th>5623</th>\n",
       "      <td>2019-09-22 22:45:09</td>\n",
       "      <td>False</td>\n",
       "      <td>0</td>\n",
       "      <td>0</td>\n",
       "      <td>0</td>\n",
       "      <td>Good morning Houston, We have a problem. #HowdyMody</td>\n",
       "      <td>Good morning Houston, We have a problem. #HowdyMody</td>\n",
       "      <td>#HowdyMody</td>\n",
       "    </tr>\n",
       "  </tbody>\n",
       "</table>\n",
       "</div>"
      ],
      "text/plain": [
       "                  datetime  is_retweet  nbr_favorite  nbr_reply  nbr_retweet  \\\n",
       "11445  2019-09-23 00:22:50  False       8             0          2             \n",
       "10268  2019-09-22 23:55:34  False       0             0          0             \n",
       "6584   2019-09-22 22:58:03  False       3             0          2             \n",
       "13101  2019-09-23 02:01:10  False       0             0          0             \n",
       "5623   2019-09-22 22:45:09  False       0             0          0             \n",
       "\n",
       "                                                                                                                                                                                                                                                                                    text  \\\n",
       "11445  'Narendra' at Chicago (1893)\\n\\n 'Narendra' at Houston (2019)\\n\\nProud Moment for Each and Every Indian  \\n#HowdyMody \\n@narendramodi  @realDonaldTrump \\n#HowdyModi  #ModiInHouston pic.twitter.com/zs3w9JDhpn                                                                     \n",
       "10268  # HowdyMody \\n#HowdyModi \\n\\n\"'Go @narendramodi  ' - 'Go \\n@realDonaldTrump \\n ' - Houston, US. Proud of our being. Proud of the community. Proud of India.\"                                                                                                                        \n",
       "6584   Unprecedented really... @narendramodi  canvassing for @POTUS .. Ab ki baar Trump sarkar. #HowdyMody                                                                                                                                                                                 \n",
       "13101  # MahatmaGandhi  is the BIGGEST Brand of INDIA. No one can take that away....Politicians will come and go, but for centuries to come, the world will remember Mahatma Gandhi...the father of all Indian brands. The global appeal of Brand Gandhi will never diminish. #HowdyMody   \n",
       "5623   Good morning Houston, We have a problem. #HowdyMody                                                                                                                                                                                                                                 \n",
       "\n",
       "                                                                                                                                                                                                                                                                           cleaned_tweet  \\\n",
       "11445  'Narendra' at Chicago (1893) 'Narendra' at Houston (2019)Proud Moment for Each and Every Indian  #HowdyMody    #HowdyModi  #ModiInHouston                                                                                                                                           \n",
       "10268  # HowdyMody #HowdyModi \"'Go   ' - 'Go   ' - Houston, US. Proud of our being. Proud of the community. Proud of India.\"                                                                                                                                                               \n",
       "6584   Unprecedented really...   canvassing for  .. Ab ki baar Trump sarkar. #HowdyMody                                                                                                                                                                                                    \n",
       "13101  # MahatmaGandhi  is the BIGGEST Brand of INDIA. No one can take that away....Politicians will come and go, but for centuries to come, the world will remember Mahatma Gandhi...the father of all Indian brands. The global appeal of Brand Gandhi will never diminish. #HowdyMody   \n",
       "5623   Good morning Houston, We have a problem. #HowdyMody                                                                                                                                                                                                                                 \n",
       "\n",
       "                                   hashtags  \n",
       "11445  #HowdyMody #HowdyModi #ModiInHouston  \n",
       "10268  # HowdyMody #HowdyModi                \n",
       "6584   #HowdyMody                            \n",
       "13101  # MahatmaGandhi #HowdyMody            \n",
       "5623   #HowdyMody                            "
      ]
     },
     "execution_count": 35,
     "metadata": {},
     "output_type": "execute_result"
    }
   ],
   "source": [
    "tweet.sample(5)"
   ]
  },
  {
   "cell_type": "code",
   "execution_count": 36,
   "metadata": {},
   "outputs": [],
   "source": [
    "from collections import Counter"
   ]
  },
  {
   "cell_type": "code",
   "execution_count": 37,
   "metadata": {},
   "outputs": [],
   "source": [
    "def count_hashtag(text):\n",
    "    count=Counter(text)\n",
    "    return count['#']"
   ]
  },
  {
   "cell_type": "code",
   "execution_count": 38,
   "metadata": {},
   "outputs": [],
   "source": [
    "tweet['nbr_hashtags']=tweet['hashtags'].apply(lambda x:count_hashtag(x))"
   ]
  },
  {
   "cell_type": "code",
   "execution_count": 39,
   "metadata": {},
   "outputs": [
    {
     "data": {
      "text/html": [
       "<div>\n",
       "<style scoped>\n",
       "    .dataframe tbody tr th:only-of-type {\n",
       "        vertical-align: middle;\n",
       "    }\n",
       "\n",
       "    .dataframe tbody tr th {\n",
       "        vertical-align: top;\n",
       "    }\n",
       "\n",
       "    .dataframe thead th {\n",
       "        text-align: right;\n",
       "    }\n",
       "</style>\n",
       "<table border=\"1\" class=\"dataframe\">\n",
       "  <thead>\n",
       "    <tr style=\"text-align: right;\">\n",
       "      <th></th>\n",
       "      <th>datetime</th>\n",
       "      <th>is_retweet</th>\n",
       "      <th>nbr_favorite</th>\n",
       "      <th>nbr_reply</th>\n",
       "      <th>nbr_retweet</th>\n",
       "      <th>text</th>\n",
       "      <th>cleaned_tweet</th>\n",
       "      <th>hashtags</th>\n",
       "      <th>nbr_hashtags</th>\n",
       "    </tr>\n",
       "  </thead>\n",
       "  <tbody>\n",
       "    <tr>\n",
       "      <th>822</th>\n",
       "      <td>2019-09-21 23:04:00</td>\n",
       "      <td>False</td>\n",
       "      <td>15</td>\n",
       "      <td>1</td>\n",
       "      <td>3</td>\n",
       "      <td>Latest: United States: Prime Minister Narendra Modi arrives in Houston, Texas. #HowdyMody</td>\n",
       "      <td>Latest: United States: Prime Minister Narendra Modi arrives in Houston, Texas. #HowdyMody</td>\n",
       "      <td>#HowdyMody</td>\n",
       "      <td>1</td>\n",
       "    </tr>\n",
       "    <tr>\n",
       "      <th>5705</th>\n",
       "      <td>2019-09-22 22:46:24</td>\n",
       "      <td>False</td>\n",
       "      <td>0</td>\n",
       "      <td>0</td>\n",
       "      <td>0</td>\n",
       "      <td># HowdyMody  I am proud of my PM and my country  ...\\nAt international level I will always support my PM no matter what.</td>\n",
       "      <td># HowdyMody  I am proud of my PM and my country  ...At international level I will always support my PM no matter what.</td>\n",
       "      <td># HowdyMody</td>\n",
       "      <td>1</td>\n",
       "    </tr>\n",
       "    <tr>\n",
       "      <th>11975</th>\n",
       "      <td>2019-09-23 00:37:52</td>\n",
       "      <td>False</td>\n",
       "      <td>0</td>\n",
       "      <td>0</td>\n",
       "      <td>0</td>\n",
       "      <td>The best #Stunner  in #Houston  was delivered by #modi , not by @steveaustinBSR .\\n#ModiInHouston  #HowdyMody  #ModiInUSA</td>\n",
       "      <td>The best #Stunner  in #Houston  was delivered by #modi , not by  .#ModiInHouston  #HowdyMody  #ModiInUSA</td>\n",
       "      <td>#Stunner #Houston #modi #ModiInHouston #HowdyMody #ModiInUSA</td>\n",
       "      <td>6</td>\n",
       "    </tr>\n",
       "    <tr>\n",
       "      <th>4378</th>\n",
       "      <td>2019-09-22 21:47:08</td>\n",
       "      <td>False</td>\n",
       "      <td>0</td>\n",
       "      <td>0</td>\n",
       "      <td>1</td>\n",
       "      <td>More than 50 thousand people \\n#HowdyMody   https:// twitter.com/vikasbha/statu s/1175803640818352128   …</td>\n",
       "      <td>More than 50 thousand people #HowdyMody</td>\n",
       "      <td>#HowdyMody</td>\n",
       "      <td>1</td>\n",
       "    </tr>\n",
       "    <tr>\n",
       "      <th>14954</th>\n",
       "      <td>2019-09-23 12:36:25</td>\n",
       "      <td>False</td>\n",
       "      <td>1</td>\n",
       "      <td>0</td>\n",
       "      <td>0</td>\n",
       "      <td># Bhakts  Team with #Winners  ,#KamBhakts  with #Losers \\n\\n#HowdyMody</td>\n",
       "      <td># Bhakts  Team with #Winners  ,#KamBhakts  with #Losers #HowdyMody</td>\n",
       "      <td># Bhakts #Winners #KamBhakts #Losers #HowdyMody</td>\n",
       "      <td>5</td>\n",
       "    </tr>\n",
       "  </tbody>\n",
       "</table>\n",
       "</div>"
      ],
      "text/plain": [
       "                  datetime  is_retweet  nbr_favorite  nbr_reply  nbr_retweet  \\\n",
       "822    2019-09-21 23:04:00  False       15            1          3             \n",
       "5705   2019-09-22 22:46:24  False       0             0          0             \n",
       "11975  2019-09-23 00:37:52  False       0             0          0             \n",
       "4378   2019-09-22 21:47:08  False       0             0          1             \n",
       "14954  2019-09-23 12:36:25  False       1             0          0             \n",
       "\n",
       "                                                                                                                            text  \\\n",
       "822    Latest: United States: Prime Minister Narendra Modi arrives in Houston, Texas. #HowdyMody                                   \n",
       "5705   # HowdyMody  I am proud of my PM and my country  ...\\nAt international level I will always support my PM no matter what.    \n",
       "11975  The best #Stunner  in #Houston  was delivered by #modi , not by @steveaustinBSR .\\n#ModiInHouston  #HowdyMody  #ModiInUSA   \n",
       "4378   More than 50 thousand people \\n#HowdyMody   https:// twitter.com/vikasbha/statu s/1175803640818352128   …                   \n",
       "14954  # Bhakts  Team with #Winners  ,#KamBhakts  with #Losers \\n\\n#HowdyMody                                                      \n",
       "\n",
       "                                                                                                                cleaned_tweet  \\\n",
       "822    Latest: United States: Prime Minister Narendra Modi arrives in Houston, Texas. #HowdyMody                                \n",
       "5705   # HowdyMody  I am proud of my PM and my country  ...At international level I will always support my PM no matter what.   \n",
       "11975  The best #Stunner  in #Houston  was delivered by #modi , not by  .#ModiInHouston  #HowdyMody  #ModiInUSA                 \n",
       "4378   More than 50 thousand people #HowdyMody                                                                                  \n",
       "14954  # Bhakts  Team with #Winners  ,#KamBhakts  with #Losers #HowdyMody                                                       \n",
       "\n",
       "                                                           hashtags  \\\n",
       "822    #HowdyMody                                                     \n",
       "5705   # HowdyMody                                                    \n",
       "11975  #Stunner #Houston #modi #ModiInHouston #HowdyMody #ModiInUSA   \n",
       "4378   #HowdyMody                                                     \n",
       "14954  # Bhakts #Winners #KamBhakts #Losers #HowdyMody                \n",
       "\n",
       "       nbr_hashtags  \n",
       "822    1             \n",
       "5705   1             \n",
       "11975  6             \n",
       "4378   1             \n",
       "14954  5             "
      ]
     },
     "execution_count": 39,
     "metadata": {},
     "output_type": "execute_result"
    }
   ],
   "source": [
    "tweet.sample(5)"
   ]
  },
  {
   "cell_type": "code",
   "execution_count": 40,
   "metadata": {},
   "outputs": [],
   "source": [
    "#!pip install spacy"
   ]
  },
  {
   "cell_type": "code",
   "execution_count": 41,
   "metadata": {},
   "outputs": [],
   "source": [
    "#!pip install https://github.com/explosion/spacy-models/releases/download/en_core_web_sm-2.2.0/en_core_web_sm-2.2.0.tar.gz --no-deps"
   ]
  },
  {
   "cell_type": "code",
   "execution_count": 42,
   "metadata": {},
   "outputs": [],
   "source": [
    "#!pip install nltk"
   ]
  },
  {
   "cell_type": "code",
   "execution_count": 43,
   "metadata": {},
   "outputs": [],
   "source": [
    "#!pip install spacy download en_core_web_sm"
   ]
  },
  {
   "cell_type": "code",
   "execution_count": 44,
   "metadata": {},
   "outputs": [],
   "source": [
    "import spacy"
   ]
  },
  {
   "cell_type": "code",
   "execution_count": 45,
   "metadata": {},
   "outputs": [],
   "source": [
    "nlp = spacy.load('en_core_web_sm')"
   ]
  },
  {
   "cell_type": "code",
   "execution_count": 46,
   "metadata": {},
   "outputs": [],
   "source": [
    "from nltk.corpus import stopwords \n",
    "from nltk.tokenize import word_tokenize"
   ]
  },
  {
   "cell_type": "code",
   "execution_count": 47,
   "metadata": {},
   "outputs": [],
   "source": [
    "STOPWORDS=stopwords.words('english')"
   ]
  },
  {
   "cell_type": "code",
   "execution_count": 48,
   "metadata": {},
   "outputs": [],
   "source": [
    "stopwords=spacy.lang.en.stop_words.STOP_WORDS"
   ]
  },
  {
   "cell_type": "code",
   "execution_count": 49,
   "metadata": {},
   "outputs": [],
   "source": [
    "def final_clean(text):\n",
    "    #text=re.sub('#\\s*\\S+','',text)\n",
    "    text=re.sub(' +', ' ', text)\n",
    "    text=text.strip().lower()\n",
    "    document = nlp(text)\n",
    "    doc_cleaned=[token.lemma_ for token in document if (token.text not in STOPWORDS ) and token.pos_ not in ['PUNCT','SPACE',\"PRON\",\"NUM\"]]\n",
    "    doc_cleaned=\" \".join(doc_cleaned)\n",
    "\n",
    "    return doc_cleaned"
   ]
  },
  {
   "cell_type": "code",
   "execution_count": 50,
   "metadata": {},
   "outputs": [],
   "source": [
    "tweet['cleaned_tweet']=tweet['cleaned_tweet'].apply(lambda x:re.sub('#\\s*\\S+','',x))"
   ]
  },
  {
   "cell_type": "code",
   "execution_count": 51,
   "metadata": {},
   "outputs": [],
   "source": [
    "tweet['final_tweet']=tweet['cleaned_tweet'].apply(lambda x:final_clean(x))"
   ]
  },
  {
   "cell_type": "code",
   "execution_count": 52,
   "metadata": {},
   "outputs": [
    {
     "data": {
      "text/html": [
       "<div>\n",
       "<style scoped>\n",
       "    .dataframe tbody tr th:only-of-type {\n",
       "        vertical-align: middle;\n",
       "    }\n",
       "\n",
       "    .dataframe tbody tr th {\n",
       "        vertical-align: top;\n",
       "    }\n",
       "\n",
       "    .dataframe thead th {\n",
       "        text-align: right;\n",
       "    }\n",
       "</style>\n",
       "<table border=\"1\" class=\"dataframe\">\n",
       "  <thead>\n",
       "    <tr style=\"text-align: right;\">\n",
       "      <th></th>\n",
       "      <th>datetime</th>\n",
       "      <th>is_retweet</th>\n",
       "      <th>nbr_favorite</th>\n",
       "      <th>nbr_reply</th>\n",
       "      <th>nbr_retweet</th>\n",
       "      <th>text</th>\n",
       "      <th>cleaned_tweet</th>\n",
       "      <th>hashtags</th>\n",
       "      <th>nbr_hashtags</th>\n",
       "      <th>final_tweet</th>\n",
       "    </tr>\n",
       "  </thead>\n",
       "  <tbody>\n",
       "    <tr>\n",
       "      <th>4291</th>\n",
       "      <td>2019-09-22 21:29:18</td>\n",
       "      <td>False</td>\n",
       "      <td>0</td>\n",
       "      <td>0</td>\n",
       "      <td>0</td>\n",
       "      <td>Hon'ble Prime Minister Shri Narendra Modi ji will address a historic community summit in #Houston  . \\n\\n#HowdyMody  \\n#ModiInHouston</td>\n",
       "      <td>Hon'ble Prime Minister Shri Narendra Modi ji will address a historic community summit in   .</td>\n",
       "      <td>#Houston #HowdyMody #ModiInHouston</td>\n",
       "      <td>3</td>\n",
       "      <td>hon'ble prime minister shri narendra modi ji address historic community summit</td>\n",
       "    </tr>\n",
       "    <tr>\n",
       "      <th>5875</th>\n",
       "      <td>2019-09-22 22:49:07</td>\n",
       "      <td>False</td>\n",
       "      <td>0</td>\n",
       "      <td>0</td>\n",
       "      <td>0</td>\n",
       "      <td>Really amazing... Salute... Proud to have such a leader as my PM. Thank you @narendramodi  ji.    #HowdyMody   https:// twitter.com/navikakumar/st atus/1175808809391886337   …</td>\n",
       "      <td>Really amazing... Salute... Proud to have such a leader as my PM. Thank you   ji.</td>\n",
       "      <td>#HowdyMody</td>\n",
       "      <td>1</td>\n",
       "      <td>really amazing salute proud leader pm thank ji</td>\n",
       "    </tr>\n",
       "    <tr>\n",
       "      <th>9691</th>\n",
       "      <td>2019-09-22 23:43:19</td>\n",
       "      <td>False</td>\n",
       "      <td>0</td>\n",
       "      <td>0</td>\n",
       "      <td>0</td>\n",
       "      <td>Looks like the Paki sponsored protestors have forgotten their protest and are now listening with apt attention to Modi-Trump.   \\n#HowdyMody</td>\n",
       "      <td>Looks like the Paki sponsored protestors have forgotten their protest and are now listening with apt attention to Modi-Trump.</td>\n",
       "      <td>#HowdyMody</td>\n",
       "      <td>1</td>\n",
       "      <td>look like paki sponsor protestor forget protest listen apt attention modi trump</td>\n",
       "    </tr>\n",
       "    <tr>\n",
       "      <th>13148</th>\n",
       "      <td>2019-09-23 02:19:09</td>\n",
       "      <td>False</td>\n",
       "      <td>251</td>\n",
       "      <td>2</td>\n",
       "      <td>26</td>\n",
       "      <td>Thank you @narendramodi  ji for being you #HowdyMody  #ModiInUSA</td>\n",
       "      <td>Thank you   ji for being you</td>\n",
       "      <td>#HowdyMody #ModiInUSA</td>\n",
       "      <td>2</td>\n",
       "      <td>thank ji</td>\n",
       "    </tr>\n",
       "    <tr>\n",
       "      <th>8354</th>\n",
       "      <td>2019-09-22 23:21:46</td>\n",
       "      <td>False</td>\n",
       "      <td>8</td>\n",
       "      <td>2</td>\n",
       "      <td>2</td>\n",
       "      <td>Trump concludes his speech by saying God Bless USA God Bless India so he is not a follower of EVR #HowdyMody  @dhanyarajendran  write an article how important was EVR in American war of independence you can ask @VijaySethuOffl  for details @itispalkova  @Ramki830  @JewHavvaNagila</td>\n",
       "      <td>Trump concludes his speech by saying God Bless USA God Bless India so he is not a follower of EVR     write an article how important was EVR in American war of independence you can ask   for details</td>\n",
       "      <td>#HowdyMody</td>\n",
       "      <td>1</td>\n",
       "      <td>trump conclude speech say god bless usa god bless india follower evr write article important evr american war independence ask detail</td>\n",
       "    </tr>\n",
       "  </tbody>\n",
       "</table>\n",
       "</div>"
      ],
      "text/plain": [
       "                  datetime  is_retweet  nbr_favorite  nbr_reply  nbr_retweet  \\\n",
       "4291   2019-09-22 21:29:18  False       0             0          0             \n",
       "5875   2019-09-22 22:49:07  False       0             0          0             \n",
       "9691   2019-09-22 23:43:19  False       0             0          0             \n",
       "13148  2019-09-23 02:19:09  False       251           2          26            \n",
       "8354   2019-09-22 23:21:46  False       8             2          2             \n",
       "\n",
       "                                                                                                                                                                                                                                                                                           text  \\\n",
       "4291   Hon'ble Prime Minister Shri Narendra Modi ji will address a historic community summit in #Houston  . \\n\\n#HowdyMody  \\n#ModiInHouston                                                                                                                                                      \n",
       "5875   Really amazing... Salute... Proud to have such a leader as my PM. Thank you @narendramodi  ji.    #HowdyMody   https:// twitter.com/navikakumar/st atus/1175808809391886337   …                                                                                                            \n",
       "9691   Looks like the Paki sponsored protestors have forgotten their protest and are now listening with apt attention to Modi-Trump.   \\n#HowdyMody                                                                                                                                               \n",
       "13148  Thank you @narendramodi  ji for being you #HowdyMody  #ModiInUSA                                                                                                                                                                                                                           \n",
       "8354   Trump concludes his speech by saying God Bless USA God Bless India so he is not a follower of EVR #HowdyMody  @dhanyarajendran  write an article how important was EVR in American war of independence you can ask @VijaySethuOffl  for details @itispalkova  @Ramki830  @JewHavvaNagila   \n",
       "\n",
       "                                                                                                                                                                                                     cleaned_tweet  \\\n",
       "4291   Hon'ble Prime Minister Shri Narendra Modi ji will address a historic community summit in   .                                                                                                                  \n",
       "5875   Really amazing... Salute... Proud to have such a leader as my PM. Thank you   ji.                                                                                                                             \n",
       "9691   Looks like the Paki sponsored protestors have forgotten their protest and are now listening with apt attention to Modi-Trump.                                                                                 \n",
       "13148  Thank you   ji for being you                                                                                                                                                                                  \n",
       "8354   Trump concludes his speech by saying God Bless USA God Bless India so he is not a follower of EVR     write an article how important was EVR in American war of independence you can ask   for details        \n",
       "\n",
       "                                 hashtags  nbr_hashtags  \\\n",
       "4291   #Houston #HowdyMody #ModiInHouston  3              \n",
       "5875   #HowdyMody                          1              \n",
       "9691   #HowdyMody                          1              \n",
       "13148  #HowdyMody #ModiInUSA               2              \n",
       "8354   #HowdyMody                          1              \n",
       "\n",
       "                                                                                                                                 final_tweet  \n",
       "4291   hon'ble prime minister shri narendra modi ji address historic community summit                                                         \n",
       "5875   really amazing salute proud leader pm thank ji                                                                                         \n",
       "9691   look like paki sponsor protestor forget protest listen apt attention modi trump                                                        \n",
       "13148  thank ji                                                                                                                               \n",
       "8354   trump conclude speech say god bless usa god bless india follower evr write article important evr american war independence ask detail  "
      ]
     },
     "execution_count": 52,
     "metadata": {},
     "output_type": "execute_result"
    }
   ],
   "source": [
    "tweet.sample(5)"
   ]
  },
  {
   "cell_type": "code",
   "execution_count": 53,
   "metadata": {},
   "outputs": [],
   "source": [
    "import matplotlib.pyplot as plt\n",
    "import seaborn as sns"
   ]
  },
  {
   "cell_type": "code",
   "execution_count": 54,
   "metadata": {},
   "outputs": [],
   "source": [
    "tweet['length_tweet']=tweet['cleaned_tweet'].apply(lambda x:len(x))"
   ]
  },
  {
   "cell_type": "code",
   "execution_count": 55,
   "metadata": {
    "scrolled": true
   },
   "outputs": [
    {
     "data": {
      "text/html": [
       "<div>\n",
       "<style scoped>\n",
       "    .dataframe tbody tr th:only-of-type {\n",
       "        vertical-align: middle;\n",
       "    }\n",
       "\n",
       "    .dataframe tbody tr th {\n",
       "        vertical-align: top;\n",
       "    }\n",
       "\n",
       "    .dataframe thead th {\n",
       "        text-align: right;\n",
       "    }\n",
       "</style>\n",
       "<table border=\"1\" class=\"dataframe\">\n",
       "  <thead>\n",
       "    <tr style=\"text-align: right;\">\n",
       "      <th></th>\n",
       "      <th>datetime</th>\n",
       "      <th>is_retweet</th>\n",
       "      <th>nbr_favorite</th>\n",
       "      <th>nbr_reply</th>\n",
       "      <th>nbr_retweet</th>\n",
       "      <th>text</th>\n",
       "      <th>cleaned_tweet</th>\n",
       "      <th>hashtags</th>\n",
       "      <th>nbr_hashtags</th>\n",
       "      <th>final_tweet</th>\n",
       "      <th>length_tweet</th>\n",
       "    </tr>\n",
       "  </thead>\n",
       "  <tbody>\n",
       "    <tr>\n",
       "      <th>1541</th>\n",
       "      <td>2019-09-22 09:52:32</td>\n",
       "      <td>False</td>\n",
       "      <td>1</td>\n",
       "      <td>0</td>\n",
       "      <td>0</td>\n",
       "      <td>We are so SO proud of PM Modi ji.. Your respect is India's respect.. have great trip.. @narendramodi  #HowdyMody   https:// twitter.com/Rajput_Ramesh/ status/1175511875334725632   …</td>\n",
       "      <td>We are so SO proud of PM Modi ji.. Your respect is India's respect.. have great trip..</td>\n",
       "      <td>#HowdyMody</td>\n",
       "      <td>1</td>\n",
       "      <td>proud pm modi ji respect india 's respect great trip</td>\n",
       "      <td>92</td>\n",
       "    </tr>\n",
       "    <tr>\n",
       "      <th>9089</th>\n",
       "      <td>2019-09-22 23:31:39</td>\n",
       "      <td>False</td>\n",
       "      <td>26</td>\n",
       "      <td>2</td>\n",
       "      <td>7</td>\n",
       "      <td>Trump has officially joined BJP.\\n\\n#HowdyMody   pic.twitter.com/Jp7MZYb1HP</td>\n",
       "      <td>Trump has officially joined BJP.</td>\n",
       "      <td>#HowdyMody</td>\n",
       "      <td>1</td>\n",
       "      <td>trump officially join bjp</td>\n",
       "      <td>35</td>\n",
       "    </tr>\n",
       "    <tr>\n",
       "      <th>10208</th>\n",
       "      <td>2019-09-22 23:54:33</td>\n",
       "      <td>False</td>\n",
       "      <td>80</td>\n",
       "      <td>3</td>\n",
       "      <td>9</td>\n",
       "      <td>Hidden message in prez Trump’s radical islamic terrorism remark.  #HowdyMody   pic.twitter.com/3AyBrUR62n</td>\n",
       "      <td>Hidden message in prez Trump’s radical islamic terrorism remark.</td>\n",
       "      <td>#HowdyMody</td>\n",
       "      <td>1</td>\n",
       "      <td>hide message prez trump ’s radical islamic terrorism remark</td>\n",
       "      <td>69</td>\n",
       "    </tr>\n",
       "    <tr>\n",
       "      <th>15595</th>\n",
       "      <td>2019-09-23 19:41:37</td>\n",
       "      <td>False</td>\n",
       "      <td>0</td>\n",
       "      <td>0</td>\n",
       "      <td>0</td>\n",
       "      <td>So I gather that yesterday’s @realDonaldTrump  words of “fighting radical Islamic terrorism” has struck the cord of @ImranKhanPTI  !! Beggar is pissed #HowdyMody  #HowdyModi  #UNGA  #UNGA74 https:// twitter.com/AnchorAnandN/s tatus/1176127955480633344   …</td>\n",
       "      <td>So I gather that yesterday’s   words of “fighting radical Islamic terrorism” has struck the cord of   !! Beggar is pissed</td>\n",
       "      <td>#HowdyMody #HowdyModi #UNGA #UNGA74</td>\n",
       "      <td>4</td>\n",
       "      <td>gather yesterday ’s word fight radical islamic terrorism strike cord beggar pissed</td>\n",
       "      <td>129</td>\n",
       "    </tr>\n",
       "    <tr>\n",
       "      <th>13507</th>\n",
       "      <td>2019-09-23 06:09:59</td>\n",
       "      <td>False</td>\n",
       "      <td>182</td>\n",
       "      <td>7</td>\n",
       "      <td>70</td>\n",
       "      <td>Veni Vidi Vici \\nHe came He saw He conquered \\nThe person who took India to world stage &amp; brought US-India relations to highest level is Shri Narendra Damodardas Modi and he is my Prime Minister and the Prime Minister of Gilgit Baltistan &amp; #Ladakh .\\nJai Hind\\n#HowdyMody  \\n#ModiInUSA pic.twitter.com/m0GB9PcCx7</td>\n",
       "      <td>Veni Vidi Vici He came He saw He conquered The person who took India to world stage &amp; brought US-India relations to highest level is Shri Narendra Damodardas Modi and he is my Prime Minister and the Prime Minister of Gilgit Baltistan &amp;  .Jai Hind</td>\n",
       "      <td>#Ladakh #HowdyMody #ModiInUSA</td>\n",
       "      <td>3</td>\n",
       "      <td>veni vidi vici come see conquer person take india world stage &amp; bring us india relation high level shri narendra damodardas modi prime minister prime minister gilgit baltistan &amp; .jai hind</td>\n",
       "      <td>249</td>\n",
       "    </tr>\n",
       "  </tbody>\n",
       "</table>\n",
       "</div>"
      ],
      "text/plain": [
       "                  datetime  is_retweet  nbr_favorite  nbr_reply  nbr_retweet  \\\n",
       "1541   2019-09-22 09:52:32  False       1             0          0             \n",
       "9089   2019-09-22 23:31:39  False       26            2          7             \n",
       "10208  2019-09-22 23:54:33  False       80            3          9             \n",
       "15595  2019-09-23 19:41:37  False       0             0          0             \n",
       "13507  2019-09-23 06:09:59  False       182           7          70            \n",
       "\n",
       "                                                                                                                                                                                                                                                                                                                           text  \\\n",
       "1541   We are so SO proud of PM Modi ji.. Your respect is India's respect.. have great trip.. @narendramodi  #HowdyMody   https:// twitter.com/Rajput_Ramesh/ status/1175511875334725632   …                                                                                                                                      \n",
       "9089   Trump has officially joined BJP.\\n\\n#HowdyMody   pic.twitter.com/Jp7MZYb1HP                                                                                                                                                                                                                                                \n",
       "10208  Hidden message in prez Trump’s radical islamic terrorism remark.  #HowdyMody   pic.twitter.com/3AyBrUR62n                                                                                                                                                                                                                  \n",
       "15595  So I gather that yesterday’s @realDonaldTrump  words of “fighting radical Islamic terrorism” has struck the cord of @ImranKhanPTI  !! Beggar is pissed #HowdyMody  #HowdyModi  #UNGA  #UNGA74 https:// twitter.com/AnchorAnandN/s tatus/1176127955480633344   …                                                            \n",
       "13507  Veni Vidi Vici \\nHe came He saw He conquered \\nThe person who took India to world stage & brought US-India relations to highest level is Shri Narendra Damodardas Modi and he is my Prime Minister and the Prime Minister of Gilgit Baltistan & #Ladakh .\\nJai Hind\\n#HowdyMody  \\n#ModiInUSA pic.twitter.com/m0GB9PcCx7   \n",
       "\n",
       "                                                                                                                                                                                                                                                   cleaned_tweet  \\\n",
       "1541   We are so SO proud of PM Modi ji.. Your respect is India's respect.. have great trip..                                                                                                                                                                      \n",
       "9089   Trump has officially joined BJP.                                                                                                                                                                                                                            \n",
       "10208  Hidden message in prez Trump’s radical islamic terrorism remark.                                                                                                                                                                                            \n",
       "15595  So I gather that yesterday’s   words of “fighting radical Islamic terrorism” has struck the cord of   !! Beggar is pissed                                                                                                                                   \n",
       "13507  Veni Vidi Vici He came He saw He conquered The person who took India to world stage & brought US-India relations to highest level is Shri Narendra Damodardas Modi and he is my Prime Minister and the Prime Minister of Gilgit Baltistan &  .Jai Hind      \n",
       "\n",
       "                                  hashtags  nbr_hashtags  \\\n",
       "1541   #HowdyMody                           1              \n",
       "9089   #HowdyMody                           1              \n",
       "10208  #HowdyMody                           1              \n",
       "15595  #HowdyMody #HowdyModi #UNGA #UNGA74  4              \n",
       "13507  #Ladakh #HowdyMody #ModiInUSA        3              \n",
       "\n",
       "                                                                                                                                                                                       final_tweet  \\\n",
       "1541   proud pm modi ji respect india 's respect great trip                                                                                                                                          \n",
       "9089   trump officially join bjp                                                                                                                                                                     \n",
       "10208  hide message prez trump ’s radical islamic terrorism remark                                                                                                                                   \n",
       "15595  gather yesterday ’s word fight radical islamic terrorism strike cord beggar pissed                                                                                                            \n",
       "13507  veni vidi vici come see conquer person take india world stage & bring us india relation high level shri narendra damodardas modi prime minister prime minister gilgit baltistan & .jai hind   \n",
       "\n",
       "       length_tweet  \n",
       "1541   92            \n",
       "9089   35            \n",
       "10208  69            \n",
       "15595  129           \n",
       "13507  249           "
      ]
     },
     "execution_count": 55,
     "metadata": {},
     "output_type": "execute_result"
    }
   ],
   "source": [
    "tweet.sample(5)"
   ]
  },
  {
   "cell_type": "markdown",
   "metadata": {},
   "source": [
    "## Distribution for Number of Hashtags"
   ]
  },
  {
   "cell_type": "code",
   "execution_count": 56,
   "metadata": {},
   "outputs": [
    {
     "data": {
      "text/plain": [
       "Text(0.5, 1.0, 'Distribution for number of hashtags')"
      ]
     },
     "execution_count": 56,
     "metadata": {},
     "output_type": "execute_result"
    },
    {
     "data": {
      "image/png": "[encoded data removed]",
      "text/plain": [
       "<Figure size 432x288 with 1 Axes>"
      ]
     },
     "metadata": {
      "needs_background": "light"
     },
     "output_type": "display_data"
    }
   ],
   "source": [
    "sns.kdeplot(tweet['nbr_hashtags']).set_title(\"Distribution for number of hashtags\")"
   ]
  },
  {
   "cell_type": "code",
   "execution_count": 57,
   "metadata": {},
   "outputs": [
    {
     "data": {
      "text/plain": [
       "count    16924.000000\n",
       "mean     101.029485  \n",
       "std      66.605070   \n",
       "min      0.000000    \n",
       "25%      47.000000   \n",
       "50%      84.000000   \n",
       "75%      145.000000  \n",
       "max      289.000000  \n",
       "Name: length_tweet, dtype: float64"
      ]
     },
     "execution_count": 57,
     "metadata": {},
     "output_type": "execute_result"
    }
   ],
   "source": [
    "tweet['length_tweet'].describe()"
   ]
  },
  {
   "cell_type": "code",
   "execution_count": 58,
   "metadata": {},
   "outputs": [
    {
     "data": {
      "text/plain": [
       "Text(0.5, 1.0, 'Distribution for length of tweets')"
      ]
     },
     "execution_count": 58,
     "metadata": {},
     "output_type": "execute_result"
    },
    {
     "data": {
      "image/png": "[encoded data removed]",
      "text/plain": [
       "<Figure size 432x288 with 1 Axes>"
      ]
     },
     "metadata": {
      "needs_background": "light"
     },
     "output_type": "display_data"
    }
   ],
   "source": [
    "sns.kdeplot(tweet['length_tweet']).set_title(\"Distribution for length of tweets\")"
   ]
  },
  {
   "cell_type": "code",
   "execution_count": 59,
   "metadata": {},
   "outputs": [
    {
     "data": {
      "text/plain": [
       "Text(0.5, 1.0, 'Distribution for number of retweets')"
      ]
     },
     "execution_count": 59,
     "metadata": {},
     "output_type": "execute_result"
    },
    {
     "data": {
      "image/png": "[encoded data removed]",
      "text/plain": [
       "<Figure size 432x288 with 1 Axes>"
      ]
     },
     "metadata": {
      "needs_background": "light"
     },
     "output_type": "display_data"
    }
   ],
   "source": [
    "sns.kdeplot(tweet['nbr_retweet']).set_title(\"Distribution for number of retweets\")"
   ]
  },
  {
   "cell_type": "code",
   "execution_count": 60,
   "metadata": {},
   "outputs": [
    {
     "data": {
      "text/plain": [
       "Text(0.5, 1.0, 'Distribution for number of likes')"
      ]
     },
     "execution_count": 60,
     "metadata": {},
     "output_type": "execute_result"
    },
    {
     "data": {
      "image/png": "[encoded data removed]",
      "text/plain": [
       "<Figure size 432x288 with 1 Axes>"
      ]
     },
     "metadata": {
      "needs_background": "light"
     },
     "output_type": "display_data"
    }
   ],
   "source": [
    "sns.kdeplot(tweet['nbr_favorite']).set_title(\"Distribution for number of likes\")"
   ]
  },
  {
   "cell_type": "code",
   "execution_count": 61,
   "metadata": {},
   "outputs": [],
   "source": [
    "tweet['datetime']=pd.to_datetime(tweet['datetime'],errors='coerce')"
   ]
  },
  {
   "cell_type": "code",
   "execution_count": 62,
   "metadata": {},
   "outputs": [
    {
     "name": "stdout",
     "output_type": "stream",
     "text": [
      "<class 'pandas.core.frame.DataFrame'>\n",
      "RangeIndex: 16924 entries, 0 to 16923\n",
      "Data columns (total 11 columns):\n",
      "datetime         16924 non-null datetime64[ns]\n",
      "is_retweet       16924 non-null bool\n",
      "nbr_favorite     16924 non-null int64\n",
      "nbr_reply        16924 non-null int64\n",
      "nbr_retweet      16924 non-null int64\n",
      "text             16924 non-null object\n",
      "cleaned_tweet    16924 non-null object\n",
      "hashtags         16924 non-null object\n",
      "nbr_hashtags     16924 non-null int64\n",
      "final_tweet      16924 non-null object\n",
      "length_tweet     16924 non-null int64\n",
      "dtypes: bool(1), datetime64[ns](1), int64(5), object(4)\n",
      "memory usage: 1.3+ MB\n"
     ]
    }
   ],
   "source": [
    "tweet.info()"
   ]
  },
  {
   "cell_type": "markdown",
   "metadata": {},
   "source": [
    "## Distribution for number of Hashtags present in a tweet"
   ]
  },
  {
   "cell_type": "code",
   "execution_count": 63,
   "metadata": {},
   "outputs": [
    {
     "data": {
      "text/plain": [
       "Text(0.5, 1.0, 'Distribution for number of hashtags')"
      ]
     },
     "execution_count": 63,
     "metadata": {},
     "output_type": "execute_result"
    },
    {
     "data": {
      "image/png": "[encoded data removed]",
      "text/plain": [
       "<Figure size 432x288 with 1 Axes>"
      ]
     },
     "metadata": {
      "needs_background": "light"
     },
     "output_type": "display_data"
    }
   ],
   "source": [
    "sns.kdeplot(tweet['nbr_hashtags']).set_title(\"Distribution for number of hashtags\")"
   ]
  },
  {
   "cell_type": "markdown",
   "metadata": {},
   "source": [
    "## Retweets Distribution"
   ]
  },
  {
   "cell_type": "code",
   "execution_count": 64,
   "metadata": {},
   "outputs": [
    {
     "data": {
      "text/plain": [
       "Text(0.5, 1.0, 'Distribution for number of retweets')"
      ]
     },
     "execution_count": 64,
     "metadata": {},
     "output_type": "execute_result"
    },
    {
     "data": {
      "image/png": "[encoded data removed]",
      "text/plain": [
       "<Figure size 432x288 with 1 Axes>"
      ]
     },
     "metadata": {
      "needs_background": "light"
     },
     "output_type": "display_data"
    }
   ],
   "source": [
    "sns.kdeplot(tweet['nbr_retweet']).set_title(\"Distribution for number of retweets\")"
   ]
  },
  {
   "cell_type": "markdown",
   "metadata": {},
   "source": [
    "## Likes Distribution"
   ]
  },
  {
   "cell_type": "code",
   "execution_count": 65,
   "metadata": {},
   "outputs": [
    {
     "data": {
      "text/plain": [
       "Text(0.5, 1.0, 'Distribution for number of likes')"
      ]
     },
     "execution_count": 65,
     "metadata": {},
     "output_type": "execute_result"
    },
    {
     "data": {
      "image/png": "[encoded data removed]",
      "text/plain": [
       "<Figure size 432x288 with 1 Axes>"
      ]
     },
     "metadata": {
      "needs_background": "light"
     },
     "output_type": "display_data"
    }
   ],
   "source": [
    "sns.kdeplot(tweet['nbr_favorite']).set_title(\"Distribution for number of likes\")"
   ]
  },
  {
   "cell_type": "markdown",
   "metadata": {},
   "source": [
    "## What is the number of Tweets tweeted based on Date ?"
   ]
  },
  {
   "cell_type": "code",
   "execution_count": 66,
   "metadata": {},
   "outputs": [],
   "source": [
    "tweet['DateTime'] = pd.to_datetime(tweet['datetime'])"
   ]
  },
  {
   "cell_type": "code",
   "execution_count": 67,
   "metadata": {
    "scrolled": true
   },
   "outputs": [
    {
     "data": {
      "text/html": [
       "<div>\n",
       "<style scoped>\n",
       "    .dataframe tbody tr th:only-of-type {\n",
       "        vertical-align: middle;\n",
       "    }\n",
       "\n",
       "    .dataframe tbody tr th {\n",
       "        vertical-align: top;\n",
       "    }\n",
       "\n",
       "    .dataframe thead th {\n",
       "        text-align: right;\n",
       "    }\n",
       "</style>\n",
       "<table border=\"1\" class=\"dataframe\">\n",
       "  <thead>\n",
       "    <tr style=\"text-align: right;\">\n",
       "      <th></th>\n",
       "      <th>datetime</th>\n",
       "      <th>is_retweet</th>\n",
       "      <th>nbr_favorite</th>\n",
       "      <th>nbr_reply</th>\n",
       "      <th>nbr_retweet</th>\n",
       "      <th>text</th>\n",
       "      <th>cleaned_tweet</th>\n",
       "      <th>hashtags</th>\n",
       "      <th>nbr_hashtags</th>\n",
       "      <th>final_tweet</th>\n",
       "      <th>length_tweet</th>\n",
       "      <th>DateTime</th>\n",
       "    </tr>\n",
       "  </thead>\n",
       "  <tbody>\n",
       "    <tr>\n",
       "      <th>0</th>\n",
       "      <td>2019-09-21 07:32:50</td>\n",
       "      <td>False</td>\n",
       "      <td>85</td>\n",
       "      <td>0</td>\n",
       "      <td>9</td>\n",
       "      <td>all the best for #HowdyMody     https:// twitter.com/DevangVDave/st atus/1175205257690804224   …</td>\n",
       "      <td>all the best for</td>\n",
       "      <td>#HowdyMody</td>\n",
       "      <td>1</td>\n",
       "      <td>good</td>\n",
       "      <td>22</td>\n",
       "      <td>2019-09-21 07:32:50</td>\n",
       "    </tr>\n",
       "    <tr>\n",
       "      <th>1</th>\n",
       "      <td>2019-09-21 07:35:28</td>\n",
       "      <td>False</td>\n",
       "      <td>0</td>\n",
       "      <td>0</td>\n",
       "      <td>0</td>\n",
       "      <td>Biggest event is Indian economy Modi is failed event manager reduced to self mythologising events please analyse correctly #HowdyMody  #SaturdayMorning</td>\n",
       "      <td>Biggest event is Indian economy Modi is failed event manager reduced to self mythologising events please analyse correctly</td>\n",
       "      <td>#HowdyMody #SaturdayMorning</td>\n",
       "      <td>2</td>\n",
       "      <td>big event indian economy modi fail event manager reduce self mythologising event please analyse correctly</td>\n",
       "      <td>126</td>\n",
       "      <td>2019-09-21 07:35:28</td>\n",
       "    </tr>\n",
       "    <tr>\n",
       "      <th>2</th>\n",
       "      <td>2019-09-21 07:38:22</td>\n",
       "      <td>False</td>\n",
       "      <td>4</td>\n",
       "      <td>0</td>\n",
       "      <td>0</td>\n",
       "      <td>I'm eagerly waiting for our PM speech in USA with president Trump. One isthe leader of  the world largest democracy and other is the leader of world oldest democracy share the platform together in howdy\\n#HowdyMody  @narendramodi  @POTUS</td>\n",
       "      <td>I'm eagerly waiting for our PM speech in USA with president Trump. One isthe leader of  the world largest democracy and other is the leader of world oldest democracy share the platform together in howdy</td>\n",
       "      <td>#HowdyMody</td>\n",
       "      <td>1</td>\n",
       "      <td>be eagerly wait pm speech usa president trump isthe leader world large democracy leader world old democracy share platform together howdy</td>\n",
       "      <td>206</td>\n",
       "      <td>2019-09-21 07:38:22</td>\n",
       "    </tr>\n",
       "    <tr>\n",
       "      <th>3</th>\n",
       "      <td>2019-09-21 07:39:03</td>\n",
       "      <td>False</td>\n",
       "      <td>51</td>\n",
       "      <td>5</td>\n",
       "      <td>19</td>\n",
       "      <td>This is the real face of Islam. Normalising radical behaviour is dangerous. Let's remember jihad and Sharia are integral part of Muslim culture. \\n#DrQadriGreatReformer  #HowdyEnvy  #HowdyMody   pic.twitter.com/xs5UGAHzgC</td>\n",
       "      <td>This is the real face of Islam. Normalising radical behaviour is dangerous. Let's remember jihad and Sharia are integral part of Muslim culture.</td>\n",
       "      <td>#DrQadriGreatReformer #HowdyEnvy #HowdyMody</td>\n",
       "      <td>3</td>\n",
       "      <td>real face islam normalise radical behaviour dangerous let remember jihad sharia integral part muslim culture</td>\n",
       "      <td>152</td>\n",
       "      <td>2019-09-21 07:39:03</td>\n",
       "    </tr>\n",
       "    <tr>\n",
       "      <th>4</th>\n",
       "      <td>2019-09-21 07:42:45</td>\n",
       "      <td>False</td>\n",
       "      <td>42</td>\n",
       "      <td>0</td>\n",
       "      <td>3</td>\n",
       "      <td>Good Morning , Have a great day  \\n#HowdyMody   pic.twitter.com/GgeJzckTRs</td>\n",
       "      <td>Good Morning , Have a great day</td>\n",
       "      <td>#HowdyMody</td>\n",
       "      <td>1</td>\n",
       "      <td>good morning great day</td>\n",
       "      <td>36</td>\n",
       "      <td>2019-09-21 07:42:45</td>\n",
       "    </tr>\n",
       "  </tbody>\n",
       "</table>\n",
       "</div>"
      ],
      "text/plain": [
       "             datetime  is_retweet  nbr_favorite  nbr_reply  nbr_retweet  \\\n",
       "0 2019-09-21 07:32:50  False       85            0          9             \n",
       "1 2019-09-21 07:35:28  False       0             0          0             \n",
       "2 2019-09-21 07:38:22  False       4             0          0             \n",
       "3 2019-09-21 07:39:03  False       51            5          19            \n",
       "4 2019-09-21 07:42:45  False       42            0          3             \n",
       "\n",
       "                                                                                                                                                                                                                                            text  \\\n",
       "0  all the best for #HowdyMody     https:// twitter.com/DevangVDave/st atus/1175205257690804224   …                                                                                                                                                \n",
       "1   Biggest event is Indian economy Modi is failed event manager reduced to self mythologising events please analyse correctly #HowdyMody  #SaturdayMorning                                                                                        \n",
       "2  I'm eagerly waiting for our PM speech in USA with president Trump. One isthe leader of  the world largest democracy and other is the leader of world oldest democracy share the platform together in howdy\\n#HowdyMody  @narendramodi  @POTUS   \n",
       "3  This is the real face of Islam. Normalising radical behaviour is dangerous. Let's remember jihad and Sharia are integral part of Muslim culture. \\n#DrQadriGreatReformer  #HowdyEnvy  #HowdyMody   pic.twitter.com/xs5UGAHzgC                   \n",
       "4  Good Morning , Have a great day  \\n#HowdyMody   pic.twitter.com/GgeJzckTRs                                                                                                                                                                      \n",
       "\n",
       "                                                                                                                                                                                                    cleaned_tweet  \\\n",
       "0  all the best for                                                                                                                                                                                                 \n",
       "1   Biggest event is Indian economy Modi is failed event manager reduced to self mythologising events please analyse correctly                                                                                      \n",
       "2  I'm eagerly waiting for our PM speech in USA with president Trump. One isthe leader of  the world largest democracy and other is the leader of world oldest democracy share the platform together in howdy       \n",
       "3  This is the real face of Islam. Normalising radical behaviour is dangerous. Let's remember jihad and Sharia are integral part of Muslim culture.                                                                 \n",
       "4  Good Morning , Have a great day                                                                                                                                                                                  \n",
       "\n",
       "                                      hashtags  nbr_hashtags  \\\n",
       "0  #HowdyMody                                   1              \n",
       "1  #HowdyMody #SaturdayMorning                  2              \n",
       "2  #HowdyMody                                   1              \n",
       "3  #DrQadriGreatReformer #HowdyEnvy #HowdyMody  3              \n",
       "4  #HowdyMody                                   1              \n",
       "\n",
       "                                                                                                                                 final_tweet  \\\n",
       "0  good                                                                                                                                        \n",
       "1  big event indian economy modi fail event manager reduce self mythologising event please analyse correctly                                   \n",
       "2  be eagerly wait pm speech usa president trump isthe leader world large democracy leader world old democracy share platform together howdy   \n",
       "3  real face islam normalise radical behaviour dangerous let remember jihad sharia integral part muslim culture                                \n",
       "4  good morning great day                                                                                                                      \n",
       "\n",
       "   length_tweet            DateTime  \n",
       "0  22           2019-09-21 07:32:50  \n",
       "1  126          2019-09-21 07:35:28  \n",
       "2  206          2019-09-21 07:38:22  \n",
       "3  152          2019-09-21 07:39:03  \n",
       "4  36           2019-09-21 07:42:45  "
      ]
     },
     "execution_count": 67,
     "metadata": {},
     "output_type": "execute_result"
    }
   ],
   "source": [
    "tweet.head()"
   ]
  },
  {
   "cell_type": "code",
   "execution_count": 68,
   "metadata": {},
   "outputs": [
    {
     "name": "stdout",
     "output_type": "stream",
     "text": [
      "<class 'pandas.core.frame.DataFrame'>\n",
      "RangeIndex: 16924 entries, 0 to 16923\n",
      "Data columns (total 12 columns):\n",
      "datetime         16924 non-null datetime64[ns]\n",
      "is_retweet       16924 non-null bool\n",
      "nbr_favorite     16924 non-null int64\n",
      "nbr_reply        16924 non-null int64\n",
      "nbr_retweet      16924 non-null int64\n",
      "text             16924 non-null object\n",
      "cleaned_tweet    16924 non-null object\n",
      "hashtags         16924 non-null object\n",
      "nbr_hashtags     16924 non-null int64\n",
      "final_tweet      16924 non-null object\n",
      "length_tweet     16924 non-null int64\n",
      "DateTime         16924 non-null datetime64[ns]\n",
      "dtypes: bool(1), datetime64[ns](2), int64(5), object(4)\n",
      "memory usage: 1.4+ MB\n"
     ]
    }
   ],
   "source": [
    "tweet.info()"
   ]
  },
  {
   "cell_type": "code",
   "execution_count": 69,
   "metadata": {},
   "outputs": [],
   "source": [
    "tweet['date']=tweet['datetime'].dt.day"
   ]
  },
  {
   "cell_type": "code",
   "execution_count": 70,
   "metadata": {},
   "outputs": [],
   "source": [
    "tweet['hours']=tweet['datetime'].dt.hour"
   ]
  },
  {
   "cell_type": "code",
   "execution_count": 71,
   "metadata": {},
   "outputs": [
    {
     "data": {
      "text/html": [
       "<div>\n",
       "<style scoped>\n",
       "    .dataframe tbody tr th:only-of-type {\n",
       "        vertical-align: middle;\n",
       "    }\n",
       "\n",
       "    .dataframe tbody tr th {\n",
       "        vertical-align: top;\n",
       "    }\n",
       "\n",
       "    .dataframe thead th {\n",
       "        text-align: right;\n",
       "    }\n",
       "</style>\n",
       "<table border=\"1\" class=\"dataframe\">\n",
       "  <thead>\n",
       "    <tr style=\"text-align: right;\">\n",
       "      <th></th>\n",
       "      <th>datetime</th>\n",
       "      <th>is_retweet</th>\n",
       "      <th>nbr_favorite</th>\n",
       "      <th>nbr_reply</th>\n",
       "      <th>nbr_retweet</th>\n",
       "      <th>text</th>\n",
       "      <th>cleaned_tweet</th>\n",
       "      <th>hashtags</th>\n",
       "      <th>nbr_hashtags</th>\n",
       "      <th>final_tweet</th>\n",
       "      <th>length_tweet</th>\n",
       "      <th>DateTime</th>\n",
       "      <th>date</th>\n",
       "      <th>hours</th>\n",
       "    </tr>\n",
       "  </thead>\n",
       "  <tbody>\n",
       "    <tr>\n",
       "      <th>11939</th>\n",
       "      <td>2019-09-23 00:36:38</td>\n",
       "      <td>False</td>\n",
       "      <td>0</td>\n",
       "      <td>0</td>\n",
       "      <td>0</td>\n",
       "      <td>Very Nice Program #HowdyMody</td>\n",
       "      <td>Very Nice Program</td>\n",
       "      <td>#HowdyMody</td>\n",
       "      <td>1</td>\n",
       "      <td>nice program</td>\n",
       "      <td>18</td>\n",
       "      <td>2019-09-23 00:36:38</td>\n",
       "      <td>23</td>\n",
       "      <td>0</td>\n",
       "    </tr>\n",
       "    <tr>\n",
       "      <th>16035</th>\n",
       "      <td>2019-09-24 05:07:13</td>\n",
       "      <td>False</td>\n",
       "      <td>0</td>\n",
       "      <td>0</td>\n",
       "      <td>0</td>\n",
       "      <td># HowdyModi  , #HowdyMody                           Mayor of #Houston  , pic.twitter.com/B0cUYLAu4i</td>\n",
       "      <td>,                            Mayor of   ,</td>\n",
       "      <td># HowdyModi #HowdyMody #Houston</td>\n",
       "      <td>3</td>\n",
       "      <td>mayor</td>\n",
       "      <td>44</td>\n",
       "      <td>2019-09-24 05:07:13</td>\n",
       "      <td>24</td>\n",
       "      <td>5</td>\n",
       "    </tr>\n",
       "    <tr>\n",
       "      <th>4738</th>\n",
       "      <td>2019-09-22 22:16:31</td>\n",
       "      <td>False</td>\n",
       "      <td>4</td>\n",
       "      <td>0</td>\n",
       "      <td>0</td>\n",
       "      <td>'Howdy, Modi!': @realDonaldTrump  Looks Forward to Meeting 'Great India Loving Community'\\n https://www. latestly.com/world/howdy-mo di-donald-trump-looks-forward-to-meeting-great-india-loving-community-1215119.html   … \\n#HowdyMody  #ModiInHouston  #DonaldTrump</td>\n",
       "      <td>'Howdy, Modi!':   Looks Forward to Meeting 'Great India Loving Community'</td>\n",
       "      <td></td>\n",
       "      <td>0</td>\n",
       "      <td>howdy modi look forward meeting ' great india love community</td>\n",
       "      <td>74</td>\n",
       "      <td>2019-09-22 22:16:31</td>\n",
       "      <td>22</td>\n",
       "      <td>22</td>\n",
       "    </tr>\n",
       "    <tr>\n",
       "      <th>8376</th>\n",
       "      <td>2019-09-22 23:22:05</td>\n",
       "      <td>False</td>\n",
       "      <td>0</td>\n",
       "      <td>0</td>\n",
       "      <td>0</td>\n",
       "      <td>Trump nails it with reference to\\n #radicalislamicterrorism \\n#HowdyMody</td>\n",
       "      <td>Trump nails it with reference to</td>\n",
       "      <td>#radicalislamicterrorism #HowdyMody</td>\n",
       "      <td>2</td>\n",
       "      <td>trump nail reference</td>\n",
       "      <td>34</td>\n",
       "      <td>2019-09-22 23:22:05</td>\n",
       "      <td>22</td>\n",
       "      <td>23</td>\n",
       "    </tr>\n",
       "    <tr>\n",
       "      <th>10608</th>\n",
       "      <td>2019-09-23 00:01:34</td>\n",
       "      <td>False</td>\n",
       "      <td>0</td>\n",
       "      <td>0</td>\n",
       "      <td>0</td>\n",
       "      <td>@ narendramodi  ups the ante against the rouge nation Pak and pushes for the right cause (the threat 0f terrorism).\\n#HowdyMody</td>\n",
       "      <td>ups the ante against the rouge nation Pak and pushes for the right cause (the threat 0f terrorism).</td>\n",
       "      <td>#HowdyMody</td>\n",
       "      <td>1</td>\n",
       "      <td>ups ante rouge nation pak push right cause threat terrorism</td>\n",
       "      <td>101</td>\n",
       "      <td>2019-09-23 00:01:34</td>\n",
       "      <td>23</td>\n",
       "      <td>0</td>\n",
       "    </tr>\n",
       "  </tbody>\n",
       "</table>\n",
       "</div>"
      ],
      "text/plain": [
       "                 datetime  is_retweet  nbr_favorite  nbr_reply  nbr_retweet  \\\n",
       "11939 2019-09-23 00:36:38  False       0             0          0             \n",
       "16035 2019-09-24 05:07:13  False       0             0          0             \n",
       "4738  2019-09-22 22:16:31  False       4             0          0             \n",
       "8376  2019-09-22 23:22:05  False       0             0          0             \n",
       "10608 2019-09-23 00:01:34  False       0             0          0             \n",
       "\n",
       "                                                                                                                                                                                                                                                                         text  \\\n",
       "11939  Very Nice Program #HowdyMody                                                                                                                                                                                                                                             \n",
       "16035  # HowdyModi  , #HowdyMody                           Mayor of #Houston  , pic.twitter.com/B0cUYLAu4i                                                                                                                                                                      \n",
       "4738   'Howdy, Modi!': @realDonaldTrump  Looks Forward to Meeting 'Great India Loving Community'\\n https://www. latestly.com/world/howdy-mo di-donald-trump-looks-forward-to-meeting-great-india-loving-community-1215119.html   … \\n#HowdyMody  #ModiInHouston  #DonaldTrump   \n",
       "8376   Trump nails it with reference to\\n #radicalislamicterrorism \\n#HowdyMody                                                                                                                                                                                                 \n",
       "10608  @ narendramodi  ups the ante against the rouge nation Pak and pushes for the right cause (the threat 0f terrorism).\\n#HowdyMody                                                                                                                                          \n",
       "\n",
       "                                                                                               cleaned_tweet  \\\n",
       "11939  Very Nice Program                                                                                       \n",
       "16035    ,                            Mayor of   ,                                                             \n",
       "4738   'Howdy, Modi!':   Looks Forward to Meeting 'Great India Loving Community'                               \n",
       "8376   Trump nails it with reference to                                                                        \n",
       "10608    ups the ante against the rouge nation Pak and pushes for the right cause (the threat 0f terrorism).   \n",
       "\n",
       "                                  hashtags  nbr_hashtags  \\\n",
       "11939  #HowdyMody                           1              \n",
       "16035  # HowdyModi #HowdyMody #Houston      3              \n",
       "4738                                        0              \n",
       "8376   #radicalislamicterrorism #HowdyMody  2              \n",
       "10608  #HowdyMody                           1              \n",
       "\n",
       "                                                        final_tweet  \\\n",
       "11939  nice program                                                   \n",
       "16035  mayor                                                          \n",
       "4738   howdy modi look forward meeting ' great india love community   \n",
       "8376   trump nail reference                                           \n",
       "10608  ups ante rouge nation pak push right cause threat terrorism    \n",
       "\n",
       "       length_tweet            DateTime  date  hours  \n",
       "11939  18           2019-09-23 00:36:38  23    0      \n",
       "16035  44           2019-09-24 05:07:13  24    5      \n",
       "4738   74           2019-09-22 22:16:31  22    22     \n",
       "8376   34           2019-09-22 23:22:05  22    23     \n",
       "10608  101          2019-09-23 00:01:34  23    0      "
      ]
     },
     "execution_count": 71,
     "metadata": {},
     "output_type": "execute_result"
    }
   ],
   "source": [
    "tweet.sample(5)"
   ]
  },
  {
   "cell_type": "code",
   "execution_count": 72,
   "metadata": {
    "scrolled": true
   },
   "outputs": [
    {
     "data": {
      "text/plain": [
       "Text(0.5, 1.0, 'What is the number of Tweets tweeted based on Date ')"
      ]
     },
     "execution_count": 72,
     "metadata": {},
     "output_type": "execute_result"
    },
    {
     "data": {
      "image/png": "[encoded data removed]",
      "text/plain": [
       "<Figure size 432x288 with 1 Axes>"
      ]
     },
     "metadata": {
      "needs_background": "light"
     },
     "output_type": "display_data"
    }
   ],
   "source": [
    "sns.kdeplot(tweet['date']).set_title(\"What is the number of Tweets tweeted based on Date \")"
   ]
  },
  {
   "cell_type": "code",
   "execution_count": 73,
   "metadata": {},
   "outputs": [
    {
     "data": {
      "text/plain": [
       "22    9598\n",
       "23    5444\n",
       "21    924 \n",
       "24    348 \n",
       "25    178 \n",
       "26    112 \n",
       "27    110 \n",
       "28    107 \n",
       "29    99  \n",
       "30    4   \n",
       "Name: date, dtype: int64"
      ]
     },
     "execution_count": 73,
     "metadata": {},
     "output_type": "execute_result"
    }
   ],
   "source": [
    "tweet['date'].value_counts()"
   ]
  },
  {
   "cell_type": "markdown",
   "metadata": {},
   "source": [
    "## Are there any particular hour where the number of tweets were higher - is there any significance "
   ]
  },
  {
   "cell_type": "code",
   "execution_count": 74,
   "metadata": {},
   "outputs": [
    {
     "data": {
      "text/plain": [
       "Text(0.5, 1.0, 'Are there any particular hour where the number of tweets were higher - is there any significance ')"
      ]
     },
     "execution_count": 74,
     "metadata": {},
     "output_type": "execute_result"
    },
    {
     "data": {
      "image/png": "[encoded data removed]",
      "text/plain": [
       "<Figure size 432x288 with 1 Axes>"
      ]
     },
     "metadata": {
      "needs_background": "light"
     },
     "output_type": "display_data"
    }
   ],
   "source": [
    "sns.kdeplot(tweet['hours']).set_title(\"Are there any particular hour where the number of tweets were higher - is there any significance \")"
   ]
  },
  {
   "cell_type": "code",
   "execution_count": 75,
   "metadata": {},
   "outputs": [
    {
     "data": {
      "text/plain": [
       "23    4012\n",
       "22    2483\n",
       "0     2114\n",
       "21    744 \n",
       "19    742 \n",
       "1     693 \n",
       "20    682 \n",
       "8     600 \n",
       "18    542 \n",
       "9     541 \n",
       "12    446 \n",
       "7     444 \n",
       "11    357 \n",
       "10    327 \n",
       "17    302 \n",
       "16    302 \n",
       "13    290 \n",
       "15    286 \n",
       "14    280 \n",
       "2     226 \n",
       "6     193 \n",
       "5     116 \n",
       "3     112 \n",
       "4     90  \n",
       "Name: hours, dtype: int64"
      ]
     },
     "execution_count": 75,
     "metadata": {},
     "output_type": "execute_result"
    }
   ],
   "source": [
    "tweet['hours'].value_counts()"
   ]
  },
  {
   "cell_type": "markdown",
   "metadata": {},
   "source": [
    "## What other hashtags commonly occur with the hashtag you have scrapped for"
   ]
  },
  {
   "cell_type": "code",
   "execution_count": 76,
   "metadata": {},
   "outputs": [],
   "source": [
    "def common_hashtags(text):\n",
    "    retrieve=re.sub('#HowdyMody','',text)\n",
    "    retrieve_new=re.sub(' +',' ', retrieve)\n",
    "    return retrieve_new"
   ]
  },
  {
   "cell_type": "code",
   "execution_count": 77,
   "metadata": {},
   "outputs": [],
   "source": [
    "tweet['different_tags']=tweet['hashtags'].apply(lambda x:common_hashtags(x))"
   ]
  },
  {
   "cell_type": "code",
   "execution_count": 78,
   "metadata": {},
   "outputs": [
    {
     "data": {
      "text/html": [
       "<div>\n",
       "<style scoped>\n",
       "    .dataframe tbody tr th:only-of-type {\n",
       "        vertical-align: middle;\n",
       "    }\n",
       "\n",
       "    .dataframe tbody tr th {\n",
       "        vertical-align: top;\n",
       "    }\n",
       "\n",
       "    .dataframe thead th {\n",
       "        text-align: right;\n",
       "    }\n",
       "</style>\n",
       "<table border=\"1\" class=\"dataframe\">\n",
       "  <thead>\n",
       "    <tr style=\"text-align: right;\">\n",
       "      <th></th>\n",
       "      <th>datetime</th>\n",
       "      <th>is_retweet</th>\n",
       "      <th>nbr_favorite</th>\n",
       "      <th>nbr_reply</th>\n",
       "      <th>nbr_retweet</th>\n",
       "      <th>text</th>\n",
       "      <th>cleaned_tweet</th>\n",
       "      <th>hashtags</th>\n",
       "      <th>nbr_hashtags</th>\n",
       "      <th>final_tweet</th>\n",
       "      <th>length_tweet</th>\n",
       "      <th>DateTime</th>\n",
       "      <th>date</th>\n",
       "      <th>hours</th>\n",
       "      <th>different_tags</th>\n",
       "    </tr>\n",
       "  </thead>\n",
       "  <tbody>\n",
       "    <tr>\n",
       "      <th>11012</th>\n",
       "      <td>2019-09-23 00:11:12</td>\n",
       "      <td>False</td>\n",
       "      <td>4</td>\n",
       "      <td>0</td>\n",
       "      <td>1</td>\n",
       "      <td>Librandus reaction when Donald Trump said we will fight against Radical Islamic Terrorism\\n#HowdyMody   pic.twitter.com/4NOiii7dRv</td>\n",
       "      <td>Librandus reaction when Donald Trump said we will fight against Radical Islamic Terrorism</td>\n",
       "      <td>#HowdyMody</td>\n",
       "      <td>1</td>\n",
       "      <td>librandus reaction donald trump say fight radical islamic terrorism</td>\n",
       "      <td>92</td>\n",
       "      <td>2019-09-23 00:11:12</td>\n",
       "      <td>23</td>\n",
       "      <td>0</td>\n",
       "      <td></td>\n",
       "    </tr>\n",
       "    <tr>\n",
       "      <th>15229</th>\n",
       "      <td>2019-09-23 15:24:23</td>\n",
       "      <td>False</td>\n",
       "      <td>1</td>\n",
       "      <td>1</td>\n",
       "      <td>0</td>\n",
       "      <td>USA &amp; @POTUS  are trying to save their #tumbling  #economy  via supporting #FascistModi  by cheering him #HowdyMody .\\nYou don't have enough time #USA , your #supreme  position is under threat by #China .\\nIts #rollercoster  ride for you, which ultimately result in your downfall #Pakistan . pic.twitter.com/6Vh50QPLNt</td>\n",
       "      <td>USA &amp;   are trying to save their     via supporting   by cheering him  .You don't have enough time  , your   position is under threat by  .Its   ride for you, which ultimately result in your downfall  .</td>\n",
       "      <td>#tumbling #economy #FascistModi #HowdyMody #USA #supreme #China #rollercoster #Pakistan</td>\n",
       "      <td>9</td>\n",
       "      <td>usa &amp; try save via support cheer not enough time position threat ride ultimately result downfall</td>\n",
       "      <td>203</td>\n",
       "      <td>2019-09-23 15:24:23</td>\n",
       "      <td>23</td>\n",
       "      <td>15</td>\n",
       "      <td>#tumbling #economy #FascistModi #USA #supreme #China #rollercoster #Pakistan</td>\n",
       "    </tr>\n",
       "    <tr>\n",
       "      <th>3024</th>\n",
       "      <td>2019-09-22 18:51:11</td>\n",
       "      <td>False</td>\n",
       "      <td>0</td>\n",
       "      <td>0</td>\n",
       "      <td>0</td>\n",
       "      <td>Wow channels like @ndtv  @MumbaiMirror  are also seem to \"act\" excited about #HowdyMody ... Looks like there is no choice for them.</td>\n",
       "      <td>Wow channels like     are also seem to \"act\" excited about  ... Looks like there is no choice for them.</td>\n",
       "      <td>#HowdyMody</td>\n",
       "      <td>1</td>\n",
       "      <td>wow channel like also seem act excited look like choice</td>\n",
       "      <td>103</td>\n",
       "      <td>2019-09-22 18:51:11</td>\n",
       "      <td>22</td>\n",
       "      <td>18</td>\n",
       "      <td></td>\n",
       "    </tr>\n",
       "    <tr>\n",
       "      <th>15237</th>\n",
       "      <td>2019-09-23 15:36:28</td>\n",
       "      <td>False</td>\n",
       "      <td>6</td>\n",
       "      <td>0</td>\n",
       "      <td>0</td>\n",
       "      <td>All those #selfies  lover..\\nBEAT THIS IF U CAN \\nThe Most Powerful #selfie  in the world   Lucky Boy \\n#HowdyModi  #HowdyMody   pic.twitter.com/8Kxzb2Scl0</td>\n",
       "      <td>All those   lover..BEAT THIS IF U CAN The Most Powerful   in the world   Lucky Boy</td>\n",
       "      <td>#selfies #selfie #HowdyModi #HowdyMody</td>\n",
       "      <td>4</td>\n",
       "      <td>lover beat powerful world lucky boy</td>\n",
       "      <td>88</td>\n",
       "      <td>2019-09-23 15:36:28</td>\n",
       "      <td>23</td>\n",
       "      <td>15</td>\n",
       "      <td>#selfies #selfie #HowdyModi</td>\n",
       "    </tr>\n",
       "    <tr>\n",
       "      <th>5063</th>\n",
       "      <td>2019-09-22 22:31:43</td>\n",
       "      <td>False</td>\n",
       "      <td>0</td>\n",
       "      <td>0</td>\n",
       "      <td>0</td>\n",
       "      <td>Soooooo trueeeee #HowdyMody</td>\n",
       "      <td>Soooooo trueeeee</td>\n",
       "      <td>#HowdyMody</td>\n",
       "      <td>1</td>\n",
       "      <td>soooooo trueeeee</td>\n",
       "      <td>17</td>\n",
       "      <td>2019-09-22 22:31:43</td>\n",
       "      <td>22</td>\n",
       "      <td>22</td>\n",
       "      <td></td>\n",
       "    </tr>\n",
       "    <tr>\n",
       "      <th>12147</th>\n",
       "      <td>2019-09-23 00:44:13</td>\n",
       "      <td>False</td>\n",
       "      <td>5</td>\n",
       "      <td>0</td>\n",
       "      <td>3</td>\n",
       "      <td>Modi &amp;trump after speeches ....#HowdyMody  \\n#TrumpRally pic.twitter.com/MyRqdzE02p</td>\n",
       "      <td>Modi &amp;trump after speeches ....</td>\n",
       "      <td>#HowdyMody #TrumpRally</td>\n",
       "      <td>2</td>\n",
       "      <td>modi &amp; trump speech</td>\n",
       "      <td>34</td>\n",
       "      <td>2019-09-23 00:44:13</td>\n",
       "      <td>23</td>\n",
       "      <td>0</td>\n",
       "      <td>#TrumpRally</td>\n",
       "    </tr>\n",
       "    <tr>\n",
       "      <th>8545</th>\n",
       "      <td>2019-09-22 23:24:09</td>\n",
       "      <td>False</td>\n",
       "      <td>22</td>\n",
       "      <td>0</td>\n",
       "      <td>10</td>\n",
       "      <td>Tukde gang after trump talked about Islamic radicalization and illegal immigrants  \\n#HowdyMody   pic.twitter.com/XZx1GRs6Ce</td>\n",
       "      <td>Tukde gang after trump talked about Islamic radicalization and illegal immigrants</td>\n",
       "      <td>#HowdyMody</td>\n",
       "      <td>1</td>\n",
       "      <td>tukde gang trump talk islamic radicalization illegal immigrant</td>\n",
       "      <td>86</td>\n",
       "      <td>2019-09-22 23:24:09</td>\n",
       "      <td>22</td>\n",
       "      <td>23</td>\n",
       "      <td></td>\n",
       "    </tr>\n",
       "    <tr>\n",
       "      <th>4130</th>\n",
       "      <td>2019-09-22 21:14:58</td>\n",
       "      <td>False</td>\n",
       "      <td>8</td>\n",
       "      <td>0</td>\n",
       "      <td>2</td>\n",
       "      <td>Awaiting for the leader of the world’s largest democracy and leader of world oldest democracy to arrive! @narendramodi  @POTUS  #HowdyMody  #ModiInHouston  #ModiInUSA pic.twitter.com/g3B4IMYwZF</td>\n",
       "      <td>Awaiting for the leader of the world’s largest democracy and leader of world oldest democracy to arrive!</td>\n",
       "      <td>#HowdyMody #ModiInHouston #ModiInUSA</td>\n",
       "      <td>3</td>\n",
       "      <td>await leader world ’s large democracy leader world old democracy arrive</td>\n",
       "      <td>114</td>\n",
       "      <td>2019-09-22 21:14:58</td>\n",
       "      <td>22</td>\n",
       "      <td>21</td>\n",
       "      <td>#ModiInHouston #ModiInUSA</td>\n",
       "    </tr>\n",
       "    <tr>\n",
       "      <th>13098</th>\n",
       "      <td>2019-09-23 02:00:20</td>\n",
       "      <td>False</td>\n",
       "      <td>0</td>\n",
       "      <td>0</td>\n",
       "      <td>0</td>\n",
       "      <td>Trump saying securing American border from illegal immigrants and Modi desi fans clapping madly! Atleast 500,000 illegal Indian immigrants are in the USA. This is the largest number of illegal immigrants from any country outside American continents. #HowdyMody  #AdiosModi</td>\n",
       "      <td>Trump saying securing American border from illegal immigrants and Modi desi fans clapping madly! Atleast 500,000 illegal Indian immigrants are in the USA. This is the largest number of illegal immigrants from any country outside American continents.</td>\n",
       "      <td>#HowdyMody #AdiosModi</td>\n",
       "      <td>2</td>\n",
       "      <td>trump say secure american border illegal immigrant modi desi fan clap madly atleast illegal indian immigrant usa large number illegal immigrant country outside american continent</td>\n",
       "      <td>252</td>\n",
       "      <td>2019-09-23 02:00:20</td>\n",
       "      <td>23</td>\n",
       "      <td>2</td>\n",
       "      <td>#AdiosModi</td>\n",
       "    </tr>\n",
       "    <tr>\n",
       "      <th>10751</th>\n",
       "      <td>2019-09-23 00:04:25</td>\n",
       "      <td>False</td>\n",
       "      <td>8</td>\n",
       "      <td>0</td>\n",
       "      <td>1</td>\n",
       "      <td>New era of Indian politics.\\n#HowdyMody  #HowdyModi pic.twitter.com/UOiowNBcAL</td>\n",
       "      <td>New era of Indian politics.</td>\n",
       "      <td>#HowdyMody #HowdyModi</td>\n",
       "      <td>2</td>\n",
       "      <td>new era indian politic</td>\n",
       "      <td>30</td>\n",
       "      <td>2019-09-23 00:04:25</td>\n",
       "      <td>23</td>\n",
       "      <td>0</td>\n",
       "      <td>#HowdyModi</td>\n",
       "    </tr>\n",
       "    <tr>\n",
       "      <th>12556</th>\n",
       "      <td>2019-09-23 01:02:40</td>\n",
       "      <td>False</td>\n",
       "      <td>3</td>\n",
       "      <td>0</td>\n",
       "      <td>1</td>\n",
       "      <td>He who is filling in America\\n is the watchman of my India! \\nToday I feel very proud of myself. \\nWe are proud of our prime minister @narendramodi  \\n\\n#HowdyModi  \\n#HowdyMody  \\n#ModiInHouston  \\n#modiTrumpDosti  \\n#MODIinUSA pic.twitter.com/ZDztH1zE64</td>\n",
       "      <td>He who is filling in America is the watchman of my India! Today I feel very proud of myself. We are proud of our prime minister</td>\n",
       "      <td>#HowdyModi #HowdyMody #ModiInHouston #modiTrumpDosti #MODIinUSA</td>\n",
       "      <td>5</td>\n",
       "      <td>fill america watchman india today feel proud proud prime minister</td>\n",
       "      <td>139</td>\n",
       "      <td>2019-09-23 01:02:40</td>\n",
       "      <td>23</td>\n",
       "      <td>1</td>\n",
       "      <td>#HowdyModi #ModiInHouston #modiTrumpDosti #MODIinUSA</td>\n",
       "    </tr>\n",
       "    <tr>\n",
       "      <th>11553</th>\n",
       "      <td>2019-09-23 00:24:55</td>\n",
       "      <td>False</td>\n",
       "      <td>0</td>\n",
       "      <td>0</td>\n",
       "      <td>0</td>\n",
       "      <td>@ smitaprakash  mam, i have a question, how is @ANI  consistently maintaining quality of image same all the time? #HowdyMody</td>\n",
       "      <td>mam, i have a question, how is   consistently maintaining quality of image same all the time?</td>\n",
       "      <td>#HowdyMody</td>\n",
       "      <td>1</td>\n",
       "      <td>mam question consistently maintain quality image time</td>\n",
       "      <td>96</td>\n",
       "      <td>2019-09-23 00:24:55</td>\n",
       "      <td>23</td>\n",
       "      <td>0</td>\n",
       "      <td></td>\n",
       "    </tr>\n",
       "    <tr>\n",
       "      <th>11453</th>\n",
       "      <td>2019-09-23 00:22:59</td>\n",
       "      <td>False</td>\n",
       "      <td>1</td>\n",
       "      <td>0</td>\n",
       "      <td>0</td>\n",
       "      <td>Just amazed watching full event #HowdyModi  #HowdyMody  in #Houston  #Texas  \\nClear message from #ModiInUSA  #ModiInHouston  &amp; #President  #Trump  more business, more mutual cooperation, more friendship, zero tolerance against illegal migrant and terrorists. Great night! Good night!</td>\n",
       "      <td>Just amazed watching full event     in     Clear message from     &amp;     more business, more mutual cooperation, more friendship, zero tolerance against illegal migrant and terrorists. Great night! Good night!</td>\n",
       "      <td>#HowdyModi #HowdyMody #Houston #Texas #ModiInUSA #ModiInHouston #President #Trump</td>\n",
       "      <td>8</td>\n",
       "      <td>amazed watch full event clear message &amp; business mutual cooperation friendship tolerance illegal migrant terrorist great night good night</td>\n",
       "      <td>208</td>\n",
       "      <td>2019-09-23 00:22:59</td>\n",
       "      <td>23</td>\n",
       "      <td>0</td>\n",
       "      <td>#HowdyModi #Houston #Texas #ModiInUSA #ModiInHouston #President #Trump</td>\n",
       "    </tr>\n",
       "    <tr>\n",
       "      <th>12916</th>\n",
       "      <td>2019-09-23 01:28:44</td>\n",
       "      <td>False</td>\n",
       "      <td>4</td>\n",
       "      <td>1</td>\n",
       "      <td>2</td>\n",
       "      <td>American president @realDonaldTrump  has said openly that he will fight against \\n\"Radical Islamic terrorism\" \\n\\n#HowdyMody  . \\n\\n https:// twitter.com/KTHopkins/stat us/1175854856684412928?s=19   …</td>\n",
       "      <td>American president   has said openly that he will fight against \"Radical Islamic terrorism\"   .</td>\n",
       "      <td>#HowdyMody</td>\n",
       "      <td>1</td>\n",
       "      <td>american president say openly fight radical islamic terrorism</td>\n",
       "      <td>97</td>\n",
       "      <td>2019-09-23 01:28:44</td>\n",
       "      <td>23</td>\n",
       "      <td>1</td>\n",
       "      <td></td>\n",
       "    </tr>\n",
       "    <tr>\n",
       "      <th>14185</th>\n",
       "      <td>2019-09-23 08:42:40</td>\n",
       "      <td>False</td>\n",
       "      <td>10</td>\n",
       "      <td>0</td>\n",
       "      <td>0</td>\n",
       "      <td># HowdyMody  ..Trump mentioned #IslamicTerrorism  . was just wondering if #Modi  had uttered this the Indian #media  would have gone crazy as also the pseudo seculars when the most powoerful man on earth says it all applaud him</td>\n",
       "      <td>..Trump mentioned   . was just wondering if   had uttered this the Indian   would have gone crazy as also the pseudo seculars when the most powoerful man on earth says it all applaud him</td>\n",
       "      <td># HowdyMody #IslamicTerrorism #Modi #media</td>\n",
       "      <td>4</td>\n",
       "      <td>trump mention wonder utter indian would go crazy also pseudo secular powoerful man earth say applaud</td>\n",
       "      <td>188</td>\n",
       "      <td>2019-09-23 08:42:40</td>\n",
       "      <td>23</td>\n",
       "      <td>8</td>\n",
       "      <td># HowdyMody #IslamicTerrorism #Modi #media</td>\n",
       "    </tr>\n",
       "    <tr>\n",
       "      <th>14102</th>\n",
       "      <td>2019-09-23 08:32:40</td>\n",
       "      <td>False</td>\n",
       "      <td>44</td>\n",
       "      <td>2</td>\n",
       "      <td>10</td>\n",
       "      <td>\"Today, I have the honour to introduce you to my family\"\\n#HowdyModi  #ModiInHouston  #Houston  #Trump  #HowdyMody   pic.twitter.com/qFTT0QIxur</td>\n",
       "      <td>\"Today, I have the honour to introduce you to my family\"</td>\n",
       "      <td>#HowdyModi #ModiInHouston #Houston #Trump #HowdyMody</td>\n",
       "      <td>5</td>\n",
       "      <td>today honour introduce family</td>\n",
       "      <td>67</td>\n",
       "      <td>2019-09-23 08:32:40</td>\n",
       "      <td>23</td>\n",
       "      <td>8</td>\n",
       "      <td>#HowdyModi #ModiInHouston #Houston #Trump</td>\n",
       "    </tr>\n",
       "    <tr>\n",
       "      <th>5931</th>\n",
       "      <td>2019-09-22 22:50:01</td>\n",
       "      <td>False</td>\n",
       "      <td>0</td>\n",
       "      <td>0</td>\n",
       "      <td>0</td>\n",
       "      <td>First of its own kind event in US #HowdyMody  @narendramodi  from India welcoming us president in US... This is called welcoming US in US by India.... Ultimate... Proud moment for india... #HowdyModi  #ModiInHouston  #ModiTrumpDosti  #ModiInUSA  #NarendraModi</td>\n",
       "      <td>First of its own kind event in US     from India welcoming us president in US... This is called welcoming US in US by India.... Ultimate... Proud moment for india...</td>\n",
       "      <td>#HowdyMody #HowdyModi #ModiInHouston #ModiTrumpDosti #ModiInUSA #NarendraModi</td>\n",
       "      <td>6</td>\n",
       "      <td>first kind event india welcome us president call welcome india ultimate proud moment india</td>\n",
       "      <td>174</td>\n",
       "      <td>2019-09-22 22:50:01</td>\n",
       "      <td>22</td>\n",
       "      <td>22</td>\n",
       "      <td>#HowdyModi #ModiInHouston #ModiTrumpDosti #ModiInUSA #NarendraModi</td>\n",
       "    </tr>\n",
       "    <tr>\n",
       "      <th>1068</th>\n",
       "      <td>2019-09-22 02:03:59</td>\n",
       "      <td>False</td>\n",
       "      <td>4</td>\n",
       "      <td>0</td>\n",
       "      <td>1</td>\n",
       "      <td># HowdyMody  traveling from Dallas to Houston for tomorrow @PMOIndia  @narendramodi  @realDonaldTrump pic.twitter.com/lTsKFz1lVk</td>\n",
       "      <td>traveling from Dallas to Houston for tomorrow</td>\n",
       "      <td># HowdyMody</td>\n",
       "      <td>1</td>\n",
       "      <td>travel dallas houston tomorrow</td>\n",
       "      <td>53</td>\n",
       "      <td>2019-09-22 02:03:59</td>\n",
       "      <td>22</td>\n",
       "      <td>2</td>\n",
       "      <td># HowdyMody</td>\n",
       "    </tr>\n",
       "    <tr>\n",
       "      <th>16920</th>\n",
       "      <td>2019-09-30 01:26:22</td>\n",
       "      <td>False</td>\n",
       "      <td>1</td>\n",
       "      <td>0</td>\n",
       "      <td>1</td>\n",
       "      <td># NEWS  :\\n\\nAll #NRI , #PIO , #GreenCard , #PRstatus , PATRIOTS are PROUD of #Modi  Ji due to their #Love_For_India  !\\n\\nJai Hind \\n\\n#ModiStyleDiplomacy  #ModiInUSA  #ModiUNGASpeech  #ModiFatherFaceOff  #ModiCreatesHistory  #modi  #HowdyMody  #HowdyModi  #NewYork  #ModiHaiToMumkinHai  #EconomyCrisis pic.twitter.com/C6eLnekKFq</td>\n",
       "      <td>:All  ,  ,  ,  , PATRIOTS are PROUD of   Ji due to their   !Jai Hind</td>\n",
       "      <td># NEWS #NRI #PIO #GreenCard #PRstatus #Modi #Love_For_India #ModiStyleDiplomacy #ModiInUSA #ModiUNGASpeech #ModiFatherFaceOff #ModiCreatesHistory #modi #HowdyMody #HowdyModi #NewYork #ModiHaiToMumkinHai #EconomyCrisis</td>\n",
       "      <td>18</td>\n",
       "      <td>patriot proud ji due jai hind</td>\n",
       "      <td>92</td>\n",
       "      <td>2019-09-30 01:26:22</td>\n",
       "      <td>30</td>\n",
       "      <td>1</td>\n",
       "      <td># NEWS #NRI #PIO #GreenCard #PRstatus #Modi #Love_For_India #ModiStyleDiplomacy #ModiInUSA #ModiUNGASpeech #ModiFatherFaceOff #ModiCreatesHistory #modi #HowdyModi #NewYork #ModiHaiToMumkinHai #EconomyCrisis</td>\n",
       "    </tr>\n",
       "    <tr>\n",
       "      <th>15105</th>\n",
       "      <td>2019-09-23 13:42:42</td>\n",
       "      <td>False</td>\n",
       "      <td>0</td>\n",
       "      <td>0</td>\n",
       "      <td>0</td>\n",
       "      <td>I got a pretty strong counter to my anti #HowdyMody  stance . Opposing views are a good thing for a healthy democracy however an interesting observation is that I seldom come across civil opposition in a decent voice. It’s mostly in derogatory or personal attack form wonder y</td>\n",
       "      <td>I got a pretty strong counter to my anti   stance . Opposing views are a good thing for a healthy democracy however an interesting observation is that I seldom come across civil opposition in a decent voice. It’s mostly in derogatory or personal attack form wonder y</td>\n",
       "      <td>#HowdyMody</td>\n",
       "      <td>1</td>\n",
       "      <td>get pretty strong counter anti stance oppose view good thing healthy democracy however interesting observation seldom come across civil opposition decent voice ’ mostly derogatory personal attack form wonder</td>\n",
       "      <td>267</td>\n",
       "      <td>2019-09-23 13:42:42</td>\n",
       "      <td>23</td>\n",
       "      <td>13</td>\n",
       "      <td></td>\n",
       "    </tr>\n",
       "  </tbody>\n",
       "</table>\n",
       "</div>"
      ],
      "text/plain": [
       "                 datetime  is_retweet  nbr_favorite  nbr_reply  nbr_retweet  \\\n",
       "11012 2019-09-23 00:11:12  False       4             0          1             \n",
       "15229 2019-09-23 15:24:23  False       1             1          0             \n",
       "3024  2019-09-22 18:51:11  False       0             0          0             \n",
       "15237 2019-09-23 15:36:28  False       6             0          0             \n",
       "5063  2019-09-22 22:31:43  False       0             0          0             \n",
       "12147 2019-09-23 00:44:13  False       5             0          3             \n",
       "8545  2019-09-22 23:24:09  False       22            0          10            \n",
       "4130  2019-09-22 21:14:58  False       8             0          2             \n",
       "13098 2019-09-23 02:00:20  False       0             0          0             \n",
       "10751 2019-09-23 00:04:25  False       8             0          1             \n",
       "12556 2019-09-23 01:02:40  False       3             0          1             \n",
       "11553 2019-09-23 00:24:55  False       0             0          0             \n",
       "11453 2019-09-23 00:22:59  False       1             0          0             \n",
       "12916 2019-09-23 01:28:44  False       4             1          2             \n",
       "14185 2019-09-23 08:42:40  False       10            0          0             \n",
       "14102 2019-09-23 08:32:40  False       44            2          10            \n",
       "5931  2019-09-22 22:50:01  False       0             0          0             \n",
       "1068  2019-09-22 02:03:59  False       4             0          1             \n",
       "16920 2019-09-30 01:26:22  False       1             0          1             \n",
       "15105 2019-09-23 13:42:42  False       0             0          0             \n",
       "\n",
       "                                                                                                                                                                                                                                                                                                                                             text  \\\n",
       "11012  Librandus reaction when Donald Trump said we will fight against Radical Islamic Terrorism\\n#HowdyMody   pic.twitter.com/4NOiii7dRv                                                                                                                                                                                                           \n",
       "15229  USA & @POTUS  are trying to save their #tumbling  #economy  via supporting #FascistModi  by cheering him #HowdyMody .\\nYou don't have enough time #USA , your #supreme  position is under threat by #China .\\nIts #rollercoster  ride for you, which ultimately result in your downfall #Pakistan . pic.twitter.com/6Vh50QPLNt               \n",
       "3024   Wow channels like @ndtv  @MumbaiMirror  are also seem to \"act\" excited about #HowdyMody ... Looks like there is no choice for them.                                                                                                                                                                                                          \n",
       "15237  All those #selfies  lover..\\nBEAT THIS IF U CAN \\nThe Most Powerful #selfie  in the world   Lucky Boy \\n#HowdyModi  #HowdyMody   pic.twitter.com/8Kxzb2Scl0                                                                                                                                                                                  \n",
       "5063   Soooooo trueeeee #HowdyMody                                                                                                                                                                                                                                                                                                                  \n",
       "12147  Modi &trump after speeches ....#HowdyMody  \\n#TrumpRally pic.twitter.com/MyRqdzE02p                                                                                                                                                                                                                                                          \n",
       "8545   Tukde gang after trump talked about Islamic radicalization and illegal immigrants  \\n#HowdyMody   pic.twitter.com/XZx1GRs6Ce                                                                                                                                                                                                                 \n",
       "4130   Awaiting for the leader of the world’s largest democracy and leader of world oldest democracy to arrive! @narendramodi  @POTUS  #HowdyMody  #ModiInHouston  #ModiInUSA pic.twitter.com/g3B4IMYwZF                                                                                                                                            \n",
       "13098  Trump saying securing American border from illegal immigrants and Modi desi fans clapping madly! Atleast 500,000 illegal Indian immigrants are in the USA. This is the largest number of illegal immigrants from any country outside American continents. #HowdyMody  #AdiosModi                                                             \n",
       "10751  New era of Indian politics.\\n#HowdyMody  #HowdyModi pic.twitter.com/UOiowNBcAL                                                                                                                                                                                                                                                               \n",
       "12556  He who is filling in America\\n is the watchman of my India! \\nToday I feel very proud of myself. \\nWe are proud of our prime minister @narendramodi  \\n\\n#HowdyModi  \\n#HowdyMody  \\n#ModiInHouston  \\n#modiTrumpDosti  \\n#MODIinUSA pic.twitter.com/ZDztH1zE64                                                                              \n",
       "11553  @ smitaprakash  mam, i have a question, how is @ANI  consistently maintaining quality of image same all the time? #HowdyMody                                                                                                                                                                                                                 \n",
       "11453  Just amazed watching full event #HowdyModi  #HowdyMody  in #Houston  #Texas  \\nClear message from #ModiInUSA  #ModiInHouston  & #President  #Trump  more business, more mutual cooperation, more friendship, zero tolerance against illegal migrant and terrorists. Great night! Good night!                                                 \n",
       "12916  American president @realDonaldTrump  has said openly that he will fight against \\n\"Radical Islamic terrorism\" \\n\\n#HowdyMody  . \\n\\n https:// twitter.com/KTHopkins/stat us/1175854856684412928?s=19   …                                                                                                                                     \n",
       "14185  # HowdyMody  ..Trump mentioned #IslamicTerrorism  . was just wondering if #Modi  had uttered this the Indian #media  would have gone crazy as also the pseudo seculars when the most powoerful man on earth says it all applaud him                                                                                                          \n",
       "14102  \"Today, I have the honour to introduce you to my family\"\\n#HowdyModi  #ModiInHouston  #Houston  #Trump  #HowdyMody   pic.twitter.com/qFTT0QIxur                                                                                                                                                                                              \n",
       "5931   First of its own kind event in US #HowdyMody  @narendramodi  from India welcoming us president in US... This is called welcoming US in US by India.... Ultimate... Proud moment for india... #HowdyModi  #ModiInHouston  #ModiTrumpDosti  #ModiInUSA  #NarendraModi                                                                          \n",
       "1068   # HowdyMody  traveling from Dallas to Houston for tomorrow @PMOIndia  @narendramodi  @realDonaldTrump pic.twitter.com/lTsKFz1lVk                                                                                                                                                                                                             \n",
       "16920  # NEWS  :\\n\\nAll #NRI , #PIO , #GreenCard , #PRstatus , PATRIOTS are PROUD of #Modi  Ji due to their #Love_For_India  !\\n\\nJai Hind \\n\\n#ModiStyleDiplomacy  #ModiInUSA  #ModiUNGASpeech  #ModiFatherFaceOff  #ModiCreatesHistory  #modi  #HowdyMody  #HowdyModi  #NewYork  #ModiHaiToMumkinHai  #EconomyCrisis pic.twitter.com/C6eLnekKFq   \n",
       "15105  I got a pretty strong counter to my anti #HowdyMody  stance . Opposing views are a good thing for a healthy democracy however an interesting observation is that I seldom come across civil opposition in a decent voice. It’s mostly in derogatory or personal attack form wonder y                                                         \n",
       "\n",
       "                                                                                                                                                                                                                                                                     cleaned_tweet  \\\n",
       "11012  Librandus reaction when Donald Trump said we will fight against Radical Islamic Terrorism                                                                                                                                                                                     \n",
       "15229  USA &   are trying to save their     via supporting   by cheering him  .You don't have enough time  , your   position is under threat by  .Its   ride for you, which ultimately result in your downfall  .                                                                    \n",
       "3024   Wow channels like     are also seem to \"act\" excited about  ... Looks like there is no choice for them.                                                                                                                                                                       \n",
       "15237  All those   lover..BEAT THIS IF U CAN The Most Powerful   in the world   Lucky Boy                                                                                                                                                                                            \n",
       "5063   Soooooo trueeeee                                                                                                                                                                                                                                                              \n",
       "12147  Modi &trump after speeches ....                                                                                                                                                                                                                                               \n",
       "8545   Tukde gang after trump talked about Islamic radicalization and illegal immigrants                                                                                                                                                                                             \n",
       "4130   Awaiting for the leader of the world’s largest democracy and leader of world oldest democracy to arrive!                                                                                                                                                                      \n",
       "13098  Trump saying securing American border from illegal immigrants and Modi desi fans clapping madly! Atleast 500,000 illegal Indian immigrants are in the USA. This is the largest number of illegal immigrants from any country outside American continents.                     \n",
       "10751  New era of Indian politics.                                                                                                                                                                                                                                                   \n",
       "12556  He who is filling in America is the watchman of my India! Today I feel very proud of myself. We are proud of our prime minister                                                                                                                                               \n",
       "11553    mam, i have a question, how is   consistently maintaining quality of image same all the time?                                                                                                                                                                               \n",
       "11453  Just amazed watching full event     in     Clear message from     &     more business, more mutual cooperation, more friendship, zero tolerance against illegal migrant and terrorists. Great night! Good night!                                                              \n",
       "12916  American president   has said openly that he will fight against \"Radical Islamic terrorism\"   .                                                                                                                                                                               \n",
       "14185    ..Trump mentioned   . was just wondering if   had uttered this the Indian   would have gone crazy as also the pseudo seculars when the most powoerful man on earth says it all applaud him                                                                                  \n",
       "14102  \"Today, I have the honour to introduce you to my family\"                                                                                                                                                                                                                      \n",
       "5931   First of its own kind event in US     from India welcoming us president in US... This is called welcoming US in US by India.... Ultimate... Proud moment for india...                                                                                                         \n",
       "1068     traveling from Dallas to Houston for tomorrow                                                                                                                                                                                                                               \n",
       "16920    :All  ,  ,  ,  , PATRIOTS are PROUD of   Ji due to their   !Jai Hind                                                                                                                                                                                                        \n",
       "15105  I got a pretty strong counter to my anti   stance . Opposing views are a good thing for a healthy democracy however an interesting observation is that I seldom come across civil opposition in a decent voice. It’s mostly in derogatory or personal attack form wonder y    \n",
       "\n",
       "                                                                                                                                                                                                                        hashtags  \\\n",
       "11012  #HowdyMody                                                                                                                                                                                                                  \n",
       "15229  #tumbling #economy #FascistModi #HowdyMody #USA #supreme #China #rollercoster #Pakistan                                                                                                                                     \n",
       "3024   #HowdyMody                                                                                                                                                                                                                  \n",
       "15237  #selfies #selfie #HowdyModi #HowdyMody                                                                                                                                                                                      \n",
       "5063   #HowdyMody                                                                                                                                                                                                                  \n",
       "12147  #HowdyMody #TrumpRally                                                                                                                                                                                                      \n",
       "8545   #HowdyMody                                                                                                                                                                                                                  \n",
       "4130   #HowdyMody #ModiInHouston #ModiInUSA                                                                                                                                                                                        \n",
       "13098  #HowdyMody #AdiosModi                                                                                                                                                                                                       \n",
       "10751  #HowdyMody #HowdyModi                                                                                                                                                                                                       \n",
       "12556  #HowdyModi #HowdyMody #ModiInHouston #modiTrumpDosti #MODIinUSA                                                                                                                                                             \n",
       "11553  #HowdyMody                                                                                                                                                                                                                  \n",
       "11453  #HowdyModi #HowdyMody #Houston #Texas #ModiInUSA #ModiInHouston #President #Trump                                                                                                                                           \n",
       "12916  #HowdyMody                                                                                                                                                                                                                  \n",
       "14185  # HowdyMody #IslamicTerrorism #Modi #media                                                                                                                                                                                  \n",
       "14102  #HowdyModi #ModiInHouston #Houston #Trump #HowdyMody                                                                                                                                                                        \n",
       "5931   #HowdyMody #HowdyModi #ModiInHouston #ModiTrumpDosti #ModiInUSA #NarendraModi                                                                                                                                               \n",
       "1068   # HowdyMody                                                                                                                                                                                                                 \n",
       "16920  # NEWS #NRI #PIO #GreenCard #PRstatus #Modi #Love_For_India #ModiStyleDiplomacy #ModiInUSA #ModiUNGASpeech #ModiFatherFaceOff #ModiCreatesHistory #modi #HowdyMody #HowdyModi #NewYork #ModiHaiToMumkinHai #EconomyCrisis   \n",
       "15105  #HowdyMody                                                                                                                                                                                                                  \n",
       "\n",
       "       nbr_hashtags  \\\n",
       "11012  1              \n",
       "15229  9              \n",
       "3024   1              \n",
       "15237  4              \n",
       "5063   1              \n",
       "12147  2              \n",
       "8545   1              \n",
       "4130   3              \n",
       "13098  2              \n",
       "10751  2              \n",
       "12556  5              \n",
       "11553  1              \n",
       "11453  8              \n",
       "12916  1              \n",
       "14185  4              \n",
       "14102  5              \n",
       "5931   6              \n",
       "1068   1              \n",
       "16920  18             \n",
       "15105  1              \n",
       "\n",
       "                                                                                                                                                                                                           final_tweet  \\\n",
       "11012  librandus reaction donald trump say fight radical islamic terrorism                                                                                                                                               \n",
       "15229  usa & try save via support cheer not enough time position threat ride ultimately result downfall                                                                                                                  \n",
       "3024   wow channel like also seem act excited look like choice                                                                                                                                                           \n",
       "15237  lover beat powerful world lucky boy                                                                                                                                                                               \n",
       "5063   soooooo trueeeee                                                                                                                                                                                                  \n",
       "12147  modi & trump speech                                                                                                                                                                                               \n",
       "8545   tukde gang trump talk islamic radicalization illegal immigrant                                                                                                                                                    \n",
       "4130   await leader world ’s large democracy leader world old democracy arrive                                                                                                                                           \n",
       "13098  trump say secure american border illegal immigrant modi desi fan clap madly atleast illegal indian immigrant usa large number illegal immigrant country outside american continent                                \n",
       "10751  new era indian politic                                                                                                                                                                                            \n",
       "12556  fill america watchman india today feel proud proud prime minister                                                                                                                                                 \n",
       "11553  mam question consistently maintain quality image time                                                                                                                                                             \n",
       "11453  amazed watch full event clear message & business mutual cooperation friendship tolerance illegal migrant terrorist great night good night                                                                         \n",
       "12916  american president say openly fight radical islamic terrorism                                                                                                                                                     \n",
       "14185  trump mention wonder utter indian would go crazy also pseudo secular powoerful man earth say applaud                                                                                                              \n",
       "14102  today honour introduce family                                                                                                                                                                                     \n",
       "5931   first kind event india welcome us president call welcome india ultimate proud moment india                                                                                                                        \n",
       "1068   travel dallas houston tomorrow                                                                                                                                                                                    \n",
       "16920  patriot proud ji due jai hind                                                                                                                                                                                     \n",
       "15105  get pretty strong counter anti stance oppose view good thing healthy democracy however interesting observation seldom come across civil opposition decent voice ’ mostly derogatory personal attack form wonder   \n",
       "\n",
       "       length_tweet            DateTime  date  hours  \\\n",
       "11012  92           2019-09-23 00:11:12  23    0       \n",
       "15229  203          2019-09-23 15:24:23  23    15      \n",
       "3024   103          2019-09-22 18:51:11  22    18      \n",
       "15237  88           2019-09-23 15:36:28  23    15      \n",
       "5063   17           2019-09-22 22:31:43  22    22      \n",
       "12147  34           2019-09-23 00:44:13  23    0       \n",
       "8545   86           2019-09-22 23:24:09  22    23      \n",
       "4130   114          2019-09-22 21:14:58  22    21      \n",
       "13098  252          2019-09-23 02:00:20  23    2       \n",
       "10751  30           2019-09-23 00:04:25  23    0       \n",
       "12556  139          2019-09-23 01:02:40  23    1       \n",
       "11553  96           2019-09-23 00:24:55  23    0       \n",
       "11453  208          2019-09-23 00:22:59  23    0       \n",
       "12916  97           2019-09-23 01:28:44  23    1       \n",
       "14185  188          2019-09-23 08:42:40  23    8       \n",
       "14102  67           2019-09-23 08:32:40  23    8       \n",
       "5931   174          2019-09-22 22:50:01  22    22      \n",
       "1068   53           2019-09-22 02:03:59  22    2       \n",
       "16920  92           2019-09-30 01:26:22  30    1       \n",
       "15105  267          2019-09-23 13:42:42  23    13      \n",
       "\n",
       "                                                                                                                                                                                                       different_tags  \n",
       "11012                                                                                                                                                                                                                  \n",
       "15229  #tumbling #economy #FascistModi #USA #supreme #China #rollercoster #Pakistan                                                                                                                                    \n",
       "3024                                                                                                                                                                                                                   \n",
       "15237  #selfies #selfie #HowdyModi                                                                                                                                                                                     \n",
       "5063                                                                                                                                                                                                                   \n",
       "12147   #TrumpRally                                                                                                                                                                                                    \n",
       "8545                                                                                                                                                                                                                   \n",
       "4130    #ModiInHouston #ModiInUSA                                                                                                                                                                                      \n",
       "13098   #AdiosModi                                                                                                                                                                                                     \n",
       "10751   #HowdyModi                                                                                                                                                                                                     \n",
       "12556  #HowdyModi #ModiInHouston #modiTrumpDosti #MODIinUSA                                                                                                                                                            \n",
       "11553                                                                                                                                                                                                                  \n",
       "11453  #HowdyModi #Houston #Texas #ModiInUSA #ModiInHouston #President #Trump                                                                                                                                          \n",
       "12916                                                                                                                                                                                                                  \n",
       "14185  # HowdyMody #IslamicTerrorism #Modi #media                                                                                                                                                                      \n",
       "14102  #HowdyModi #ModiInHouston #Houston #Trump                                                                                                                                                                       \n",
       "5931    #HowdyModi #ModiInHouston #ModiTrumpDosti #ModiInUSA #NarendraModi                                                                                                                                             \n",
       "1068   # HowdyMody                                                                                                                                                                                                     \n",
       "16920  # NEWS #NRI #PIO #GreenCard #PRstatus #Modi #Love_For_India #ModiStyleDiplomacy #ModiInUSA #ModiUNGASpeech #ModiFatherFaceOff #ModiCreatesHistory #modi #HowdyModi #NewYork #ModiHaiToMumkinHai #EconomyCrisis  \n",
       "15105                                                                                                                                                                                                                  "
      ]
     },
     "execution_count": 78,
     "metadata": {},
     "output_type": "execute_result"
    }
   ],
   "source": [
    "tweet.sample(20)"
   ]
  },
  {
   "cell_type": "markdown",
   "metadata": {},
   "source": [
    "## What words come mostly frequently in Tweet - Unigrams, Bigrams and Trigrams "
   ]
  },
  {
   "cell_type": "markdown",
   "metadata": {},
   "source": [
    "## Unigrams"
   ]
  },
  {
   "cell_type": "code",
   "execution_count": 87,
   "metadata": {},
   "outputs": [],
   "source": [
    "all_tweets=tweet['final_tweet'].tolist()"
   ]
  },
  {
   "cell_type": "code",
   "execution_count": 91,
   "metadata": {},
   "outputs": [],
   "source": [
    "def getMostCommon(reviews_list,topn):\n",
    "    reviews=\" \".join(reviews_list)\n",
    "    tokenised_reviews=reviews.split(\" \") # splitting the text using \" \" character\n",
    "    \n",
    "    \n",
    "    freq_counter=Counter(tokenised_reviews) # gives count of each word in the text\n",
    "    return freq_counter.most_common(topn) # return words with the highest frequencies"
   ]
  },
  {
   "cell_type": "code",
   "execution_count": 94,
   "metadata": {},
   "outputs": [],
   "source": [
    "def plotMostCommonWords(reviews_list,topn,title=\"Most Frequent Words\",color=\"green\",axis=None): #default colour is given as green\n",
    "    top_words=getMostCommon(reviews_list,topn=topn)\n",
    "    data=pd.DataFrame()\n",
    "    data['words']=[val[0] for val in top_words]\n",
    "    data['freq']=[val[1] for val in top_words]\n",
    "    if axis!=None:\n",
    "        sns.barplot(y='words',x='freq',data=data,color=color,ax=axis).set_title(title+\" top \"+str(topn))\n",
    "    else:\n",
    "        sns.barplot(y='words',x='freq',data=data,color=color).set_title(title+\" top \"+str(topn))"
   ]
  },
  {
   "cell_type": "code",
   "execution_count": 96,
   "metadata": {},
   "outputs": [
    {
     "data": {
      "image/png": "[encoded data removed]",
      "text/plain": [
       "<Figure size 720x576 with 1 Axes>"
      ]
     },
     "metadata": {
      "needs_background": "light"
     },
     "output_type": "display_data"
    }
   ],
   "source": [
    "from matplotlib import rcParams\n",
    "\n",
    "rcParams['figure.figsize'] = 10,8 ## Sets the heigth and width of image\n",
    "\n",
    "plotMostCommonWords(all_tweets,25,\"Frequent words\") # plotting the top 25 frequently occuring words in the tweets"
   ]
  },
  {
   "cell_type": "code",
   "execution_count": 102,
   "metadata": {},
   "outputs": [
    {
     "name": "stdout",
     "output_type": "stream",
     "text": [
      "Requirement already satisfied: wordcloud in c:\\users\\royal\\anaconda3\\lib\\site-packages (1.6.0)\n",
      "Requirement already satisfied: pillow in c:\\users\\royal\\anaconda3\\lib\\site-packages (from wordcloud) (5.4.1)\n",
      "Requirement already satisfied: numpy>=1.6.1 in c:\\users\\royal\\anaconda3\\lib\\site-packages (from wordcloud) (1.16.2)\n",
      "Requirement already satisfied: matplotlib in c:\\users\\royal\\anaconda3\\lib\\site-packages (from wordcloud) (3.0.3)\n",
      "Requirement already satisfied: cycler>=0.10 in c:\\users\\royal\\anaconda3\\lib\\site-packages (from matplotlib->wordcloud) (0.10.0)\n",
      "Requirement already satisfied: kiwisolver>=1.0.1 in c:\\users\\royal\\anaconda3\\lib\\site-packages (from matplotlib->wordcloud) (1.0.1)\n",
      "Requirement already satisfied: pyparsing!=2.0.4,!=2.1.2,!=2.1.6,>=2.0.1 in c:\\users\\royal\\anaconda3\\lib\\site-packages (from matplotlib->wordcloud) (2.3.1)\n",
      "Requirement already satisfied: python-dateutil>=2.1 in c:\\users\\royal\\anaconda3\\lib\\site-packages (from matplotlib->wordcloud) (2.8.0)\n",
      "Requirement already satisfied: six in c:\\users\\royal\\anaconda3\\lib\\site-packages (from cycler>=0.10->matplotlib->wordcloud) (1.12.0)\n",
      "Requirement already satisfied: setuptools in c:\\users\\royal\\anaconda3\\lib\\site-packages (from kiwisolver>=1.0.1->matplotlib->wordcloud) (40.8.0)\n"
     ]
    }
   ],
   "source": [
    "!pip install wordcloud"
   ]
  },
  {
   "cell_type": "code",
   "execution_count": 103,
   "metadata": {},
   "outputs": [
    {
     "data": {
      "image/png": "[encoded data removed]",
      "text/plain": [
       "<Figure size 576x432 with 1 Axes>"
      ]
     },
     "metadata": {
      "needs_background": "light"
     },
     "output_type": "display_data"
    }
   ],
   "source": [
    "from wordcloud import WordCloud\n",
    "wordcloud = WordCloud(height=2000, width=2000, background_color='black')\n",
    "wordcloud = wordcloud.generate(' '.join(tweet['final_tweet'].tolist()))\n",
    "plt.imshow(wordcloud)\n",
    "plt.title(\"Most common words in the tweets\")\n",
    "plt.axis('off')\n",
    "plt.show()"
   ]
  },
  {
   "cell_type": "markdown",
   "metadata": {},
   "source": [
    "## Bigrams"
   ]
  },
  {
   "cell_type": "code",
   "execution_count": 107,
   "metadata": {},
   "outputs": [],
   "source": [
    "def generateNGram(text,n):\n",
    "    tokens=text.split(\" \")\n",
    "    ngrams = zip(*[tokens[i:] for i in range(n)])\n",
    "    return [\"_\".join(ngram) for ngram in ngrams]"
   ]
  },
  {
   "cell_type": "code",
   "execution_count": 108,
   "metadata": {},
   "outputs": [],
   "source": [
    "tweet_bigrams=[\" \".join(generateNGram(review,2)) for review in all_tweets] # creating bigrams and storing it in a list"
   ]
  },
  {
   "cell_type": "code",
   "execution_count": 109,
   "metadata": {},
   "outputs": [
    {
     "data": {
      "text/plain": [
       "['',\n",
       " 'big_event event_indian indian_economy economy_modi modi_fail fail_event event_manager manager_reduce reduce_self self_mythologising mythologising_event event_please please_analyse analyse_correctly',\n",
       " 'be_eagerly eagerly_wait wait_pm pm_speech speech_usa usa_president president_trump trump_isthe isthe_leader leader_world world_large large_democracy democracy_leader leader_world world_old old_democracy democracy_share share_platform platform_together together_howdy',\n",
       " 'real_face face_islam islam_normalise normalise_radical radical_behaviour behaviour_dangerous dangerous_let let_remember remember_jihad jihad_sharia sharia_integral integral_part part_muslim muslim_culture',\n",
       " 'good_morning morning_great great_day',\n",
       " 'yes_’ ’_do do_great great_leader leader_say say_tax tax_cut cut_event',\n",
       " 'sad_note note_ignorant ignorant_indians indians_troll troll_rightful rightful_polite polite_decline decline_attend attend_event event_event event_joint joint_venture venture_political political_event event_political political_party party_us us_india india_fund fund_raising raising_attend attend_be be_official official_event']"
      ]
     },
     "execution_count": 109,
     "metadata": {},
     "output_type": "execute_result"
    }
   ],
   "source": [
    "tweet_bigrams[:7]"
   ]
  },
  {
   "cell_type": "code",
   "execution_count": 110,
   "metadata": {},
   "outputs": [
    {
     "data": {
      "image/png": "[encoded data removed]",
      "text/plain": [
       "<Figure size 576x432 with 1 Axes>"
      ]
     },
     "metadata": {
      "needs_background": "light"
     },
     "output_type": "display_data"
    }
   ],
   "source": [
    "from matplotlib import rcParams\n",
    "rcParams['figure.figsize'] = 8,6\n",
    "plotMostCommonWords(tweet_bigrams,20,\"most common words\")"
   ]
  },
  {
   "cell_type": "markdown",
   "metadata": {},
   "source": [
    "## Trigrams"
   ]
  },
  {
   "cell_type": "code",
   "execution_count": 111,
   "metadata": {},
   "outputs": [],
   "source": [
    "tweet_trigrams=[\" \".join(generateNGram(review,3)) for review in all_tweets] # creating trigrams and storing in a list"
   ]
  },
  {
   "cell_type": "code",
   "execution_count": 113,
   "metadata": {},
   "outputs": [
    {
     "data": {
      "image/png": "[encoded data removed]",
      "text/plain": [
       "<Figure size 720x576 with 1 Axes>"
      ]
     },
     "metadata": {
      "needs_background": "light"
     },
     "output_type": "display_data"
    }
   ],
   "source": [
    "rcParams['figure.figsize'] = 10,8 ## Sets the heigth and width of image\n",
    "\n",
    "plotMostCommonWords(tweet_trigrams,25,\"Frequent words\",color=\"black\") # plotting the most frequently occurring trigrams"
   ]
  },
  {
   "cell_type": "markdown",
   "metadata": {},
   "source": [
    "## Using VADER or TextBlob identify the sentiment of the tweet"
   ]
  },
  {
   "cell_type": "code",
   "execution_count": 114,
   "metadata": {},
   "outputs": [
    {
     "name": "stdout",
     "output_type": "stream",
     "text": [
      "Requirement already satisfied: vaderSentiment in c:\\users\\royal\\anaconda3\\lib\\site-packages (3.2.1)\n",
      "Note: you may need to restart the kernel to use updated packages.\n"
     ]
    }
   ],
   "source": [
    "pip install vaderSentiment"
   ]
  },
  {
   "cell_type": "code",
   "execution_count": 118,
   "metadata": {},
   "outputs": [],
   "source": [
    "from vaderSentiment.vaderSentiment import SentimentIntensityAnalyzer\n",
    "analyser=SentimentIntensityAnalyzer()"
   ]
  },
  {
   "cell_type": "code",
   "execution_count": 121,
   "metadata": {},
   "outputs": [],
   "source": [
    "def sentiment_analyzer_scores(sentence):\n",
    "    score = analyser.polarity_scores(sentence)\n",
    "    return score['compound']"
   ]
  },
  {
   "cell_type": "code",
   "execution_count": 122,
   "metadata": {},
   "outputs": [],
   "source": [
    "tweet['sentiment_score']=tweet['cleaned_tweet'].apply(lambda x:sentiment_analyzer_scores(x))"
   ]
  },
  {
   "cell_type": "code",
   "execution_count": 123,
   "metadata": {
    "scrolled": true
   },
   "outputs": [
    {
     "data": {
      "text/html": [
       "<div>\n",
       "<style scoped>\n",
       "    .dataframe tbody tr th:only-of-type {\n",
       "        vertical-align: middle;\n",
       "    }\n",
       "\n",
       "    .dataframe tbody tr th {\n",
       "        vertical-align: top;\n",
       "    }\n",
       "\n",
       "    .dataframe thead th {\n",
       "        text-align: right;\n",
       "    }\n",
       "</style>\n",
       "<table border=\"1\" class=\"dataframe\">\n",
       "  <thead>\n",
       "    <tr style=\"text-align: right;\">\n",
       "      <th></th>\n",
       "      <th>datetime</th>\n",
       "      <th>is_retweet</th>\n",
       "      <th>nbr_favorite</th>\n",
       "      <th>nbr_reply</th>\n",
       "      <th>nbr_retweet</th>\n",
       "      <th>text</th>\n",
       "      <th>cleaned_tweet</th>\n",
       "      <th>hashtags</th>\n",
       "      <th>nbr_hashtags</th>\n",
       "      <th>final_tweet</th>\n",
       "      <th>length_tweet</th>\n",
       "      <th>DateTime</th>\n",
       "      <th>date</th>\n",
       "      <th>hours</th>\n",
       "      <th>different_tags</th>\n",
       "      <th>sentiment_score</th>\n",
       "    </tr>\n",
       "  </thead>\n",
       "  <tbody>\n",
       "    <tr>\n",
       "      <th>15187</th>\n",
       "      <td>2019-09-23 14:45:27</td>\n",
       "      <td>False</td>\n",
       "      <td>0</td>\n",
       "      <td>0</td>\n",
       "      <td>0</td>\n",
       "      <td># Everthing_Is_Fine_India  Requesting you please don't Promote Fake News as you know #EveryThingIsFine  #India  #HowdyModi  #HowdyMody  #ModiInUSA</td>\n",
       "      <td>Requesting you please don't Promote Fake News as you know</td>\n",
       "      <td># Everthing_Is_Fine_India #EveryThingIsFine #India #HowdyModi #HowdyMody #ModiInUSA</td>\n",
       "      <td>6</td>\n",
       "      <td>request please not promote fake news know</td>\n",
       "      <td>70</td>\n",
       "      <td>2019-09-23 14:45:27</td>\n",
       "      <td>23</td>\n",
       "      <td>14</td>\n",
       "      <td># Everthing_Is_Fine_India #EveryThingIsFine #India #HowdyModi #ModiInUSA</td>\n",
       "      <td>0.396</td>\n",
       "    </tr>\n",
       "    <tr>\n",
       "      <th>11392</th>\n",
       "      <td>2019-09-23 00:21:44</td>\n",
       "      <td>False</td>\n",
       "      <td>0</td>\n",
       "      <td>0</td>\n",
       "      <td>0</td>\n",
       "      <td>@ narendramodi  #HowdyMody  #HowdyModi   Nailed it</td>\n",
       "      <td>Nailed it</td>\n",
       "      <td>#HowdyMody #HowdyModi</td>\n",
       "      <td>2</td>\n",
       "      <td>nail</td>\n",
       "      <td>16</td>\n",
       "      <td>2019-09-23 00:21:44</td>\n",
       "      <td>23</td>\n",
       "      <td>0</td>\n",
       "      <td>#HowdyModi</td>\n",
       "      <td>0.000</td>\n",
       "    </tr>\n",
       "    <tr>\n",
       "      <th>4282</th>\n",
       "      <td>2019-09-22 21:27:57</td>\n",
       "      <td>False</td>\n",
       "      <td>2</td>\n",
       "      <td>0</td>\n",
       "      <td>0</td>\n",
       "      <td>I Suggest to watch @ABPNews  @abpnewshindi  #apbnews  #HowdyMody  #NarendraModi  #HowdyModiWithTimes  #howdywithabp  @narendramodi  @PMOIndia</td>\n",
       "      <td>I Suggest to watch</td>\n",
       "      <td>#apbnews #HowdyMody #NarendraModi #HowdyModiWithTimes #howdywithabp</td>\n",
       "      <td>5</td>\n",
       "      <td>suggest watch</td>\n",
       "      <td>37</td>\n",
       "      <td>2019-09-22 21:27:57</td>\n",
       "      <td>22</td>\n",
       "      <td>21</td>\n",
       "      <td>#apbnews #NarendraModi #HowdyModiWithTimes #howdywithabp</td>\n",
       "      <td>0.000</td>\n",
       "    </tr>\n",
       "    <tr>\n",
       "      <th>16744</th>\n",
       "      <td>2019-09-28 09:18:26</td>\n",
       "      <td>False</td>\n",
       "      <td>0</td>\n",
       "      <td>0</td>\n",
       "      <td>0</td>\n",
       "      <td>So what American President will suggest to our PM to have dialog with Pakistan..tab kya karega bhaky #HowdyMody</td>\n",
       "      <td>So what American President will suggest to our PM to have dialog with Pakistan..tab kya karega bhaky</td>\n",
       "      <td>#HowdyMody</td>\n",
       "      <td>1</td>\n",
       "      <td>american president suggest pm dialog pakistan tab kya karega bhaky</td>\n",
       "      <td>101</td>\n",
       "      <td>2019-09-28 09:18:26</td>\n",
       "      <td>28</td>\n",
       "      <td>9</td>\n",
       "      <td></td>\n",
       "      <td>0.000</td>\n",
       "    </tr>\n",
       "    <tr>\n",
       "      <th>9440</th>\n",
       "      <td>2019-09-22 23:38:08</td>\n",
       "      <td>False</td>\n",
       "      <td>0</td>\n",
       "      <td>0</td>\n",
       "      <td>0</td>\n",
       "      <td>Very surreal and proud moment for all #Indian  after hearing speech from President @realDonaldTrump  and PM Sri @narendramodi  . I missed this event but watching this event from starting not missing any moment. #HowdyModi  #HowdyMody  #ModiInUSA  #ModiInHouston  #Trump  #ModiTrumpDosti pic.twitter.com/6MqouKYrHF</td>\n",
       "      <td>Very surreal and proud moment for all   after hearing speech from President   and PM Sri   . I missed this event but watching this event from starting not missing any moment.</td>\n",
       "      <td>#Indian #HowdyModi #HowdyMody #ModiInUSA #ModiInHouston #Trump #ModiTrumpDosti</td>\n",
       "      <td>7</td>\n",
       "      <td>surreal proud moment hear speech president pm sri miss event watch event start miss moment</td>\n",
       "      <td>186</td>\n",
       "      <td>2019-09-22 23:38:08</td>\n",
       "      <td>22</td>\n",
       "      <td>23</td>\n",
       "      <td>#Indian #HowdyModi #ModiInUSA #ModiInHouston #Trump #ModiTrumpDosti</td>\n",
       "      <td>0.443</td>\n",
       "    </tr>\n",
       "  </tbody>\n",
       "</table>\n",
       "</div>"
      ],
      "text/plain": [
       "                 datetime  is_retweet  nbr_favorite  nbr_reply  nbr_retweet  \\\n",
       "15187 2019-09-23 14:45:27  False       0             0          0             \n",
       "11392 2019-09-23 00:21:44  False       0             0          0             \n",
       "4282  2019-09-22 21:27:57  False       2             0          0             \n",
       "16744 2019-09-28 09:18:26  False       0             0          0             \n",
       "9440  2019-09-22 23:38:08  False       0             0          0             \n",
       "\n",
       "                                                                                                                                                                                                                                                                                                                            text  \\\n",
       "15187  # Everthing_Is_Fine_India  Requesting you please don't Promote Fake News as you know #EveryThingIsFine  #India  #HowdyModi  #HowdyMody  #ModiInUSA                                                                                                                                                                          \n",
       "11392  @ narendramodi  #HowdyMody  #HowdyModi   Nailed it                                                                                                                                                                                                                                                                          \n",
       "4282   I Suggest to watch @ABPNews  @abpnewshindi  #apbnews  #HowdyMody  #NarendraModi  #HowdyModiWithTimes  #howdywithabp  @narendramodi  @PMOIndia                                                                                                                                                                               \n",
       "16744  So what American President will suggest to our PM to have dialog with Pakistan..tab kya karega bhaky #HowdyMody                                                                                                                                                                                                             \n",
       "9440   Very surreal and proud moment for all #Indian  after hearing speech from President @realDonaldTrump  and PM Sri @narendramodi  . I missed this event but watching this event from starting not missing any moment. #HowdyModi  #HowdyMody  #ModiInUSA  #ModiInHouston  #Trump  #ModiTrumpDosti pic.twitter.com/6MqouKYrHF   \n",
       "\n",
       "                                                                                                                                                                                    cleaned_tweet  \\\n",
       "15187    Requesting you please don't Promote Fake News as you know                                                                                                                                  \n",
       "11392         Nailed it                                                                                                                                                                             \n",
       "4282   I Suggest to watch                                                                                                                                                                           \n",
       "16744  So what American President will suggest to our PM to have dialog with Pakistan..tab kya karega bhaky                                                                                         \n",
       "9440   Very surreal and proud moment for all   after hearing speech from President   and PM Sri   . I missed this event but watching this event from starting not missing any moment.               \n",
       "\n",
       "                                                                                  hashtags  \\\n",
       "15187  # Everthing_Is_Fine_India #EveryThingIsFine #India #HowdyModi #HowdyMody #ModiInUSA   \n",
       "11392  #HowdyMody #HowdyModi                                                                 \n",
       "4282   #apbnews #HowdyMody #NarendraModi #HowdyModiWithTimes #howdywithabp                   \n",
       "16744  #HowdyMody                                                                            \n",
       "9440   #Indian #HowdyModi #HowdyMody #ModiInUSA #ModiInHouston #Trump #ModiTrumpDosti        \n",
       "\n",
       "       nbr_hashtags  \\\n",
       "15187  6              \n",
       "11392  2              \n",
       "4282   5              \n",
       "16744  1              \n",
       "9440   7              \n",
       "\n",
       "                                                                                      final_tweet  \\\n",
       "15187  request please not promote fake news know                                                    \n",
       "11392  nail                                                                                         \n",
       "4282   suggest watch                                                                                \n",
       "16744  american president suggest pm dialog pakistan tab kya karega bhaky                           \n",
       "9440   surreal proud moment hear speech president pm sri miss event watch event start miss moment   \n",
       "\n",
       "       length_tweet            DateTime  date  hours  \\\n",
       "15187  70           2019-09-23 14:45:27  23    14      \n",
       "11392  16           2019-09-23 00:21:44  23    0       \n",
       "4282   37           2019-09-22 21:27:57  22    21      \n",
       "16744  101          2019-09-28 09:18:26  28    9       \n",
       "9440   186          2019-09-22 23:38:08  22    23      \n",
       "\n",
       "                                                                 different_tags  \\\n",
       "15187  # Everthing_Is_Fine_India #EveryThingIsFine #India #HowdyModi #ModiInUSA   \n",
       "11392   #HowdyModi                                                                \n",
       "4282   #apbnews #NarendraModi #HowdyModiWithTimes #howdywithabp                   \n",
       "16744                                                                             \n",
       "9440   #Indian #HowdyModi #ModiInUSA #ModiInHouston #Trump #ModiTrumpDosti        \n",
       "\n",
       "       sentiment_score  \n",
       "15187  0.396            \n",
       "11392  0.000            \n",
       "4282   0.000            \n",
       "16744  0.000            \n",
       "9440   0.443            "
      ]
     },
     "execution_count": 123,
     "metadata": {},
     "output_type": "execute_result"
    }
   ],
   "source": [
    "tweet.sample(5)"
   ]
  },
  {
   "cell_type": "code",
   "execution_count": 126,
   "metadata": {},
   "outputs": [],
   "source": [
    "def sentiment_category(scores):\n",
    "    if scores >= 0.05:\n",
    "        return \"positive\"\n",
    "    elif scores <= -0.05:\n",
    "        return \"negative\"\n",
    "    else:\n",
    "        return \"neutral\""
   ]
  },
  {
   "cell_type": "code",
   "execution_count": 127,
   "metadata": {},
   "outputs": [],
   "source": [
    "tweet['sentiment']=tweet['sentiment_score'].apply(lambda x:sentiment_category(x))"
   ]
  },
  {
   "cell_type": "code",
   "execution_count": 128,
   "metadata": {},
   "outputs": [
    {
     "data": {
      "text/html": [
       "<div>\n",
       "<style scoped>\n",
       "    .dataframe tbody tr th:only-of-type {\n",
       "        vertical-align: middle;\n",
       "    }\n",
       "\n",
       "    .dataframe tbody tr th {\n",
       "        vertical-align: top;\n",
       "    }\n",
       "\n",
       "    .dataframe thead th {\n",
       "        text-align: right;\n",
       "    }\n",
       "</style>\n",
       "<table border=\"1\" class=\"dataframe\">\n",
       "  <thead>\n",
       "    <tr style=\"text-align: right;\">\n",
       "      <th></th>\n",
       "      <th>datetime</th>\n",
       "      <th>is_retweet</th>\n",
       "      <th>nbr_favorite</th>\n",
       "      <th>nbr_reply</th>\n",
       "      <th>nbr_retweet</th>\n",
       "      <th>text</th>\n",
       "      <th>cleaned_tweet</th>\n",
       "      <th>hashtags</th>\n",
       "      <th>nbr_hashtags</th>\n",
       "      <th>final_tweet</th>\n",
       "      <th>length_tweet</th>\n",
       "      <th>DateTime</th>\n",
       "      <th>date</th>\n",
       "      <th>hours</th>\n",
       "      <th>different_tags</th>\n",
       "      <th>sentiment_score</th>\n",
       "      <th>sentiment</th>\n",
       "    </tr>\n",
       "  </thead>\n",
       "  <tbody>\n",
       "    <tr>\n",
       "      <th>14642</th>\n",
       "      <td>2019-09-23 10:00:14</td>\n",
       "      <td>False</td>\n",
       "      <td>0</td>\n",
       "      <td>0</td>\n",
       "      <td>0</td>\n",
       "      <td>@ POTUS  and @realDonaldTrump  has decided to rename USA currency as ModiDollar.\\n\\n#HowdyMody  #modiDollar</td>\n",
       "      <td>and   has decided to rename USA currency as ModiDollar.</td>\n",
       "      <td>#HowdyMody #modiDollar</td>\n",
       "      <td>2</td>\n",
       "      <td>decide rename usa currency modidollar</td>\n",
       "      <td>59</td>\n",
       "      <td>2019-09-23 10:00:14</td>\n",
       "      <td>23</td>\n",
       "      <td>10</td>\n",
       "      <td>#modiDollar</td>\n",
       "      <td>0.0000</td>\n",
       "      <td>neutral</td>\n",
       "    </tr>\n",
       "    <tr>\n",
       "      <th>7147</th>\n",
       "      <td>2019-09-22 23:06:51</td>\n",
       "      <td>False</td>\n",
       "      <td>0</td>\n",
       "      <td>0</td>\n",
       "      <td>0</td>\n",
       "      <td>Which kind of politics and judgements are happening in India....? \\n@KishoreAjwani  @sardanarohit  @KapilMishra_IND  @DrKumarVishwas  @PMOIndia  @AmitShah  @AnupamPKher  @SirPareshRawal  @sudhirchaudhary  @ABVPVoice  #HowdyMody  #RamMandir  #SupremeCourt  @UNESCO  @MinOfCultureGoI</td>\n",
       "      <td>Which kind of politics and judgements are happening in India....?</td>\n",
       "      <td>#HowdyMody #RamMandir #SupremeCourt</td>\n",
       "      <td>3</td>\n",
       "      <td>kind politic judgement happen india</td>\n",
       "      <td>94</td>\n",
       "      <td>2019-09-22 23:06:51</td>\n",
       "      <td>22</td>\n",
       "      <td>23</td>\n",
       "      <td>#RamMandir #SupremeCourt</td>\n",
       "      <td>0.0000</td>\n",
       "      <td>neutral</td>\n",
       "    </tr>\n",
       "    <tr>\n",
       "      <th>7377</th>\n",
       "      <td>2019-09-22 23:10:24</td>\n",
       "      <td>False</td>\n",
       "      <td>4</td>\n",
       "      <td>0</td>\n",
       "      <td>0</td>\n",
       "      <td>What a proud moment it’s not Talkatira stadium He is in US #HowdyMody   https:// twitter.com/PMOIndia/statu s/1175807072870420481   …</td>\n",
       "      <td>What a proud moment it’s not Talkatira stadium He is in US</td>\n",
       "      <td>#HowdyMody</td>\n",
       "      <td>1</td>\n",
       "      <td>proud moment ’ talkatira stadium</td>\n",
       "      <td>62</td>\n",
       "      <td>2019-09-22 23:10:24</td>\n",
       "      <td>22</td>\n",
       "      <td>23</td>\n",
       "      <td></td>\n",
       "      <td>0.4767</td>\n",
       "      <td>positive</td>\n",
       "    </tr>\n",
       "    <tr>\n",
       "      <th>10771</th>\n",
       "      <td>2019-09-23 00:04:52</td>\n",
       "      <td>False</td>\n",
       "      <td>1</td>\n",
       "      <td>0</td>\n",
       "      <td>0</td>\n",
       "      <td>Master stroke by our prime minister shree @narendramodi  on #Article370  in USA in presence of #PresidentTrump  #HowdyMody</td>\n",
       "      <td>Master stroke by our prime minister shree   on   in USA in presence of</td>\n",
       "      <td>#Article370 #PresidentTrump #HowdyMody</td>\n",
       "      <td>3</td>\n",
       "      <td>master stroke prime minister shree usa presence</td>\n",
       "      <td>73</td>\n",
       "      <td>2019-09-23 00:04:52</td>\n",
       "      <td>23</td>\n",
       "      <td>0</td>\n",
       "      <td>#Article370 #PresidentTrump</td>\n",
       "      <td>0.0000</td>\n",
       "      <td>neutral</td>\n",
       "    </tr>\n",
       "    <tr>\n",
       "      <th>956</th>\n",
       "      <td>2019-09-22 00:27:33</td>\n",
       "      <td>False</td>\n",
       "      <td>33</td>\n",
       "      <td>2</td>\n",
       "      <td>2</td>\n",
       "      <td>hope  Gulaams have collected lots of burnol tubes for tomorrow's event... \\n\\n#HowdyMody</td>\n",
       "      <td>hope  Gulaams have collected lots of burnol tubes for tomorrow's event...</td>\n",
       "      <td>#HowdyMody</td>\n",
       "      <td>1</td>\n",
       "      <td>hope gulaam collect lot burnol tube tomorrow 's event</td>\n",
       "      <td>74</td>\n",
       "      <td>2019-09-22 00:27:33</td>\n",
       "      <td>22</td>\n",
       "      <td>0</td>\n",
       "      <td></td>\n",
       "      <td>0.4404</td>\n",
       "      <td>positive</td>\n",
       "    </tr>\n",
       "    <tr>\n",
       "      <th>14131</th>\n",
       "      <td>2019-09-23 08:37:37</td>\n",
       "      <td>False</td>\n",
       "      <td>3</td>\n",
       "      <td>0</td>\n",
       "      <td>0</td>\n",
       "      <td># HowdyModi  event ended with display of strongest bond between world’s largest democracies. \\n\\nNo longer a pushover, India's image in the global stage has totally changed and counted today in the top of the league of nations.\\n\\nThanks #PMModi  for making it possible... #HowdyMody   pic.twitter.com/6CW0Y4ouLA</td>\n",
       "      <td>event ended with display of strongest bond between world’s largest democracies. No longer a pushover, India's image in the global stage has totally changed and counted today in the top of the league of nations.Thanks   for making it possible...</td>\n",
       "      <td># HowdyModi #PMModi #HowdyMody</td>\n",
       "      <td>3</td>\n",
       "      <td>event end display strong bond world ’s large democracy longer pushover india 's image global stage totally change count today top league nations.thanks make possible</td>\n",
       "      <td>250</td>\n",
       "      <td>2019-09-23 08:37:37</td>\n",
       "      <td>23</td>\n",
       "      <td>8</td>\n",
       "      <td># HowdyModi #PMModi</td>\n",
       "      <td>0.3612</td>\n",
       "      <td>positive</td>\n",
       "    </tr>\n",
       "    <tr>\n",
       "      <th>13421</th>\n",
       "      <td>2019-09-23 05:11:40</td>\n",
       "      <td>False</td>\n",
       "      <td>0</td>\n",
       "      <td>0</td>\n",
       "      <td>0</td>\n",
       "      <td>@ anjanaomkashyap  @zainabsikander  other side of #HowdyMody   https:// twitter.com/Shehla_Rashid/ status/1175819466942271488   …</td>\n",
       "      <td>other side of</td>\n",
       "      <td>#HowdyMody</td>\n",
       "      <td>1</td>\n",
       "      <td>side</td>\n",
       "      <td>21</td>\n",
       "      <td>2019-09-23 05:11:40</td>\n",
       "      <td>23</td>\n",
       "      <td>5</td>\n",
       "      <td></td>\n",
       "      <td>0.0000</td>\n",
       "      <td>neutral</td>\n",
       "    </tr>\n",
       "    <tr>\n",
       "      <th>13444</th>\n",
       "      <td>2019-09-23 05:23:36</td>\n",
       "      <td>False</td>\n",
       "      <td>1</td>\n",
       "      <td>0</td>\n",
       "      <td>0</td>\n",
       "      <td>He is an ultimate leader who never ever feels tired while serving the 130 crore Indians. We are proud of our honorable PrimeMinister. Only he is capable to deliver on all the expectations of people from India. Big Fan Sir.. Proud of you..\\n\\n#HowdyMody  #ModiInHouston</td>\n",
       "      <td>He is an ultimate leader who never ever feels tired while serving the 130 crore Indians. We are proud of our honorable PrimeMinister. Only he is capable to deliver on all the expectations of people from India. Big Fan Sir.. Proud of you..</td>\n",
       "      <td>#HowdyMody #ModiInHouston</td>\n",
       "      <td>2</td>\n",
       "      <td>ultimate leader never ever feel tired serve indians proud honorable primeminister capable deliver expectation people india big fan sir proud</td>\n",
       "      <td>240</td>\n",
       "      <td>2019-09-23 05:23:36</td>\n",
       "      <td>23</td>\n",
       "      <td>5</td>\n",
       "      <td>#ModiInHouston</td>\n",
       "      <td>0.9433</td>\n",
       "      <td>positive</td>\n",
       "    </tr>\n",
       "    <tr>\n",
       "      <th>2613</th>\n",
       "      <td>2019-09-22 16:53:07</td>\n",
       "      <td>False</td>\n",
       "      <td>2</td>\n",
       "      <td>0</td>\n",
       "      <td>0</td>\n",
       "      <td>Live from Houston before the event #AdiosModi  #HowdyModi  #HowdyMody  #Texas  #anjanaommodi  #Valverde  #ValverdeOut  #sisi  #Houston  #UCLA  #njdest  #SundayThoughts  #Snickers  #milkyway pic.twitter.com/Lb8SdCSNSt</td>\n",
       "      <td>Live from Houston before the event</td>\n",
       "      <td>#AdiosModi #HowdyModi #HowdyMody #Texas #anjanaommodi #Valverde #ValverdeOut #sisi #Houston #UCLA #njdest #SundayThoughts #Snickers #milkyway</td>\n",
       "      <td>14</td>\n",
       "      <td>live houston event</td>\n",
       "      <td>62</td>\n",
       "      <td>2019-09-22 16:53:07</td>\n",
       "      <td>22</td>\n",
       "      <td>16</td>\n",
       "      <td>#AdiosModi #HowdyModi #Texas #anjanaommodi #Valverde #ValverdeOut #sisi #Houston #UCLA #njdest #SundayThoughts #Snickers #milkyway</td>\n",
       "      <td>0.0000</td>\n",
       "      <td>neutral</td>\n",
       "    </tr>\n",
       "    <tr>\n",
       "      <th>10831</th>\n",
       "      <td>2019-09-23 00:06:21</td>\n",
       "      <td>False</td>\n",
       "      <td>1</td>\n",
       "      <td>2</td>\n",
       "      <td>0</td>\n",
       "      <td># HowdyMody  @ImranKhanPTI  cannot go back to Pakistan has been granted asylum in America @RatanSharda55  @ARanganathan72</td>\n",
       "      <td>cannot go back to Pakistan has been granted asylum in America</td>\n",
       "      <td># HowdyMody</td>\n",
       "      <td>1</td>\n",
       "      <td>go back pakistan grant asylum america</td>\n",
       "      <td>68</td>\n",
       "      <td>2019-09-23 00:06:21</td>\n",
       "      <td>23</td>\n",
       "      <td>0</td>\n",
       "      <td># HowdyMody</td>\n",
       "      <td>0.2500</td>\n",
       "      <td>positive</td>\n",
       "    </tr>\n",
       "  </tbody>\n",
       "</table>\n",
       "</div>"
      ],
      "text/plain": [
       "                 datetime  is_retweet  nbr_favorite  nbr_reply  nbr_retweet  \\\n",
       "14642 2019-09-23 10:00:14  False       0             0          0             \n",
       "7147  2019-09-22 23:06:51  False       0             0          0             \n",
       "7377  2019-09-22 23:10:24  False       4             0          0             \n",
       "10771 2019-09-23 00:04:52  False       1             0          0             \n",
       "956   2019-09-22 00:27:33  False       33            2          2             \n",
       "14131 2019-09-23 08:37:37  False       3             0          0             \n",
       "13421 2019-09-23 05:11:40  False       0             0          0             \n",
       "13444 2019-09-23 05:23:36  False       1             0          0             \n",
       "2613  2019-09-22 16:53:07  False       2             0          0             \n",
       "10831 2019-09-23 00:06:21  False       1             2          0             \n",
       "\n",
       "                                                                                                                                                                                                                                                                                                                           text  \\\n",
       "14642  @ POTUS  and @realDonaldTrump  has decided to rename USA currency as ModiDollar.\\n\\n#HowdyMody  #modiDollar                                                                                                                                                                                                                \n",
       "7147   Which kind of politics and judgements are happening in India....? \\n@KishoreAjwani  @sardanarohit  @KapilMishra_IND  @DrKumarVishwas  @PMOIndia  @AmitShah  @AnupamPKher  @SirPareshRawal  @sudhirchaudhary  @ABVPVoice  #HowdyMody  #RamMandir  #SupremeCourt  @UNESCO  @MinOfCultureGoI                                  \n",
       "7377   What a proud moment it’s not Talkatira stadium He is in US #HowdyMody   https:// twitter.com/PMOIndia/statu s/1175807072870420481   …                                                                                                                                                                                      \n",
       "10771  Master stroke by our prime minister shree @narendramodi  on #Article370  in USA in presence of #PresidentTrump  #HowdyMody                                                                                                                                                                                                 \n",
       "956    hope  Gulaams have collected lots of burnol tubes for tomorrow's event... \\n\\n#HowdyMody                                                                                                                                                                                                                                   \n",
       "14131  # HowdyModi  event ended with display of strongest bond between world’s largest democracies. \\n\\nNo longer a pushover, India's image in the global stage has totally changed and counted today in the top of the league of nations.\\n\\nThanks #PMModi  for making it possible... #HowdyMody   pic.twitter.com/6CW0Y4ouLA   \n",
       "13421  @ anjanaomkashyap  @zainabsikander  other side of #HowdyMody   https:// twitter.com/Shehla_Rashid/ status/1175819466942271488   …                                                                                                                                                                                          \n",
       "13444  He is an ultimate leader who never ever feels tired while serving the 130 crore Indians. We are proud of our honorable PrimeMinister. Only he is capable to deliver on all the expectations of people from India. Big Fan Sir.. Proud of you..\\n\\n#HowdyMody  #ModiInHouston                                               \n",
       "2613   Live from Houston before the event #AdiosModi  #HowdyModi  #HowdyMody  #Texas  #anjanaommodi  #Valverde  #ValverdeOut  #sisi  #Houston  #UCLA  #njdest  #SundayThoughts  #Snickers  #milkyway pic.twitter.com/Lb8SdCSNSt                                                                                                   \n",
       "10831  # HowdyMody  @ImranKhanPTI  cannot go back to Pakistan has been granted asylum in America @RatanSharda55  @ARanganathan72                                                                                                                                                                                                  \n",
       "\n",
       "                                                                                                                                                                                                                                                    cleaned_tweet  \\\n",
       "14642    and   has decided to rename USA currency as ModiDollar.                                                                                                                                                                                                    \n",
       "7147   Which kind of politics and judgements are happening in India....?                                                                                                                                                                                            \n",
       "7377   What a proud moment it’s not Talkatira stadium He is in US                                                                                                                                                                                                   \n",
       "10771  Master stroke by our prime minister shree   on   in USA in presence of                                                                                                                                                                                       \n",
       "956    hope  Gulaams have collected lots of burnol tubes for tomorrow's event...                                                                                                                                                                                    \n",
       "14131    event ended with display of strongest bond between world’s largest democracies. No longer a pushover, India's image in the global stage has totally changed and counted today in the top of the league of nations.Thanks   for making it possible...       \n",
       "13421      other side of                                                                                                                                                                                                                                            \n",
       "13444  He is an ultimate leader who never ever feels tired while serving the 130 crore Indians. We are proud of our honorable PrimeMinister. Only he is capable to deliver on all the expectations of people from India. Big Fan Sir.. Proud of you..               \n",
       "2613   Live from Houston before the event                                                                                                                                                                                                                           \n",
       "10831      cannot go back to Pakistan has been granted asylum in America                                                                                                                                                                                            \n",
       "\n",
       "                                                                                                                                            hashtags  \\\n",
       "14642  #HowdyMody #modiDollar                                                                                                                          \n",
       "7147   #HowdyMody #RamMandir #SupremeCourt                                                                                                             \n",
       "7377   #HowdyMody                                                                                                                                      \n",
       "10771  #Article370 #PresidentTrump #HowdyMody                                                                                                          \n",
       "956    #HowdyMody                                                                                                                                      \n",
       "14131  # HowdyModi #PMModi #HowdyMody                                                                                                                  \n",
       "13421  #HowdyMody                                                                                                                                      \n",
       "13444  #HowdyMody #ModiInHouston                                                                                                                       \n",
       "2613   #AdiosModi #HowdyModi #HowdyMody #Texas #anjanaommodi #Valverde #ValverdeOut #sisi #Houston #UCLA #njdest #SundayThoughts #Snickers #milkyway   \n",
       "10831  # HowdyMody                                                                                                                                     \n",
       "\n",
       "       nbr_hashtags  \\\n",
       "14642  2              \n",
       "7147   3              \n",
       "7377   1              \n",
       "10771  3              \n",
       "956    1              \n",
       "14131  3              \n",
       "13421  1              \n",
       "13444  2              \n",
       "2613   14             \n",
       "10831  1              \n",
       "\n",
       "                                                                                                                                                                 final_tweet  \\\n",
       "14642  decide rename usa currency modidollar                                                                                                                                   \n",
       "7147   kind politic judgement happen india                                                                                                                                     \n",
       "7377   proud moment ’ talkatira stadium                                                                                                                                        \n",
       "10771  master stroke prime minister shree usa presence                                                                                                                         \n",
       "956    hope gulaam collect lot burnol tube tomorrow 's event                                                                                                                   \n",
       "14131  event end display strong bond world ’s large democracy longer pushover india 's image global stage totally change count today top league nations.thanks make possible   \n",
       "13421  side                                                                                                                                                                    \n",
       "13444  ultimate leader never ever feel tired serve indians proud honorable primeminister capable deliver expectation people india big fan sir proud                            \n",
       "2613   live houston event                                                                                                                                                      \n",
       "10831  go back pakistan grant asylum america                                                                                                                                   \n",
       "\n",
       "       length_tweet            DateTime  date  hours  \\\n",
       "14642  59           2019-09-23 10:00:14  23    10      \n",
       "7147   94           2019-09-22 23:06:51  22    23      \n",
       "7377   62           2019-09-22 23:10:24  22    23      \n",
       "10771  73           2019-09-23 00:04:52  23    0       \n",
       "956    74           2019-09-22 00:27:33  22    0       \n",
       "14131  250          2019-09-23 08:37:37  23    8       \n",
       "13421  21           2019-09-23 05:11:40  23    5       \n",
       "13444  240          2019-09-23 05:23:36  23    5       \n",
       "2613   62           2019-09-22 16:53:07  22    16      \n",
       "10831  68           2019-09-23 00:06:21  23    0       \n",
       "\n",
       "                                                                                                                           different_tags  \\\n",
       "14642   #modiDollar                                                                                                                         \n",
       "7147    #RamMandir #SupremeCourt                                                                                                            \n",
       "7377                                                                                                                                        \n",
       "10771  #Article370 #PresidentTrump                                                                                                          \n",
       "956                                                                                                                                         \n",
       "14131  # HowdyModi #PMModi                                                                                                                  \n",
       "13421                                                                                                                                       \n",
       "13444   #ModiInHouston                                                                                                                      \n",
       "2613   #AdiosModi #HowdyModi #Texas #anjanaommodi #Valverde #ValverdeOut #sisi #Houston #UCLA #njdest #SundayThoughts #Snickers #milkyway   \n",
       "10831  # HowdyMody                                                                                                                          \n",
       "\n",
       "       sentiment_score sentiment  \n",
       "14642  0.0000           neutral   \n",
       "7147   0.0000           neutral   \n",
       "7377   0.4767           positive  \n",
       "10771  0.0000           neutral   \n",
       "956    0.4404           positive  \n",
       "14131  0.3612           positive  \n",
       "13421  0.0000           neutral   \n",
       "13444  0.9433           positive  \n",
       "2613   0.0000           neutral   \n",
       "10831  0.2500           positive  "
      ]
     },
     "execution_count": 128,
     "metadata": {},
     "output_type": "execute_result"
    }
   ],
   "source": [
    "tweet.sample(10)"
   ]
  },
  {
   "cell_type": "code",
   "execution_count": 132,
   "metadata": {},
   "outputs": [
    {
     "data": {
      "text/plain": [
       " 0.0000    5374\n",
       " 0.4767    313 \n",
       " 0.3612    280 \n",
       " 0.4404    259 \n",
       " 0.6249    197 \n",
       " 0.6369    185 \n",
       " 0.4019    174 \n",
       "-0.6808    156 \n",
       " 0.4215    153 \n",
       " 0.3182    141 \n",
       "-0.2960    137 \n",
       " 0.5719    135 \n",
       " 0.4588    127 \n",
       " 0.3400    124 \n",
       " 0.3818    122 \n",
       " 0.4939    122 \n",
       " 0.2023    114 \n",
       " 0.5859    108 \n",
       " 0.5106    98  \n",
       " 0.5994    98  \n",
       " 0.2732    97  \n",
       " 0.7184    94  \n",
       "-0.4767    93  \n",
       " 0.5574    93  \n",
       " 0.2960    86  \n",
       " 0.0772    81  \n",
       " 0.6597    76  \n",
       " 0.6908    65  \n",
       "-0.3182    64  \n",
       " 0.7003    63  \n",
       "           ..  \n",
       "-0.8398    1   \n",
       "-0.8798    1   \n",
       "-0.8295    1   \n",
       " 0.8124    1   \n",
       " 0.3666    1   \n",
       "-0.8261    1   \n",
       "-0.9423    1   \n",
       "-0.4883    1   \n",
       " 0.8643    1   \n",
       " 0.5829    1   \n",
       " 0.3582    1   \n",
       "-0.5605    1   \n",
       "-0.7849    1   \n",
       "-0.5984    1   \n",
       " 0.8042    1   \n",
       " 0.3892    1   \n",
       " 0.5951    1   \n",
       " 0.9507    1   \n",
       " 0.2591    1   \n",
       "-0.7615    1   \n",
       " 0.4186    1   \n",
       " 0.5307    1   \n",
       " 0.9230    1   \n",
       "-0.8160    1   \n",
       " 0.9345    1   \n",
       " 0.4334    1   \n",
       "-0.4915    1   \n",
       " 0.3777    1   \n",
       " 0.9719    1   \n",
       " 0.9212    1   \n",
       "Name: sentiment_score, Length: 2242, dtype: int64"
      ]
     },
     "execution_count": 132,
     "metadata": {},
     "output_type": "execute_result"
    }
   ],
   "source": [
    "tweet['sentiment_score'].value_counts()"
   ]
  },
  {
   "cell_type": "code",
   "execution_count": 133,
   "metadata": {},
   "outputs": [
    {
     "data": {
      "text/plain": [
       "positive    8239\n",
       "neutral     5469\n",
       "negative    3216\n",
       "Name: sentiment, dtype: int64"
      ]
     },
     "execution_count": 133,
     "metadata": {},
     "output_type": "execute_result"
    }
   ],
   "source": [
    "tweet['sentiment'].value_counts()"
   ]
  },
  {
   "cell_type": "markdown",
   "metadata": {},
   "source": [
    "## How does the sentiment vary over time ? "
   ]
  },
  {
   "cell_type": "code",
   "execution_count": 136,
   "metadata": {},
   "outputs": [
    {
     "data": {
      "image/png": "[encoded data removed]",
      "text/plain": [
       "<Figure size 720x576 with 1 Axes>"
      ]
     },
     "metadata": {
      "needs_background": "light"
     },
     "output_type": "display_data"
    }
   ],
   "source": [
    "sns.kdeplot(tweet.loc[tweet['sentiment']==\"positive\",\"hours\"],label='positive');\n",
    "sns.kdeplot(tweet.loc[tweet['sentiment']==\"negative\",\"hours\"],label='negative');\n",
    "sns.kdeplot(tweet.loc[tweet['sentiment']==\"neutral\",\"hours\"],label='neutral');\n",
    "\n",
    "plt.xlabel('Hours_of_the_days')\n",
    "plt.ylabel('Density')\n",
    "plt.show()"
   ]
  },
  {
   "cell_type": "code",
   "execution_count": 138,
   "metadata": {},
   "outputs": [],
   "source": [
    "positive_tweets=tweet.loc[tweet['sentiment']=='positive','final_tweet'].tolist()"
   ]
  },
  {
   "cell_type": "code",
   "execution_count": 139,
   "metadata": {},
   "outputs": [],
   "source": [
    "negative_tweets=tweet.loc[tweet['sentiment']=='negative','final_tweet'].tolist()"
   ]
  },
  {
   "cell_type": "code",
   "execution_count": 140,
   "metadata": {},
   "outputs": [],
   "source": [
    "positive_tweets_bigrams=[\" \".join(generateNGram(review,2)) for review in positive_tweets]\n",
    "negative_tweets_bigrams=[\" \".join(generateNGram(review,2)) for review in negative_tweets]"
   ]
  },
  {
   "cell_type": "code",
   "execution_count": 141,
   "metadata": {},
   "outputs": [
    {
     "data": {
      "image/png": "[encoded data removed]",
      "text/plain": [
       "<Figure size 1080x1440 with 2 Axes>"
      ]
     },
     "metadata": {
      "needs_background": "light"
     },
     "output_type": "display_data"
    }
   ],
   "source": [
    "rcParams['figure.figsize'] = 15,20\n",
    "fig,ax=plt.subplots(1,2)\n",
    "fig.subplots_adjust(wspace=1) #Adjusts the space between the two plots\n",
    "plotMostCommonWords(positive_tweets_bigrams,25,\"positive tweet bigrams\",axis=ax[0])\n",
    "plotMostCommonWords(negative_tweets_bigrams,25,\"negative tweet bigrams\",color=\"red\",axis=ax[1])"
   ]
  },
  {
   "cell_type": "code",
   "execution_count": 142,
   "metadata": {},
   "outputs": [],
   "source": [
    "positive_tweets_trigrams=[\" \".join(generateNGram(review,2)) for review in positive_tweets]\n",
    "negative_tweets_trigrams=[\" \".join(generateNGram(review,2)) for review in negative_tweets]"
   ]
  },
  {
   "cell_type": "code",
   "execution_count": 143,
   "metadata": {},
   "outputs": [
    {
     "data": {
      "image/png": "[encoded data removed]",
      "text/plain": [
       "<Figure size 1080x1440 with 2 Axes>"
      ]
     },
     "metadata": {
      "needs_background": "light"
     },
     "output_type": "display_data"
    }
   ],
   "source": [
    "rcParams['figure.figsize'] = 15,20\n",
    "fig,ax=plt.subplots(1,2)\n",
    "fig.subplots_adjust(wspace=1)\n",
    "plotMostCommonWords(positive_tweets_trigrams,25,\"positive tweet trigrams\",axis=ax[0])\n",
    "plotMostCommonWords(negative_tweets_trigrams,25,\"negative tweet trigrams\",color=\"red\",axis=ax[1])"
   ]
  },
  {
   "cell_type": "markdown",
   "metadata": {},
   "source": [
    "## Topic Modeling"
   ]
  },
  {
   "cell_type": "code",
   "execution_count": 144,
   "metadata": {},
   "outputs": [
    {
     "name": "stdout",
     "output_type": "stream",
     "text": [
      "Requirement already satisfied: plotly in c:\\users\\royal\\anaconda3\\lib\\site-packages (4.3.0)\n",
      "Requirement already satisfied: six in c:\\users\\royal\\anaconda3\\lib\\site-packages (from plotly) (1.12.0)\n",
      "Requirement already satisfied: retrying>=1.3.3 in c:\\users\\royal\\anaconda3\\lib\\site-packages (from plotly) (1.3.3)\n"
     ]
    }
   ],
   "source": [
    "! pip install plotly"
   ]
  },
  {
   "cell_type": "code",
   "execution_count": 145,
   "metadata": {},
   "outputs": [
    {
     "name": "stdout",
     "output_type": "stream",
     "text": [
      "Requirement already satisfied: gensim in c:\\users\\royal\\anaconda3\\lib\\site-packages (3.8.1)\n",
      "Requirement already satisfied: smart-open>=1.8.1 in c:\\users\\royal\\anaconda3\\lib\\site-packages (from gensim) (1.9.0)\n",
      "Requirement already satisfied: numpy>=1.11.3 in c:\\users\\royal\\anaconda3\\lib\\site-packages (from gensim) (1.16.2)\n",
      "Requirement already satisfied: six>=1.5.0 in c:\\users\\royal\\anaconda3\\lib\\site-packages (from gensim) (1.12.0)\n",
      "Requirement already satisfied: scipy>=0.18.1 in c:\\users\\royal\\anaconda3\\lib\\site-packages (from gensim) (1.2.1)\n",
      "Requirement already satisfied: boto>=2.32 in c:\\users\\royal\\anaconda3\\lib\\site-packages (from smart-open>=1.8.1->gensim) (2.49.0)\n",
      "Requirement already satisfied: boto3 in c:\\users\\royal\\anaconda3\\lib\\site-packages (from smart-open>=1.8.1->gensim) (1.10.34)\n",
      "Requirement already satisfied: requests in c:\\users\\royal\\anaconda3\\lib\\site-packages (from smart-open>=1.8.1->gensim) (2.21.0)\n",
      "Requirement already satisfied: botocore<1.14.0,>=1.13.34 in c:\\users\\royal\\anaconda3\\lib\\site-packages (from boto3->smart-open>=1.8.1->gensim) (1.13.34)\n",
      "Requirement already satisfied: s3transfer<0.3.0,>=0.2.0 in c:\\users\\royal\\anaconda3\\lib\\site-packages (from boto3->smart-open>=1.8.1->gensim) (0.2.1)\n",
      "Requirement already satisfied: jmespath<1.0.0,>=0.7.1 in c:\\users\\royal\\anaconda3\\lib\\site-packages (from boto3->smart-open>=1.8.1->gensim) (0.9.4)\n",
      "Requirement already satisfied: certifi>=2017.4.17 in c:\\users\\royal\\anaconda3\\lib\\site-packages (from requests->smart-open>=1.8.1->gensim) (2019.3.9)\n",
      "Requirement already satisfied: urllib3<1.25,>=1.21.1 in c:\\users\\royal\\anaconda3\\lib\\site-packages (from requests->smart-open>=1.8.1->gensim) (1.24.1)\n",
      "Requirement already satisfied: chardet<3.1.0,>=3.0.2 in c:\\users\\royal\\anaconda3\\lib\\site-packages (from requests->smart-open>=1.8.1->gensim) (3.0.4)\n",
      "Requirement already satisfied: idna<2.9,>=2.5 in c:\\users\\royal\\anaconda3\\lib\\site-packages (from requests->smart-open>=1.8.1->gensim) (2.8)\n",
      "Requirement already satisfied: docutils<0.16,>=0.10 in c:\\users\\royal\\anaconda3\\lib\\site-packages (from botocore<1.14.0,>=1.13.34->boto3->smart-open>=1.8.1->gensim) (0.14)\n",
      "Requirement already satisfied: python-dateutil<2.8.1,>=2.1; python_version >= \"2.7\" in c:\\users\\royal\\anaconda3\\lib\\site-packages (from botocore<1.14.0,>=1.13.34->boto3->smart-open>=1.8.1->gensim) (2.8.0)\n"
     ]
    }
   ],
   "source": [
    "! pip install gensim"
   ]
  },
  {
   "cell_type": "code",
   "execution_count": 146,
   "metadata": {},
   "outputs": [
    {
     "name": "stdout",
     "output_type": "stream",
     "text": [
      "Requirement already satisfied: pyLDAvis in c:\\users\\royal\\anaconda3\\lib\\site-packages (2.1.2)\n",
      "Requirement already satisfied: pandas>=0.17.0 in c:\\users\\royal\\anaconda3\\lib\\site-packages (from pyLDAvis) (0.24.2)\n",
      "Requirement already satisfied: numexpr in c:\\users\\royal\\anaconda3\\lib\\site-packages (from pyLDAvis) (2.6.9)\n",
      "Requirement already satisfied: joblib>=0.8.4 in c:\\users\\royal\\anaconda3\\lib\\site-packages (from pyLDAvis) (0.14.0)\n",
      "Requirement already satisfied: numpy>=1.9.2 in c:\\users\\royal\\anaconda3\\lib\\site-packages (from pyLDAvis) (1.16.2)\n",
      "Requirement already satisfied: jinja2>=2.7.2 in c:\\users\\royal\\anaconda3\\lib\\site-packages (from pyLDAvis) (2.10)\n",
      "Requirement already satisfied: future in c:\\users\\royal\\anaconda3\\lib\\site-packages (from pyLDAvis) (0.17.1)\n",
      "Requirement already satisfied: wheel>=0.23.0 in c:\\users\\royal\\anaconda3\\lib\\site-packages (from pyLDAvis) (0.33.1)\n",
      "Requirement already satisfied: funcy in c:\\users\\royal\\anaconda3\\lib\\site-packages (from pyLDAvis) (1.14)\n",
      "Requirement already satisfied: scipy>=0.18.0 in c:\\users\\royal\\anaconda3\\lib\\site-packages (from pyLDAvis) (1.2.1)\n",
      "Requirement already satisfied: pytest in c:\\users\\royal\\anaconda3\\lib\\site-packages (from pyLDAvis) (4.3.1)\n",
      "Requirement already satisfied: python-dateutil>=2.5.0 in c:\\users\\royal\\anaconda3\\lib\\site-packages (from pandas>=0.17.0->pyLDAvis) (2.8.0)\n",
      "Requirement already satisfied: pytz>=2011k in c:\\users\\royal\\anaconda3\\lib\\site-packages (from pandas>=0.17.0->pyLDAvis) (2018.9)\n",
      "Requirement already satisfied: MarkupSafe>=0.23 in c:\\users\\royal\\anaconda3\\lib\\site-packages (from jinja2>=2.7.2->pyLDAvis) (1.1.1)\n",
      "Requirement already satisfied: py>=1.5.0 in c:\\users\\royal\\anaconda3\\lib\\site-packages (from pytest->pyLDAvis) (1.8.0)\n",
      "Requirement already satisfied: six>=1.10.0 in c:\\users\\royal\\anaconda3\\lib\\site-packages (from pytest->pyLDAvis) (1.12.0)\n",
      "Requirement already satisfied: setuptools in c:\\users\\royal\\anaconda3\\lib\\site-packages (from pytest->pyLDAvis) (40.8.0)\n",
      "Requirement already satisfied: attrs>=17.4.0 in c:\\users\\royal\\anaconda3\\lib\\site-packages (from pytest->pyLDAvis) (19.1.0)\n",
      "Requirement already satisfied: atomicwrites>=1.0 in c:\\users\\royal\\anaconda3\\lib\\site-packages (from pytest->pyLDAvis) (1.3.0)\n",
      "Requirement already satisfied: pluggy>=0.7 in c:\\users\\royal\\anaconda3\\lib\\site-packages (from pytest->pyLDAvis) (0.9.0)\n",
      "Requirement already satisfied: more-itertools>=4.0.0 in c:\\users\\royal\\anaconda3\\lib\\site-packages (from pytest->pyLDAvis) (6.0.0)\n",
      "Requirement already satisfied: colorama in c:\\users\\royal\\anaconda3\\lib\\site-packages (from pytest->pyLDAvis) (0.4.1)\n"
     ]
    }
   ],
   "source": [
    "! pip install pyLDAvis"
   ]
  },
  {
   "cell_type": "code",
   "execution_count": 147,
   "metadata": {},
   "outputs": [],
   "source": [
    "def extract_adj_nouns(text):\n",
    "    document=nlp(text)\n",
    "    adj_nouns=[token for token in document if (token.text not in stopwords) and token.pos_ in [\"ADJ\",\"NOUN\"]]\n",
    "    extracted = ' '.join([str(elem) for elem in adj_nouns])\n",
    "    return extracted"
   ]
  },
  {
   "cell_type": "code",
   "execution_count": 148,
   "metadata": {},
   "outputs": [],
   "source": [
    "tweet['noun_adj_tweet']=tweet['cleaned_tweet'].apply(lambda x:extract_adj_nouns(x))"
   ]
  },
  {
   "cell_type": "code",
   "execution_count": 149,
   "metadata": {},
   "outputs": [],
   "source": [
    "import gensim\n",
    "from gensim import corpora"
   ]
  },
  {
   "cell_type": "code",
   "execution_count": 150,
   "metadata": {},
   "outputs": [],
   "source": [
    "corpus=tweet['noun_adj_tweet'].tolist()"
   ]
  },
  {
   "cell_type": "code",
   "execution_count": 151,
   "metadata": {},
   "outputs": [
    {
     "data": {
      "text/plain": [
       "['best',\n",
       " 'Biggest event Indian economy event manager self mythologising events',\n",
       " 'PM speech president isthe leader world largest democracy leader world oldest democracy share platform',\n",
       " 'real face radical behaviour dangerous jihad integral Muslim culture',\n",
       " 'great day',\n",
       " 'great leader tax cut event',\n",
       " 'Sad ignorant rightful polite decline event event joint venture political event political party fund raising official event']"
      ]
     },
     "execution_count": 151,
     "metadata": {},
     "output_type": "execute_result"
    }
   ],
   "source": [
    "corpus[:7]"
   ]
  },
  {
   "cell_type": "code",
   "execution_count": 152,
   "metadata": {},
   "outputs": [
    {
     "data": {
      "text/plain": [
       "[['best'],\n",
       " ['Biggest',\n",
       "  'event',\n",
       "  'Indian',\n",
       "  'economy',\n",
       "  'event',\n",
       "  'manager',\n",
       "  'self',\n",
       "  'mythologising',\n",
       "  'events'],\n",
       " ['PM',\n",
       "  'speech',\n",
       "  'president',\n",
       "  'isthe',\n",
       "  'leader',\n",
       "  'world',\n",
       "  'largest',\n",
       "  'democracy',\n",
       "  'leader',\n",
       "  'world',\n",
       "  'oldest',\n",
       "  'democracy',\n",
       "  'share',\n",
       "  'platform'],\n",
       " ['real',\n",
       "  'face',\n",
       "  'radical',\n",
       "  'behaviour',\n",
       "  'dangerous',\n",
       "  'jihad',\n",
       "  'integral',\n",
       "  'Muslim',\n",
       "  'culture'],\n",
       " ['great', 'day'],\n",
       " ['great', 'leader', 'tax', 'cut', 'event'],\n",
       " ['Sad',\n",
       "  'ignorant',\n",
       "  'rightful',\n",
       "  'polite',\n",
       "  'decline',\n",
       "  'event',\n",
       "  'event',\n",
       "  'joint',\n",
       "  'venture',\n",
       "  'political',\n",
       "  'event',\n",
       "  'political',\n",
       "  'party',\n",
       "  'fund',\n",
       "  'raising',\n",
       "  'official',\n",
       "  'event'],\n",
       " ['refugee', 'camps', 'years', 'WAITING'],\n",
       " ['state',\n",
       "  'elections',\n",
       "  'costliest',\n",
       "  'elections',\n",
       "  'world',\n",
       "  'freebies',\n",
       "  'worth',\n",
       "  'lakh',\n",
       "  'crores',\n",
       "  'rich',\n",
       "  'voice',\n",
       "  'failures',\n",
       "  'fascist',\n",
       "  'government'],\n",
       " ['indian',\n",
       "  'people',\n",
       "  'joker',\n",
       "  'joke',\n",
       "  'stupid',\n",
       "  'things',\n",
       "  'amazing',\n",
       "  'comedian'],\n",
       " ['master', 'stroke', 'sino', 'amirican', 'highest', 'region', 'companies']]"
      ]
     },
     "execution_count": 152,
     "metadata": {},
     "output_type": "execute_result"
    }
   ],
   "source": [
    "tokenised_corpus=[]\n",
    "for corp in corpus:\n",
    "    tokenised_corpus.append([token for token in corp.split(\" \")])\n",
    "tokenised_corpus[:11]"
   ]
  },
  {
   "cell_type": "code",
   "execution_count": 153,
   "metadata": {},
   "outputs": [],
   "source": [
    "dictionary = corpora.Dictionary(tokenised_corpus)"
   ]
  },
  {
   "cell_type": "code",
   "execution_count": 154,
   "metadata": {},
   "outputs": [
    {
     "data": {
      "text/plain": [
       "10292"
      ]
     },
     "execution_count": 154,
     "metadata": {},
     "output_type": "execute_result"
    }
   ],
   "source": [
    "len(dictionary)"
   ]
  },
  {
   "cell_type": "code",
   "execution_count": 155,
   "metadata": {},
   "outputs": [],
   "source": [
    "doc_term_matrix = [dictionary.doc2bow(rev) for rev in tokenised_corpus] # words with number oftimes they occur in the document"
   ]
  },
  {
   "cell_type": "code",
   "execution_count": 156,
   "metadata": {},
   "outputs": [],
   "source": [
    "LDA = gensim.models.ldamodel.LdaModel\n",
    "\n",
    "# Build LDA model\n",
    "lda_model = LDA(corpus=doc_term_matrix, id2word=dictionary, num_topics=4, random_state=100,\n",
    "                chunksize=750, passes=50)"
   ]
  },
  {
   "cell_type": "code",
   "execution_count": 157,
   "metadata": {},
   "outputs": [
    {
     "data": {
      "text/plain": [
       "[(0,\n",
       "  '0.111*\"\" + 0.023*\"today\" + 0.014*\"family\" + 0.012*\"best\" + 0.011*\"money\" + 0.010*\"Today\" + 0.009*\"hand\" + 0.007*\"respect\" + 0.007*\"minister\" + 0.006*\"things\"'),\n",
       " (1,\n",
       "  '0.038*\"world\" + 0.023*\"PM\" + 0.023*\"proud\" + 0.020*\"people\" + 0.020*\"country\" + 0.018*\"speech\" + 0.018*\"great\" + 0.016*\"leader\" + 0.014*\"event\" + 0.014*\"Indian\"'),\n",
       " (2,\n",
       "  '0.023*\"Islamic\" + 0.021*\"election\" + 0.014*\"Proud\" + 0.014*\"fine\" + 0.013*\"Radical\" + 0.011*\"Great\" + 0.009*\"PM\" + 0.009*\"terror\" + 0.008*\"sir\" + 0.007*\"real\"'),\n",
       " (3,\n",
       "  '0.042*\"event\" + 0.025*\"terrorism\" + 0.024*\"Indian\" + 0.013*\"American\" + 0.013*\"new\" + 0.012*\"PM\" + 0.011*\"time\" + 0.010*\"big\" + 0.009*\"people\" + 0.009*\"radical\"')]"
      ]
     },
     "execution_count": 157,
     "metadata": {},
     "output_type": "execute_result"
    }
   ],
   "source": [
    "lda_model.print_topics()"
   ]
  },
  {
   "cell_type": "code",
   "execution_count": 158,
   "metadata": {},
   "outputs": [],
   "source": [
    "import pyLDAvis\n",
    "import pyLDAvis.gensim"
   ]
  },
  {
   "cell_type": "code",
   "execution_count": 159,
   "metadata": {},
   "outputs": [
    {
     "name": "stderr",
     "output_type": "stream",
     "text": [
      "C:\\Users\\Royal\\Anaconda3\\lib\\site-packages\\pyLDAvis\\_prepare.py:257: FutureWarning: Sorting because non-concatenation axis is not aligned. A future version\n",
      "of pandas will change to not sort by default.\n",
      "\n",
      "To accept the future behavior, pass 'sort=False'.\n",
      "\n",
      "To retain the current behavior and silence the warning, pass 'sort=True'.\n",
      "\n",
      "  return pd.concat([default_term_info] + list(topic_dfs))\n"
     ]
    },
    {
     "data": {
      "text/html": [
       "\n",
       "<link rel=\"stylesheet\" type=\"text/css\" href=\"https://cdn.rawgit.com/bmabey/pyLDAvis/files/ldavis.v1.0.0.css\">\n",
       "\n",
       "\n",
       "<div id=\"ldavis_el600814692087418326588902113\"></div>\n",
       "<script type=\"text/javascript\">\n",
       "\n",
       "var ldavis_el600814692087418326588902113_data = {\"mdsDat\": {\"x\": [-0.21811092892103087, -0.15599003202888256, 0.11478480284985113, 0.2593161581000628], \"y\": [0.0673505302842594, 0.021859290864892817, -0.28528941847653927, 0.19607959732738697], \"topics\": [1, 2, 3, 4], \"cluster\": [1, 1, 1, 1], \"Freq\": [32.87910079956055, 27.373870849609375, 20.338518142700195, 19.40850257873535]}, \"tinfo\": {\"Category\": [\"Default\", \"Default\", \"Default\", \"Default\", \"Default\", \"Default\", \"Default\", \"Default\", \"Default\", \"Default\", \"Default\", \"Default\", \"Default\", \"Default\", \"Default\", \"Default\", \"Default\", \"Default\", \"Default\", \"Default\", \"Default\", \"Default\", \"Default\", \"Default\", \"Default\", \"Default\", \"Default\", \"Default\", \"Default\", \"Default\", \"Topic1\", \"Topic1\", \"Topic1\", \"Topic1\", \"Topic1\", \"Topic1\", \"Topic1\", \"Topic1\", \"Topic1\", \"Topic1\", \"Topic1\", \"Topic1\", \"Topic1\", \"Topic1\", \"Topic1\", \"Topic1\", \"Topic1\", \"Topic1\", \"Topic1\", \"Topic1\", \"Topic1\", \"Topic1\", \"Topic1\", \"Topic1\", \"Topic1\", \"Topic1\", \"Topic1\", \"Topic1\", \"Topic1\", \"Topic1\", \"Topic1\", \"Topic1\", \"Topic1\", \"Topic1\", \"Topic1\", \"Topic1\", \"Topic1\", \"Topic1\", \"Topic1\", \"Topic1\", \"Topic2\", \"Topic2\", \"Topic2\", \"Topic2\", \"Topic2\", \"Topic2\", \"Topic2\", \"Topic2\", \"Topic2\", \"Topic2\", \"Topic2\", \"Topic2\", \"Topic2\", \"Topic2\", \"Topic2\", \"Topic2\", \"Topic2\", \"Topic2\", \"Topic2\", \"Topic2\", \"Topic2\", \"Topic2\", \"Topic2\", \"Topic2\", \"Topic2\", \"Topic2\", \"Topic2\", \"Topic2\", \"Topic2\", \"Topic2\", \"Topic2\", \"Topic2\", \"Topic2\", \"Topic2\", \"Topic2\", \"Topic2\", \"Topic2\", \"Topic2\", \"Topic2\", \"Topic2\", \"Topic3\", \"Topic3\", \"Topic3\", \"Topic3\", \"Topic3\", \"Topic3\", \"Topic3\", \"Topic3\", \"Topic3\", \"Topic3\", \"Topic3\", \"Topic3\", \"Topic3\", \"Topic3\", \"Topic3\", \"Topic3\", \"Topic3\", \"Topic3\", \"Topic3\", \"Topic3\", \"Topic3\", \"Topic3\", \"Topic3\", \"Topic3\", \"Topic3\", \"Topic3\", \"Topic3\", \"Topic3\", \"Topic3\", \"Topic3\", \"Topic3\", \"Topic3\", \"Topic3\", \"Topic3\", \"Topic3\", \"Topic4\", \"Topic4\", \"Topic4\", \"Topic4\", \"Topic4\", \"Topic4\", \"Topic4\", \"Topic4\", \"Topic4\", \"Topic4\", \"Topic4\", \"Topic4\", \"Topic4\", \"Topic4\", \"Topic4\", \"Topic4\", \"Topic4\", \"Topic4\", \"Topic4\", \"Topic4\", \"Topic4\", \"Topic4\", \"Topic4\", \"Topic4\", \"Topic4\", \"Topic4\", \"Topic4\", \"Topic4\", \"Topic4\", \"Topic4\", \"Topic4\"], \"Freq\": [1514.0, 883.0, 1141.0, 480.0, 520.0, 331.0, 317.0, 453.0, 304.0, 418.0, 767.0, 369.0, 633.0, 257.0, 192.0, 198.0, 552.0, 244.0, 194.0, 186.0, 266.0, 169.0, 235.0, 234.0, 196.0, 154.0, 221.0, 144.0, 134.0, 888.0, 882.8157348632812, 519.450927734375, 452.3651428222656, 417.5534362792969, 369.2726135253906, 265.4621887207031, 234.9033660888672, 233.36080932617188, 220.86761474609375, 195.8676300048828, 180.42071533203125, 178.81951904296875, 152.2903289794922, 140.53955078125, 135.6522674560547, 126.68535614013672, 121.31487274169922, 115.38383483886719, 117.50562286376953, 110.93589782714844, 106.60958862304688, 107.09734344482422, 102.02616882324219, 100.83711242675781, 100.90423583984375, 91.44896697998047, 94.38561248779297, 87.28229522705078, 84.48506164550781, 83.67879486083984, 418.1611022949219, 454.5797119140625, 534.1361694335938, 154.92233276367188, 212.99281311035156, 140.86325073242188, 149.45132446289062, 313.2023010253906, 333.0192565917969, 178.0821533203125, 480.0129089355469, 257.0045471191406, 243.56573486328125, 196.07122802734375, 166.28660583496094, 165.088623046875, 153.92337036132812, 152.59176635742188, 131.7928466796875, 127.15393829345703, 123.1061782836914, 117.34283447265625, 109.11811065673828, 103.5966567993164, 96.11453247070312, 96.5448989868164, 92.2944107055664, 86.24433898925781, 83.65974426269531, 81.52333068847656, 80.26748657226562, 82.75618743896484, 78.0352783203125, 78.13400268554688, 77.4373550415039, 73.77667236328125, 73.23945617675781, 72.68034362792969, 71.49779510498047, 69.5614242553711, 70.41570281982422, 807.552978515625, 128.60763549804688, 453.4886169433594, 218.7970428466797, 93.49040222167969, 101.43897247314453, 231.4332275390625, 178.8819122314453, 134.24098205566406, 330.45928955078125, 303.3875732421875, 197.5860595703125, 193.84214782714844, 186.29733276367188, 153.75428771972656, 122.47216796875, 112.5373764038086, 104.10725402832031, 103.79564666748047, 102.93470764160156, 101.01644134521484, 95.80147552490234, 89.17829132080078, 74.19628143310547, 70.90795135498047, 70.40052795410156, 63.00838851928711, 60.388145446777344, 56.842594146728516, 51.22148132324219, 50.454627990722656, 46.180458068847656, 46.90277099609375, 44.08027267456055, 47.164100646972656, 44.192970275878906, 42.72676467895508, 41.05491638183594, 46.97365951538086, 89.74506378173828, 55.6534538269043, 122.7242660522461, 78.35435485839844, 55.49850845336914, 1513.81494140625, 316.4637451171875, 192.1463623046875, 169.1331787109375, 143.88888549804688, 134.19732666015625, 118.05500793457031, 92.45250701904297, 92.75390625, 87.5558853149414, 86.42334747314453, 80.17078399658203, 77.94851684570312, 72.58097076416016, 65.95255279541016, 64.4564208984375, 64.10699462890625, 63.04426193237305, 60.73929977416992, 61.73174285888672, 61.10264587402344, 60.97378158569336, 59.734100341796875, 58.52370071411133, 57.05134201049805, 54.236629486083984, 51.45833206176758, 47.28437805175781, 47.52888107299805, 51.68937301635742, 47.344181060791016], \"Term\": [\"\", \"world\", \"event\", \"terrorism\", \"proud\", \"Islamic\", \"today\", \"country\", \"election\", \"great\", \"Indian\", \"leader\", \"people\", \"American\", \"family\", \"Proud\", \"speech\", \"new\", \"fine\", \"Radical\", \"day\", \"best\", \"man\", \"leaders\", \"big\", \"Great\", \"Trump\", \"money\", \"Today\", \"PM\", \"world\", \"proud\", \"country\", \"great\", \"leader\", \"day\", \"man\", \"leaders\", \"Trump\", \"crowd\", \"stage\", \"campaign\", \"nation\", \"powerful\", \"years\", \"ovation\", \"countries\", \"stadium\", \"right\", \"president\", \"foreign\", \"%\", \"better\", \"biggest\", \"largest\", \"democracy\", \"religion\", \"friend\", \"life\", \"vision\", \"speech\", \"people\", \"PM\", \"good\", \"moment\", \"global\", \"way\", \"Indian\", \"event\", \"time\", \"terrorism\", \"American\", \"new\", \"big\", \"radical\", \"history\", \"elections\", \"words\", \"trump\", \"strong\", \"politics\", \"message\", \"Thanks\", \"news\", \"illegal\", \"immigrants\", \"People\", \"friendship\", \"visit\", \"high\", \"audience\", \"threat\", \"level\", \"NRIs\", \"state\", \"security\", \"lot\", \"address\", \"presence\", \"border\", \"grand\", \"event\", \"media\", \"Indian\", \"time\", \"thing\", \"community\", \"PM\", \"people\", \"speech\", \"Islamic\", \"election\", \"Proud\", \"fine\", \"Radical\", \"Great\", \"terror\", \"sir\", \"real\", \"person\", \"amazing\", \"historic\", \"clear\", \"support\", \"busy\", \"issue\", \"relationship\", \"innocent\", \"face\", \"wrong\", \"liberals\", \"economic\", \"civilians\", \"strength\", \"TV\", \"diversity\", \"honour\", \"red\", \"carpet\", \"Yesterday\", \"-\", \"word\", \"PM\", \"moment\", \"languages\", \"\", \"today\", \"family\", \"best\", \"money\", \"Today\", \"hand\", \"minister\", \"respect\", \"things\", \"sure\", \"prime\", \"pride\", \"rally\", \"party\", \"Event\", \"difference\", \"guys\", \"love\", \"victory\", \"Best\", \"Amazing\", \"heart\", \"free\", \"different\", \"tax\", \"second\", \"video\", \"home\", \"yesterday\", \"gathering\"], \"Total\": [1514.0, 883.0, 1141.0, 480.0, 520.0, 331.0, 317.0, 453.0, 304.0, 418.0, 767.0, 369.0, 633.0, 257.0, 192.0, 198.0, 552.0, 244.0, 194.0, 186.0, 266.0, 169.0, 235.0, 234.0, 196.0, 154.0, 221.0, 144.0, 134.0, 888.0, 883.4675903320312, 520.0964965820312, 453.0261535644531, 418.20306396484375, 369.92022705078125, 266.1171569824219, 235.5561981201172, 234.0116729736328, 221.53521728515625, 196.5249786376953, 181.07061767578125, 179.47979736328125, 152.9510040283203, 141.18338012695312, 136.30807495117188, 127.36774444580078, 121.99634552001953, 116.03853607177734, 118.18327331542969, 111.59042358398438, 107.26194763183594, 107.75662231445312, 102.67731475830078, 101.4874267578125, 101.5608139038086, 92.09188842773438, 95.06653594970703, 87.92774963378906, 85.14247131347656, 84.33271789550781, 552.8411254882812, 633.9054565429688, 888.5070190429688, 182.9080352783203, 291.77362060546875, 167.63002014160156, 188.35923767089844, 767.1310424804688, 1141.0093994140625, 397.31488037109375, 480.6690673828125, 257.64837646484375, 244.2157440185547, 196.727294921875, 166.93533325195312, 165.7362518310547, 154.57595825195312, 153.24966430664062, 132.4406280517578, 127.81311798095703, 123.78246307373047, 118.00019073486328, 109.76683044433594, 104.24104309082031, 96.74473571777344, 97.17903900146484, 92.94586944580078, 86.89981842041016, 84.31318664550781, 82.17012786865234, 80.92374420166016, 83.44080352783203, 78.68304443359375, 78.7987289428711, 78.09632873535156, 74.4106216430664, 73.89122009277344, 73.33821105957031, 72.15045166015625, 70.19837188720703, 71.06950378417969, 1141.0093994140625, 145.6411590576172, 767.1310424804688, 397.31488037109375, 111.87925720214844, 132.18838500976562, 888.5070190429688, 633.9054565429688, 552.8411254882812, 331.1121520996094, 304.0381774902344, 198.2267303466797, 194.49017333984375, 186.936767578125, 154.4008026123047, 123.12150573730469, 113.18708038330078, 104.76081848144531, 104.44889068603516, 103.5863265991211, 101.67478942871094, 96.46282958984375, 89.84011840820312, 74.87492370605469, 71.58706665039062, 71.08511352539062, 63.65697479248047, 61.034767150878906, 57.51504898071289, 51.871517181396484, 51.1457405090332, 46.819496154785156, 47.57524490356445, 44.72392654418945, 47.86117935180664, 44.86790466308594, 43.37962341308594, 41.68638610839844, 47.70138168334961, 135.93356323242188, 82.416015625, 888.5070190429688, 291.77362060546875, 94.00436401367188, 1514.448974609375, 317.12127685546875, 192.79763793945312, 169.79556274414062, 144.5618438720703, 134.85321044921875, 118.7254867553711, 93.10481262207031, 93.45320892333984, 88.22610473632812, 87.09129333496094, 80.82247924804688, 78.60836029052734, 73.2520523071289, 66.61457061767578, 65.10707092285156, 64.77169036865234, 63.704627990722656, 61.39163589477539, 62.396366119384766, 61.76747131347656, 61.646854400634766, 60.39645004272461, 59.22106170654297, 57.7320556640625, 54.888179779052734, 52.14398193359375, 47.93776321411133, 48.20613098144531, 52.43339920043945, 48.03553771972656], \"loglift\": [30.0, 29.0, 28.0, 27.0, 26.0, 25.0, 24.0, 23.0, 22.0, 21.0, 20.0, 19.0, 18.0, 17.0, 16.0, 15.0, 14.0, 13.0, 12.0, 11.0, 10.0, 9.0, 8.0, 7.0, 6.0, 5.0, 4.0, 3.0, 2.0, 1.0, 1.1116000413894653, 1.1110999584197998, 1.1109000444412231, 1.11080002784729, 1.1105999946594238, 1.1098999977111816, 1.1095999479293823, 1.1095000505447388, 1.1093000173568726, 1.1089999675750732, 1.1087000370025635, 1.1086000204086304, 1.1080000400543213, 1.107800006866455, 1.1074999570846558, 1.1069999933242798, 1.1066999435424805, 1.1066999435424805, 1.106600046157837, 1.1065000295639038, 1.1061999797821045, 1.1061999797821045, 1.1059999465942383, 1.1059000492095947, 1.1058000326156616, 1.105299949645996, 1.1051000356674194, 1.1050000190734863, 1.104599952697754, 1.1045000553131104, 0.8331000208854675, 0.7797999978065491, 0.6033999919891357, 0.9463000297546387, 0.7975999712944031, 0.9383999705314636, 0.8809999823570251, 0.21649999916553497, -0.11909999698400497, 0.30979999899864197, 1.2941999435424805, 1.2930999994277954, 1.2928999662399292, 1.292199969291687, 1.291700005531311, 1.291700005531311, 1.2913999557495117, 1.2913000583648682, 1.2906999588012695, 1.2904000282287598, 1.2900999784469604, 1.2899999618530273, 1.2897000312805176, 1.2893999814987183, 1.2890000343322754, 1.2890000343322754, 1.2884999513626099, 1.2879999876022339, 1.2877999544143677, 1.2877000570297241, 1.2874000072479248, 1.2872999906539917, 1.2872999906539917, 1.2870999574661255, 1.2870999574661255, 1.2869999408721924, 1.2867000102996826, 1.2865999937057495, 1.2864999771118164, 1.2864999771118164, 1.2862999439239502, 0.9498999714851379, 1.1712000370025635, 0.7699000239372253, 0.6990000009536743, 1.1160000562667847, 1.0307999849319458, -0.04969999939203262, 0.030400000512599945, -0.11990000307559967, 1.5907000303268433, 1.590499997138977, 1.589400053024292, 1.5893000364303589, 1.5892000198364258, 1.5885000228881836, 1.587399959564209, 1.586899995803833, 1.586400032043457, 1.586400032043457, 1.586300015449524, 1.5861999988555908, 1.585800051689148, 1.5852999687194824, 1.5835000276565552, 1.5830999612808228, 1.5829999446868896, 1.5823999643325806, 1.5820000171661377, 1.580899953842163, 1.5800000429153442, 1.5789999961853027, 1.5788999795913696, 1.5784000158309937, 1.5781999826431274, 1.5779999494552612, 1.5774999856948853, 1.5774999856948853, 1.5773999691009521, 1.577299952507019, 1.1775000095367432, 1.2000000476837158, -0.38690000772476196, 0.27790001034736633, 1.0657000541687012, 1.6390000581741333, 1.6374000310897827, 1.6361000537872314, 1.635599970817566, 1.6347999572753906, 1.634600043296814, 1.6338000297546387, 1.6324000358581543, 1.6318999528884888, 1.6318000555038452, 1.6318000555038452, 1.6313999891281128, 1.63100004196167, 1.6303000450134277, 1.6295000314712524, 1.6294000148773193, 1.62909996509552, 1.628999948501587, 1.6288000345230103, 1.6288000345230103, 1.628600001335144, 1.628499984741211, 1.6283999681472778, 1.6275999546051025, 1.6275999546051025, 1.627500057220459, 1.6261999607086182, 1.6256999969482422, 1.6253000497817993, 1.6252000331878662, 1.625], \"logprob\": [30.0, 29.0, 28.0, 27.0, 26.0, 25.0, 24.0, 23.0, 22.0, 21.0, 20.0, 19.0, 18.0, 17.0, 16.0, 15.0, 14.0, 13.0, 12.0, 11.0, 10.0, 9.0, 8.0, 7.0, 6.0, 5.0, 4.0, 3.0, 2.0, 1.0, -3.2616000175476074, -3.7918999195098877, -3.9302000999450684, -4.010300159454346, -4.133200168609619, -4.463200092315674, -4.5854997634887695, -4.592100143432617, -4.647200107574463, -4.767300128936768, -4.849400043487549, -4.85830020904541, -5.018899917602539, -5.0991997718811035, -5.1346001625061035, -5.203000068664551, -5.246300220489502, -5.296500205993652, -5.278200149536133, -5.3358001708984375, -5.375500202178955, -5.370999813079834, -5.41949987411499, -5.43120002746582, -5.430500030517578, -5.528900146484375, -5.497300148010254, -5.5756001472473145, -5.608099937438965, -5.617700099945068, -4.008800029754639, -3.925299882888794, -3.7641000747680664, -5.001800060272217, -4.683499813079834, -5.09689998626709, -5.037700176239014, -4.297900199890137, -4.236499786376953, -4.862500190734863, -3.687700033187866, -4.312399864196777, -4.366099834442139, -4.583000183105469, -4.747799873352051, -4.755000114440918, -4.824999809265137, -4.833700180053711, -4.980199813842773, -5.01609992980957, -5.048399925231934, -5.096399784088135, -5.169000148773193, -5.2210001945495605, -5.295899868011475, -5.291500091552734, -5.33650016784668, -5.404300212860107, -5.434700012207031, -5.460599899291992, -5.476099967956543, -5.4456000328063965, -5.504300117492676, -5.502999782562256, -5.51200008392334, -5.560400009155273, -5.567699909210205, -5.575399875640869, -5.591800212860107, -5.61929988861084, -5.607100009918213, -3.1675000190734863, -5.004700183868408, -3.744499921798706, -4.473299980163574, -5.323599815368652, -5.242000102996826, -4.417200088500977, -4.674699783325195, -4.9618000984191895, -3.7639000415802, -3.849400043487549, -4.278200149536133, -4.297399997711182, -4.336999893188477, -4.5289998054504395, -4.756499767303467, -4.841100215911865, -4.919000148773193, -4.921999931335449, -4.930300235748291, -4.949100017547607, -5.002099990844727, -5.073800086975098, -5.257699966430664, -5.302999973297119, -5.310200214385986, -5.42110013961792, -5.463600158691406, -5.524099826812744, -5.628200054168701, -5.6433000564575195, -5.731800079345703, -5.716300010681152, -5.77839994430542, -5.7108001708984375, -5.7758002281188965, -5.809599876403809, -5.8495001792907715, -5.714799880981445, -5.067399978637695, -5.545199871063232, -4.754499912261963, -5.203199863433838, -5.547999858856201, -2.195199966430664, -3.7604000568389893, -4.259300231933594, -4.386899948120117, -4.548500061035156, -4.618299961090088, -4.746399879455566, -4.990900039672852, -4.987599849700928, -5.045300006866455, -5.058300018310547, -5.133399963378906, -5.161499977111816, -5.232900142669678, -5.328700065612793, -5.351600170135498, -5.35699987411499, -5.373799800872803, -5.410999774932861, -5.394800186157227, -5.40500020980835, -5.407100200653076, -5.427700042724609, -5.448200225830078, -5.473599910736084, -5.524199962615967, -5.5767998695373535, -5.661399841308594, -5.656300067901611, -5.572299957275391, -5.660099983215332]}, \"token.table\": {\"Topic\": [4, 1, 2, 3, 4, 2, 4, 4, 3, 1, 2, 3, 2, 1, 2, 3, 2, 3, 3, 3, 2, 4, 1, 3, 2, 3, 2, 4, 1, 2, 1, 2, 3, 1, 3, 3, 3, 2, 3, 1, 1, 1, 1, 1, 4, 4, 3, 3, 3, 2, 1, 2, 3, 4, 3, 1, 4, 1, 2, 4, 1, 2, 1, 2, 2, 1, 4, 4, 4, 2, 3, 2, 4, 3, 2, 2, 3, 3, 1, 3, 1, 1, 1, 2, 3, 1, 2, 4, 1, 2, 3, 2, 4, 1, 3, 4, 1, 2, 2, 1, 4, 1, 2, 3, 2, 1, 2, 1, 4, 4, 1, 2, 4, 3, 3, 3, 1, 4, 1, 4, 2, 3, 1, 2, 1, 1, 2, 3, 2, 3, 4, 4, 3, 2, 2, 4, 4, 2, 1, 2, 4, 2, 4, 4, 1, 2, 1, 4, 2, 3, 2, 1, 3, 1, 4], \"Freq\": [0.9997035264968872, 0.9929783940315247, 0.33840060234069824, 0.66208815574646, 0.9895070791244507, 0.997483491897583, 0.9875748157501221, 0.9829961657524109, 0.997404158115387, 0.4080137312412262, 0.5905118584632874, 0.9966411590576172, 0.9898636937141418, 0.6010081768035889, 0.2599866986274719, 0.13843446969985962, 0.9898234605789185, 0.9988561868667603, 0.9949888586997986, 0.983813464641571, 0.9930139780044556, 0.9936730265617371, 0.9975840449333191, 0.9852964282035828, 0.9953883290290833, 0.9943397045135498, 0.9885849952697754, 0.9953145980834961, 0.993403434753418, 0.9963030219078064, 0.9951971769332886, 0.9971741437911987, 0.9883148670196533, 0.9973267316818237, 0.9835345149040222, 0.9824966788291931, 0.9952020049095154, 0.7640610933303833, 0.2269488424062729, 0.991832971572876, 0.9977349042892456, 0.9973286986351013, 0.9958019852638245, 0.9881435036659241, 0.9880859851837158, 0.9873197674751282, 0.9820067286491394, 0.9775984883308411, 0.9965853691101074, 0.996273934841156, 0.2918468415737152, 0.7081449031829834, 0.983046293258667, 0.9958628416061401, 0.9974796772003174, 0.9975578784942627, 0.9962671995162964, 0.9894487261772156, 0.9896453619003296, 0.9784422516822815, 0.8411381244659424, 0.15510348975658417, 0.8474203944206238, 0.15308240056037903, 0.9849513173103333, 0.9995144605636597, 0.9889391660690308, 0.9938893914222717, 0.9934358596801758, 0.997929573059082, 0.9933632612228394, 0.9955576658248901, 0.9957239627838135, 0.9806564450263977, 0.9923020601272583, 0.9981576204299927, 0.9896794557571411, 0.9917992353439331, 0.4042365550994873, 0.5850791931152344, 0.9944780468940735, 0.9975123405456543, 0.9956768155097961, 0.9913190603256226, 0.9831985235214233, 0.9865816235542297, 0.9879387617111206, 0.9936206936836243, 0.9976387619972229, 0.8857386112213135, 0.11672524362802505, 0.991523802280426, 0.9881336688995361, 0.7300180196762085, 0.267330527305603, 0.9961134791374207, 0.9937822818756104, 0.9991165995597839, 0.9976876378059387, 0.9971127510070801, 0.9907742142677307, 0.7177726626396179, 0.2823764979839325, 0.9957022666931152, 0.9936787486076355, 0.9987010955810547, 0.9840548038482666, 0.9947090148925781, 0.9922608733177185, 0.9898236393928528, 0.9978917241096497, 0.9943970441818237, 0.9965590834617615, 0.9927375912666321, 0.9912487864494324, 0.9847350120544434, 0.9887811541557312, 0.9951504468917847, 0.9984492659568787, 0.9780610799789429, 0.9944816827774048, 0.9983471632003784, 0.7560942769050598, 0.24238428473472595, 0.9910500645637512, 0.994087278842926, 0.9859618544578552, 0.9879087209701538, 0.9936382174491882, 0.9906487464904785, 0.9874695539474487, 0.9838183522224426, 0.9908910393714905, 0.9986080527305603, 0.8312532901763916, 0.1608877331018448, 0.9974372386932373, 0.9947171807289124, 0.44800737500190735, 0.5512000918388367, 0.996464192867279, 0.9966729879379272, 0.9936476349830627, 0.9804378747940063, 0.9960547089576721, 0.9962854385375977, 0.7910416126251221, 0.20174215734004974, 0.31547266244888306, 0.6794795989990234, 0.998370885848999, 0.9994707107543945, 0.9910449981689453, 0.997739851474762, 0.9917342662811279], \"Term\": [\"\", \"%\", \"-\", \"-\", \"Amazing\", \"American\", \"Best\", \"Event\", \"Great\", \"Indian\", \"Indian\", \"Islamic\", \"NRIs\", \"PM\", \"PM\", \"PM\", \"People\", \"Proud\", \"Radical\", \"TV\", \"Thanks\", \"Today\", \"Trump\", \"Yesterday\", \"address\", \"amazing\", \"audience\", \"best\", \"better\", \"big\", \"biggest\", \"border\", \"busy\", \"campaign\", \"carpet\", \"civilians\", \"clear\", \"community\", \"community\", \"countries\", \"country\", \"crowd\", \"day\", \"democracy\", \"difference\", \"different\", \"diversity\", \"economic\", \"election\", \"elections\", \"event\", \"event\", \"face\", \"family\", \"fine\", \"foreign\", \"free\", \"friend\", \"friendship\", \"gathering\", \"global\", \"global\", \"good\", \"good\", \"grand\", \"great\", \"guys\", \"hand\", \"heart\", \"high\", \"historic\", \"history\", \"home\", \"honour\", \"illegal\", \"immigrants\", \"innocent\", \"issue\", \"languages\", \"languages\", \"largest\", \"leader\", \"leaders\", \"level\", \"liberals\", \"life\", \"lot\", \"love\", \"man\", \"media\", \"media\", \"message\", \"minister\", \"moment\", \"moment\", \"money\", \"nation\", \"new\", \"news\", \"ovation\", \"party\", \"people\", \"people\", \"person\", \"politics\", \"powerful\", \"presence\", \"president\", \"pride\", \"prime\", \"proud\", \"radical\", \"rally\", \"real\", \"red\", \"relationship\", \"religion\", \"respect\", \"right\", \"second\", \"security\", \"sir\", \"speech\", \"speech\", \"stadium\", \"stage\", \"state\", \"strength\", \"strong\", \"support\", \"sure\", \"tax\", \"terror\", \"terrorism\", \"thing\", \"thing\", \"things\", \"threat\", \"time\", \"time\", \"today\", \"trump\", \"victory\", \"video\", \"vision\", \"visit\", \"way\", \"way\", \"word\", \"word\", \"words\", \"world\", \"wrong\", \"years\", \"yesterday\"]}, \"R\": 30, \"lambda.step\": 0.01, \"plot.opts\": {\"xlab\": \"PC1\", \"ylab\": \"PC2\"}, \"topic.order\": [2, 4, 3, 1]};\n",
       "\n",
       "function LDAvis_load_lib(url, callback){\n",
       "  var s = document.createElement('script');\n",
       "  s.src = url;\n",
       "  s.async = true;\n",
       "  s.onreadystatechange = s.onload = callback;\n",
       "  s.onerror = function(){console.warn(\"failed to load library \" + url);};\n",
       "  document.getElementsByTagName(\"head\")[0].appendChild(s);\n",
       "}\n",
       "\n",
       "if(typeof(LDAvis) !== \"undefined\"){\n",
       "   // already loaded: just create the visualization\n",
       "   !function(LDAvis){\n",
       "       new LDAvis(\"#\" + \"ldavis_el600814692087418326588902113\", ldavis_el600814692087418326588902113_data);\n",
       "   }(LDAvis);\n",
       "}else if(typeof define === \"function\" && define.amd){\n",
       "   // require.js is available: use it to load d3/LDAvis\n",
       "   require.config({paths: {d3: \"https://cdnjs.cloudflare.com/ajax/libs/d3/3.5.5/d3.min\"}});\n",
       "   require([\"d3\"], function(d3){\n",
       "      window.d3 = d3;\n",
       "      LDAvis_load_lib(\"https://cdn.rawgit.com/bmabey/pyLDAvis/files/ldavis.v1.0.0.js\", function(){\n",
       "        new LDAvis(\"#\" + \"ldavis_el600814692087418326588902113\", ldavis_el600814692087418326588902113_data);\n",
       "      });\n",
       "    });\n",
       "}else{\n",
       "    // require.js not available: dynamically load d3 & LDAvis\n",
       "    LDAvis_load_lib(\"https://cdnjs.cloudflare.com/ajax/libs/d3/3.5.5/d3.min.js\", function(){\n",
       "         LDAvis_load_lib(\"https://cdn.rawgit.com/bmabey/pyLDAvis/files/ldavis.v1.0.0.js\", function(){\n",
       "                 new LDAvis(\"#\" + \"ldavis_el600814692087418326588902113\", ldavis_el600814692087418326588902113_data);\n",
       "            })\n",
       "         });\n",
       "}\n",
       "</script>"
      ],
      "text/plain": [
       "PreparedData(topic_coordinates=              x         y  topics  cluster       Freq\n",
       "topic                                                \n",
       "1     -0.218111  0.067351  1       1        32.879101\n",
       "3     -0.155990  0.021859  2       1        27.373871\n",
       "2      0.114785 -0.285289  3       1        20.338518\n",
       "0      0.259316  0.196080  4       1        19.408503, topic_info=     Category         Freq        Term        Total  loglift  logprob\n",
       "174   Default  1514.000000              1514.000000  30.0000  30.0000\n",
       "19    Default  883.000000   world       883.000000   29.0000  29.0000\n",
       "4     Default  1141.000000  event       1141.000000  28.0000  28.0000\n",
       "988   Default  480.000000   terrorism   480.000000   27.0000  27.0000\n",
       "606   Default  520.000000   proud       520.000000   26.0000  26.0000\n",
       "1443  Default  331.000000   Islamic     331.000000   25.0000  25.0000\n",
       "191   Default  317.000000   today       317.000000   24.0000  24.0000\n",
       "251   Default  453.000000   country     453.000000   23.0000  23.0000\n",
       "1241  Default  304.000000   election    304.000000   22.0000  22.0000\n",
       "30    Default  418.000000   great       418.000000   21.0000  21.0000\n",
       "2     Default  767.000000   Indian      767.000000   20.0000  20.0000\n",
       "13    Default  369.000000   leader      369.000000   19.0000  19.0000\n",
       "66    Default  633.000000   people      633.000000   18.0000  18.0000\n",
       "1082  Default  257.000000   American    257.000000   17.0000  17.0000\n",
       "1323  Default  192.000000   family      192.000000   16.0000  16.0000\n",
       "815   Default  198.000000   Proud       198.000000   15.0000  15.0000\n",
       "18    Default  552.000000   speech      552.000000   14.0000  14.0000\n",
       "298   Default  244.000000   new         244.000000   13.0000  13.0000\n",
       "253   Default  194.000000   fine        194.000000   12.0000  12.0000\n",
       "6240  Default  186.000000   Radical     186.000000   11.0000  11.0000\n",
       "29    Default  266.000000   day         266.000000   10.0000  10.0000\n",
       "0     Default  169.000000   best        169.000000   9.0000   9.0000 \n",
       "425   Default  235.000000   man         235.000000   8.0000   8.0000 \n",
       "89    Default  234.000000   leaders     234.000000   7.0000   7.0000 \n",
       "177   Default  196.000000   big         196.000000   6.0000   6.0000 \n",
       "1164  Default  154.000000   Great       154.000000   5.0000   5.0000 \n",
       "556   Default  221.000000   Trump       221.000000   4.0000   4.0000 \n",
       "169   Default  144.000000   money       144.000000   3.0000   3.0000 \n",
       "763   Default  134.000000   Today       134.000000   2.0000   2.0000 \n",
       "9     Default  888.000000   PM          888.000000   1.0000   1.0000 \n",
       "...       ...         ...   ..                 ...      ...      ... \n",
       "191   Topic4   316.463745   today       317.121277   1.6374  -3.7604 \n",
       "1323  Topic4   192.146362   family      192.797638   1.6361  -4.2593 \n",
       "0     Topic4   169.133179   best        169.795563   1.6356  -4.3869 \n",
       "169   Topic4   143.888885   money       144.561844   1.6348  -4.5485 \n",
       "763   Topic4   134.197327   Today       134.853210   1.6346  -4.6183 \n",
       "1432  Topic4   118.055008   hand        118.725487   1.6338  -4.7464 \n",
       "964   Topic4   92.452507    minister    93.104813    1.6324  -4.9909 \n",
       "1605  Topic4   92.753906    respect     93.453209    1.6319  -4.9876 \n",
       "68    Topic4   87.555885    things      88.226105    1.6318  -5.0453 \n",
       "172   Topic4   86.423347    sure        87.091293    1.6318  -5.0583 \n",
       "1688  Topic4   80.170784    prime       80.822479    1.6314  -5.1334 \n",
       "753   Topic4   77.948517    pride       78.608360    1.6310  -5.1615 \n",
       "697   Topic4   72.580971    rally       73.252052    1.6303  -5.2329 \n",
       "39    Topic4   65.952553    party       66.614571    1.6295  -5.3287 \n",
       "816   Topic4   64.456421    Event       65.107071    1.6294  -5.3516 \n",
       "243   Topic4   64.106995    difference  64.771690    1.6291  -5.3570 \n",
       "181   Topic4   63.044262    guys        63.704628    1.6290  -5.3738 \n",
       "734   Topic4   60.739300    love        61.391636    1.6288  -5.4110 \n",
       "3687  Topic4   61.731743    victory     62.396366    1.6288  -5.3948 \n",
       "670   Topic4   61.102646    Best        61.767471    1.6286  -5.4050 \n",
       "457   Topic4   60.973782    Amazing     61.646854    1.6285  -5.4071 \n",
       "2200  Topic4   59.734100    heart       60.396450    1.6284  -5.4277 \n",
       "341   Topic4   58.523701    free        59.221062    1.6276  -5.4482 \n",
       "856   Topic4   57.051342    different   57.732056    1.6276  -5.4736 \n",
       "32    Topic4   54.236629    tax         54.888180    1.6275  -5.5242 \n",
       "3308  Topic4   51.458332    second      52.143982    1.6262  -5.5768 \n",
       "142   Topic4   47.284378    video       47.937763    1.6257  -5.6614 \n",
       "139   Topic4   47.528881    home        48.206131    1.6253  -5.6563 \n",
       "762   Topic4   51.689373    yesterday   52.433399    1.6252  -5.5723 \n",
       "945   Topic4   47.344181    gathering   48.035538    1.6250  -5.6601 \n",
       "\n",
       "[176 rows x 6 columns], token_table=      Topic      Freq       Term\n",
       "term                            \n",
       "174   4      0.999704           \n",
       "98    1      0.992978  %        \n",
       "235   2      0.338401  -        \n",
       "235   3      0.662088  -        \n",
       "457   4      0.989507  Amazing  \n",
       "1082  2      0.997483  American \n",
       "670   4      0.987575  Best     \n",
       "816   4      0.982996  Event    \n",
       "1164  3      0.997404  Great    \n",
       "2     1      0.408014  Indian   \n",
       "2     2      0.590512  Indian   \n",
       "1443  3      0.996641  Islamic  \n",
       "733   2      0.989864  NRIs     \n",
       "9     1      0.601008  PM       \n",
       "9     2      0.259987  PM       \n",
       "9     3      0.138434  PM       \n",
       "772   2      0.989823  People   \n",
       "815   3      0.998856  Proud    \n",
       "6240  3      0.994989  Radical  \n",
       "871   3      0.983813  TV       \n",
       "218   2      0.993014  Thanks   \n",
       "763   4      0.993673  Today    \n",
       "556   1      0.997584  Trump    \n",
       "2377  3      0.985296  Yesterday\n",
       "221   2      0.995388  address  \n",
       "61    3      0.994340  amazing  \n",
       "1177  2      0.988585  audience \n",
       "0     4      0.995315  best     \n",
       "176   1      0.993403  better   \n",
       "177   2      0.996303  big      \n",
       "...  ..           ...     ...   \n",
       "260   1      0.994087  stage    \n",
       "58    2      0.985962  state    \n",
       "705   3      0.987909  strength \n",
       "1339  2      0.993638  strong   \n",
       "1423  3      0.990649  support  \n",
       "172   4      0.987470  sure     \n",
       "32    4      0.983818  tax      \n",
       "1298  3      0.990891  terror   \n",
       "988   2      0.998608  terrorism\n",
       "173   2      0.831253  thing    \n",
       "173   4      0.160888  thing    \n",
       "68    4      0.997437  things   \n",
       "1592  2      0.994717  threat   \n",
       "161   1      0.448007  time     \n",
       "161   2      0.551200  time     \n",
       "191   4      0.996464  today    \n",
       "620   2      0.996673  trump    \n",
       "3687  4      0.993648  victory  \n",
       "142   4      0.980438  video    \n",
       "360   1      0.996055  vision   \n",
       "127   2      0.996285  visit    \n",
       "109   1      0.791042  way      \n",
       "109   4      0.201742  way      \n",
       "958   2      0.315473  word     \n",
       "958   3      0.679480  word     \n",
       "859   2      0.998371  words    \n",
       "19    1      0.999471  world    \n",
       "295   3      0.991045  wrong    \n",
       "48    1      0.997740  years    \n",
       "762   4      0.991734  yesterday\n",
       "\n",
       "[155 rows x 3 columns], R=30, lambda_step=0.01, plot_opts={'xlab': 'PC1', 'ylab': 'PC2'}, topic_order=[2, 4, 3, 1])"
      ]
     },
     "execution_count": 159,
     "metadata": {},
     "output_type": "execute_result"
    }
   ],
   "source": [
    "pyLDAvis.enable_notebook()\n",
    "vis = pyLDAvis.gensim.prepare(lda_model, doc_term_matrix, dictionary)\n",
    "vis"
   ]
  },
  {
   "cell_type": "code",
   "execution_count": 160,
   "metadata": {},
   "outputs": [
    {
     "data": {
      "text/html": [
       "<div>\n",
       "<style scoped>\n",
       "    .dataframe tbody tr th:only-of-type {\n",
       "        vertical-align: middle;\n",
       "    }\n",
       "\n",
       "    .dataframe tbody tr th {\n",
       "        vertical-align: top;\n",
       "    }\n",
       "\n",
       "    .dataframe thead th {\n",
       "        text-align: right;\n",
       "    }\n",
       "</style>\n",
       "<table border=\"1\" class=\"dataframe\">\n",
       "  <thead>\n",
       "    <tr style=\"text-align: right;\">\n",
       "      <th></th>\n",
       "      <th>Document_No</th>\n",
       "      <th>Dominant_Topic</th>\n",
       "      <th>Topic_Perc_Contrib</th>\n",
       "      <th>Keywords</th>\n",
       "      <th>Text</th>\n",
       "    </tr>\n",
       "  </thead>\n",
       "  <tbody>\n",
       "    <tr>\n",
       "      <th>0</th>\n",
       "      <td>0</td>\n",
       "      <td>0.0</td>\n",
       "      <td>0.6250</td>\n",
       "      <td>, today, family, best, money, Today, hand, respect, minister, things</td>\n",
       "      <td>best</td>\n",
       "    </tr>\n",
       "    <tr>\n",
       "      <th>1</th>\n",
       "      <td>1</td>\n",
       "      <td>3.0</td>\n",
       "      <td>0.6802</td>\n",
       "      <td>event, terrorism, Indian, American, new, PM, time, big, people, radical</td>\n",
       "      <td>Biggest event Indian economy event manager self mythologising events</td>\n",
       "    </tr>\n",
       "    <tr>\n",
       "      <th>2</th>\n",
       "      <td>2</td>\n",
       "      <td>1.0</td>\n",
       "      <td>0.9497</td>\n",
       "      <td>world, PM, proud, people, country, speech, great, leader, event, Indian</td>\n",
       "      <td>PM speech president isthe leader world largest democracy leader world oldest democracy share platform</td>\n",
       "    </tr>\n",
       "    <tr>\n",
       "      <th>3</th>\n",
       "      <td>3</td>\n",
       "      <td>2.0</td>\n",
       "      <td>0.5167</td>\n",
       "      <td>Islamic, election, Proud, fine, Radical, Great, PM, terror, sir, real</td>\n",
       "      <td>real face radical behaviour dangerous jihad integral Muslim culture</td>\n",
       "    </tr>\n",
       "    <tr>\n",
       "      <th>4</th>\n",
       "      <td>4</td>\n",
       "      <td>1.0</td>\n",
       "      <td>0.7500</td>\n",
       "      <td>world, PM, proud, people, country, speech, great, leader, event, Indian</td>\n",
       "      <td>great day</td>\n",
       "    </tr>\n",
       "    <tr>\n",
       "      <th>5</th>\n",
       "      <td>5</td>\n",
       "      <td>1.0</td>\n",
       "      <td>0.5384</td>\n",
       "      <td>world, PM, proud, people, country, speech, great, leader, event, Indian</td>\n",
       "      <td>great leader tax cut event</td>\n",
       "    </tr>\n",
       "    <tr>\n",
       "      <th>6</th>\n",
       "      <td>6</td>\n",
       "      <td>3.0</td>\n",
       "      <td>0.7284</td>\n",
       "      <td>event, terrorism, Indian, American, new, PM, time, big, people, radical</td>\n",
       "      <td>Sad ignorant rightful polite decline event event joint venture political event political party fund raising official event</td>\n",
       "    </tr>\n",
       "    <tr>\n",
       "      <th>7</th>\n",
       "      <td>7</td>\n",
       "      <td>1.0</td>\n",
       "      <td>0.8484</td>\n",
       "      <td>world, PM, proud, people, country, speech, great, leader, event, Indian</td>\n",
       "      <td>refugee camps years WAITING</td>\n",
       "    </tr>\n",
       "    <tr>\n",
       "      <th>8</th>\n",
       "      <td>8</td>\n",
       "      <td>3.0</td>\n",
       "      <td>0.5690</td>\n",
       "      <td>event, terrorism, Indian, American, new, PM, time, big, people, radical</td>\n",
       "      <td>state elections costliest elections world freebies worth lakh crores rich voice failures fascist government</td>\n",
       "    </tr>\n",
       "    <tr>\n",
       "      <th>9</th>\n",
       "      <td>9</td>\n",
       "      <td>2.0</td>\n",
       "      <td>0.3611</td>\n",
       "      <td>Islamic, election, Proud, fine, Radical, Great, PM, terror, sir, real</td>\n",
       "      <td>indian people joker joke stupid things amazing comedian</td>\n",
       "    </tr>\n",
       "  </tbody>\n",
       "</table>\n",
       "</div>"
      ],
      "text/plain": [
       "   Document_No  Dominant_Topic  Topic_Perc_Contrib  \\\n",
       "0  0            0.0             0.6250               \n",
       "1  1            3.0             0.6802               \n",
       "2  2            1.0             0.9497               \n",
       "3  3            2.0             0.5167               \n",
       "4  4            1.0             0.7500               \n",
       "5  5            1.0             0.5384               \n",
       "6  6            3.0             0.7284               \n",
       "7  7            1.0             0.8484               \n",
       "8  8            3.0             0.5690               \n",
       "9  9            2.0             0.3611               \n",
       "\n",
       "                                                                  Keywords  \\\n",
       "0  , today, family, best, money, Today, hand, respect, minister, things      \n",
       "1  event, terrorism, Indian, American, new, PM, time, big, people, radical   \n",
       "2  world, PM, proud, people, country, speech, great, leader, event, Indian   \n",
       "3  Islamic, election, Proud, fine, Radical, Great, PM, terror, sir, real     \n",
       "4  world, PM, proud, people, country, speech, great, leader, event, Indian   \n",
       "5  world, PM, proud, people, country, speech, great, leader, event, Indian   \n",
       "6  event, terrorism, Indian, American, new, PM, time, big, people, radical   \n",
       "7  world, PM, proud, people, country, speech, great, leader, event, Indian   \n",
       "8  event, terrorism, Indian, American, new, PM, time, big, people, radical   \n",
       "9  Islamic, election, Proud, fine, Radical, Great, PM, terror, sir, real     \n",
       "\n",
       "                                                                                                                         Text  \n",
       "0  best                                                                                                                        \n",
       "1  Biggest event Indian economy event manager self mythologising events                                                        \n",
       "2  PM speech president isthe leader world largest democracy leader world oldest democracy share platform                       \n",
       "3  real face radical behaviour dangerous jihad integral Muslim culture                                                         \n",
       "4  great day                                                                                                                   \n",
       "5  great leader tax cut event                                                                                                  \n",
       "6  Sad ignorant rightful polite decline event event joint venture political event political party fund raising official event  \n",
       "7  refugee camps years WAITING                                                                                                 \n",
       "8  state elections costliest elections world freebies worth lakh crores rich voice failures fascist government                 \n",
       "9  indian people joker joke stupid things amazing comedian                                                                     "
      ]
     },
     "execution_count": 160,
     "metadata": {},
     "output_type": "execute_result"
    }
   ],
   "source": [
    "def format_topics_sentences(ldamodel, corpus, texts):\n",
    "    # Init output\n",
    "    sent_topics_df = pd.DataFrame()\n",
    "\n",
    "    # Get main topic in each document\n",
    "    for i, row in enumerate(ldamodel[corpus]):\n",
    "        \n",
    "        row = sorted(row, key=lambda x: (x[1]), reverse=True)\n",
    "        # Get the Dominant topic, Perc Contribution and Keywords for each document\n",
    "        for j, (topic_num, prop_topic) in enumerate(row):\n",
    "            if j == 0:  # => dominant topic\n",
    "                wp = ldamodel.show_topic(topic_num)\n",
    "                topic_keywords = \", \".join([word for word, prop in wp])\n",
    "                sent_topics_df = sent_topics_df.append(pd.Series([int(topic_num), round(prop_topic,4), topic_keywords]), ignore_index=True)\n",
    "            else:\n",
    "                break\n",
    "    sent_topics_df.columns = ['Dominant_Topic', 'Perc_Contribution', 'Topic_Keywords']\n",
    "\n",
    "    # Add original text to the end of the output\n",
    "    contents = pd.Series(texts)\n",
    "    sent_topics_df = pd.concat([sent_topics_df, contents], axis=1)\n",
    "    return(sent_topics_df)\n",
    "\n",
    "\n",
    "df_topic_sents_keywords = format_topics_sentences(ldamodel=lda_model, corpus=doc_term_matrix, texts=corpus)\n",
    "\n",
    "# Format\n",
    "df_dominant_topic = df_topic_sents_keywords.reset_index()\n",
    "df_dominant_topic.columns = ['Document_No', 'Dominant_Topic', 'Topic_Perc_Contrib', 'Keywords', 'Text']\n",
    "\n",
    "# Show\n",
    "df_dominant_topic.head(10)"
   ]
  },
  {
   "cell_type": "code",
   "execution_count": 161,
   "metadata": {},
   "outputs": [
    {
     "data": {
      "text/plain": [
       "-8.045201419757252"
      ]
     },
     "execution_count": 161,
     "metadata": {},
     "output_type": "execute_result"
    }
   ],
   "source": [
    "lda_model.log_perplexity(doc_term_matrix)"
   ]
  },
  {
   "cell_type": "code",
   "execution_count": null,
   "metadata": {},
   "outputs": [],
   "source": []
  }
 ],
 "metadata": {
  "kernelspec": {
   "display_name": "Python 3",
   "language": "python",
   "name": "python3"
  },
  "language_info": {
   "codemirror_mode": {
    "name": "ipython",
    "version": 3
   },
   "file_extension": ".py",
   "mimetype": "text/x-python",
   "name": "python",
   "nbconvert_exporter": "python",
   "pygments_lexer": "ipython3",
   "version": "3.7.3"
  }
 },
 "nbformat": 4,
 "nbformat_minor": 2
}
